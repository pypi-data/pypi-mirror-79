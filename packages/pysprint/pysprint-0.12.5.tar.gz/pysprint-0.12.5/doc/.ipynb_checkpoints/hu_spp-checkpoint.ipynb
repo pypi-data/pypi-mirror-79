{
 "cells": [
  {
   "cell_type": "markdown",
   "metadata": {},
   "source": [
    "## 5. Állandó fázisú pont módszere, SPPMethod\n",
    "\n",
    "Ez a módszer alapjaiban kissé különbözik a többitől. Az előzőleg leírt globális metódusok, mint domain átváltás, kivágás, stb. itt is működnek, de másképpen kell kezelni őket. *Megjegyezném, hogy mivel ez a módszer interaktív elemet tartalmaz még Spyderben nem működik konzisztensen, azt javaslom, hogy egyelőre ezt mindenképpen Jupyter Notebook-ban használjuk.*"
   ]
  },
  {
   "cell_type": "code",
   "execution_count": 2,
   "metadata": {},
   "outputs": [],
   "source": [
    "import numpy as np\n",
    "import matplotlib.pyplot as plt\n",
    "import pysprint as ps"
   ]
  },
  {
   "cell_type": "markdown",
   "metadata": {},
   "source": [
    "Példaként a korábban már bemutatott `ps.Generator` segítségével generálni fogok egy sorozat interferogramot, majd azon bemutatom a kiértékelés menetét. Valós méréseknél teljesen hasonlóképpen végezhető a kiértékelés. A legegyszerűbb módszer, hogy különböző karok közti időbeli késleltetésnél generáljunk és elmentsük azokat az alábbi cellában látható. A megkülönböztethetőség miatt minden fájlt a hozzá tartozó karok közti időbeli késleltetésnek megfelelően nevezem el."
   ]
  },
  {
   "cell_type": "code",
   "execution_count": 3,
   "metadata": {},
   "outputs": [],
   "source": [
    "for delay in range(-200, 201, 50):\n",
    "    g = ps.Generator(1, 3, 2, delay, GDD=400, TOD=-500, normalize=True)\n",
    "    g.generate_freq()\n",
    "    np.savetxt(f'{delay}.txt', np.transpose([g.x, g.y]), delimiter=',')"
   ]
  },
  {
   "cell_type": "markdown",
   "metadata": {},
   "source": [
    "A kód lefuttatásával a munkafüzet környtárában megjelent 7 új txt fájl. \n",
    "\n",
    "Ehhez a kiértékelési módszerhez először fel kell építeni egy listát a felhasználandó interferogramok fájlneveivel. Ezt manuálisan is megtehetjük, itt ezt elkerülve egy rövidítést fogok használni."
   ]
  },
  {
   "cell_type": "code",
   "execution_count": 4,
   "metadata": {},
   "outputs": [],
   "source": [
    "ifg_files = [f\"{delay}.txt\" for delay in range(-200, 201, 50)]"
   ]
  },
  {
   "cell_type": "code",
   "execution_count": 5,
   "metadata": {},
   "outputs": [
    {
     "name": "stdout",
     "output_type": "stream",
     "text": [
      "['-200.txt', '-150.txt', '-100.txt', '-50.txt', '0.txt', '50.txt', '100.txt', '150.txt', '200.txt']\n"
     ]
    }
   ],
   "source": [
    "print(ifg_files)"
   ]
  },
  {
   "cell_type": "markdown",
   "metadata": {},
   "source": [
    "Ha nem hasonló sémára épülnek a felhasználandó fájlok nevei, akkor természetesen a fenti trükk nem működik és egyenként kell beírnunk őket. Miután definiáltuk a fájlneveket a következő lépés a\n",
    "```python\n",
    "ps.SPPMethod(ifg_names, sam_names=None, ref_names=None, **kwargs)\n",
    "```\n",
    "meghívása:"
   ]
  },
  {
   "cell_type": "code",
   "execution_count": 6,
   "metadata": {},
   "outputs": [],
   "source": [
    "myspp = ps.SPPMethod(ifg_files, decimal=\".\", sep=\",\", skiprows=0, meta_len=0)"
   ]
  },
  {
   "cell_type": "markdown",
   "metadata": {},
   "source": [
    "A `**kwargs` keyword argumentumok itt elfogadják a korábban már bemutatott `parse_raw` funkció argumentumait (a kódban belül azt is hívja meg egyesével minden interferogramon), hiszen a fájlok sémáját itt is fontos megadni a helyes betöltéshez. A tárgy- és referencianyaláb spektrumai természetesen opcionális argumentumok, mi dönthetjük el, hogy normáljuk-e az interferogramokat.\n",
    "\n",
    "Az `SPPMethod` objektum először ellenőrzi, hogy a listában lévő fájlnevek valóban léteznek-e, és ha nem, akkor hibával tér vissza. Az `SPPMethod`-nak vannak további metódusai, ilyen pl. a `len(..)`, vagy az `SPPMethod.info`. Az első visszaadja, hogy hány interferogram van jelenleg az objektumban (ez jelen esetben 7), a második pedig a kiértékelés során mutatja majd, hogy hány interferogramból rögzítettünk információt (ez jelenleg 0/7). Később talán `append`, `insert` és `delete` metódusokat is beépítek."
   ]
  },
  {
   "cell_type": "code",
   "execution_count": 7,
   "metadata": {},
   "outputs": [
    {
     "name": "stdout",
     "output_type": "stream",
     "text": [
      "9\n"
     ]
    }
   ],
   "source": [
    "print(len(myspp))"
   ]
  },
  {
   "cell_type": "code",
   "execution_count": 8,
   "metadata": {},
   "outputs": [
    {
     "name": "stdout",
     "output_type": "stream",
     "text": [
      "Progress: 0/9\n"
     ]
    }
   ],
   "source": [
    "print(myspp.info)"
   ]
  },
  {
   "cell_type": "markdown",
   "metadata": {},
   "source": [
    "Az SPPMethod objektum listaszerűen viselkedik: lehet indexelni is. Mivel benne 7 darab interferogram van, ezért egy ilyen indexelés egy `ps.Dataset` objektumot ad vissza. Ez az alapja minden kiértékelési módszernek, (pl. az előbbi leírásbeli `ps.CosFitMethod`-nak is) így ez ismeri a korábban bemutatott metódusokat. Tegyük fel, hogy a 3. interferogram adatait ki szeretnénk iratni, és szeretnénk megkapni az y értékeit `np.ndarray`-ként. Ekkor a 2 indexet használva (mivel itt is 0-tól indul a számozás):"
   ]
  },
  {
   "cell_type": "code",
   "execution_count": 10,
   "metadata": {},
   "outputs": [
    {
     "data": {
      "text/html": [
       "\n",
       "        <div id=\"header\" style=\"height:10%;width:100%;\">\n",
       "        <div style='float:left'>\n",
       "        <table style=\"border:1px solid black;float:top;\">\n",
       "        <tbody>\n",
       "        <tr>\n",
       "        <td colspan=2 style=\"text-align:center\">\n",
       "        <font size=\"5\">Dataset</font>\n",
       "        </td>\n",
       "        </tr>\n",
       "        <tr>\n",
       "        <td colspan=2 style=\"text-align:center\">\n",
       "        <font size=\"3.5\">Parameters</font>\n",
       "        </td>\n",
       "        </tr>\n",
       "        <tr>\n",
       "        <td style=\"text-align:center\"><b>Datapoints<b></td>\n",
       "            <td style=\"text-align:center\"> 12559</td>\n",
       "        </tr>\n",
       "        <tr>\n",
       "            <td style=\"text-align:center\"><b>Predicted domain<b> </td>\n",
       "            <td style=\"text-align:center\"> frequency </td>\n",
       "        </tr>\n",
       "        <tr>\n",
       "        <td style=\"text-align:center\"> <b>Range min</b> </td>\n",
       "        <td style=\"text-align:center\">1.000 PHz</td>\n",
       "        </tr>\n",
       "        <tr>\n",
       "        <td style=\"text-align:center\"> <b>Range max</b> </td>\n",
       "        <td style=\"text-align:center\">3.000 PHz</td>\n",
       "        </tr>\n",
       "        <tr>\n",
       "        <td style=\"text-align:center\"> <b>Normalized</b></td>\n",
       "        <td style=\"text-align:center\"> False </td>\n",
       "        </tr>\n",
       "        <tr>\n",
       "        <td style=\"text-align:center\"><b>Delay value</b></td>\n",
       "        <td style=\"text-align:center\">Not given</td>\n",
       "        </tr>\n",
       "        <tr>\n",
       "        <td style=\"text-align:center\"><b>SPP position(s)</b></td>\n",
       "        <td style=\"text-align:center\">Not given</td>\n",
       "        </tr>\n",
       "        <tr>\n",
       "        <td colspan=2 style=\"text-align:center\">\n",
       "        <font size=\"3.5\">Metadata</font>\n",
       "        </td>\n",
       "        </tr>\n",
       "        \n",
       "        \n",
       "            </tbody>\n",
       "        </table>\n",
       "        </div>\n",
       "        <div style='float:leftt'><img src='data:image/png;base64,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'>"
      ],
      "text/plain": [
       "<pysprint.core.bases.dataset.Dataset at 0x256c1999048>"
      ]
     },
     "execution_count": 10,
     "metadata": {},
     "output_type": "execute_result"
    }
   ],
   "source": [
    "# a harmadik interferogram adatainak kiíratása\n",
    "myspp[2]"
   ]
  },
  {
   "cell_type": "code",
   "execution_count": 11,
   "metadata": {},
   "outputs": [
    {
     "name": "stdout",
     "output_type": "stream",
     "text": [
      "[4.22567237e-08 4.23424876e-08 4.24102757e-08 ... 4.41394357e-08\n",
      " 4.30227521e-08 4.18888151e-08]\n",
      "<class 'numpy.ndarray'>\n"
     ]
    }
   ],
   "source": [
    "# a harmadik interferogram y értékeinek kinyerése, mint np.array\n",
    "y_ertekek = myspp[2].data.y.values\n",
    "print(y_ertekek)\n",
    "print(type(y_ertekek))"
   ]
  },
  {
   "cell_type": "markdown",
   "metadata": {},
   "source": [
    "Újra hangsúlyozom, minden eddig bemutatott metódus ezeken a kvázi listaelemeken is működik, köztük a `chdomain`, vagy `slice` is. Ezt használjuk ki a kiértékeléshez egy *for* ciklusban. A kiértékeléshez a definiált `SPPMethod`-on meg kell hívni egy for ciklust. Ez végigfut a benne lévő összes interferogramon. Azt, hogy mit akarunk csinálni adott interferogrammal, azt a cikluson belül tudjuk megadni. Az alapvető séma a következő:\n",
    "<pre>\n",
    "for ifg in myspp:\n",
    "    - előfeldolgozása az adott interferogramnak\n",
    "    - az interaktív SPP Panel megnyitása\n",
    "    - <del>a beírt adatok rögzítése</del> (0.12.2 verzióban már nem szükséges)\n",
    "    \n",
    "- a calculate metódus meghívása a cikluson kívül(!)\n",
    "</pre>\n",
    "\n",
    "Ez kód formájában az alábbi cellában látható. Itt külön jelöltem, hogy melyik rész meddig tart."
   ]
  },
  {
   "cell_type": "code",
   "execution_count": 10,
   "metadata": {},
   "outputs": [
    {
     "data": {
      "text/latex": [
       "$\\displaystyle GD = -2.49588 ± 3.39477 fs^1$"
      ],
      "text/plain": [
       "<IPython.core.display.Math object>"
      ]
     },
     "metadata": {},
     "output_type": "display_data"
    },
    {
     "data": {
      "text/latex": [
       "$\\displaystyle GDD = 361.73993 ± 11.91473 fs^2$"
      ],
      "text/plain": [
       "<IPython.core.display.Math object>"
      ]
     },
     "metadata": {},
     "output_type": "display_data"
    },
    {
     "data": {
      "text/latex": [
       "$\\displaystyle TOD = -121.09662 ± 131.29093 fs^3$"
      ],
      "text/plain": [
       "<IPython.core.display.Math object>"
      ]
     },
     "metadata": {},
     "output_type": "display_data"
    }
   ],
   "source": [
    "# fontos ezt meghívni az interaktív számítások előtt\n",
    "\n",
    "with ps.interactive():\n",
    "\n",
    "    for ifg in myspp:\n",
    "\n",
    "        # -----------------------------------Előfeldolgozás-----------------------------------------\n",
    "        # Ha valós mérésünk van, érdemes valamilyen módon kiíratni a kommentet,\n",
    "        # ami az interferogram fájlban van, hogy meg tudjuk állapítani milyen késleltetésnél készült.\n",
    "        # Jelen esetben ennek nincs értelme, mivel a szimulált fájlokkal dolgozom.\n",
    "        # Ezt legegyszerűbben az alábbi sorral tehetnénk meg: \n",
    "        # print(ifg.meta['comment'])\n",
    "        # vagy esetleg a teljes metaadatok kiíratása:\n",
    "        # print(ifg.meta)\n",
    "\n",
    "        # Ha hullámhossztartományban vagyunk, először át kell váltani.\n",
    "        # Én frekvenciatartományban szimuláltam, ezért itt kihagyom. Ha szükség van rá a\n",
    "        # következő sort kell használni.\n",
    "        # ifg.chdomain() \n",
    "\n",
    "        # Pl. 1.2 PHz alatti körfrekvenciaértékek kivágása. Mivel nem adtam meg stop értéket, így a felső\n",
    "        # határt érintetlenül hagyná, ha futtatnám. Nyilván ez is opcionális.\n",
    "        # ifg.slice(start=1.2)\n",
    "\n",
    "        # -----------------------------Az interaktív panel megnyitása-------------------------------\n",
    "        ifg.open_SPP_panel()\n",
    "\n",
    "# ---------------------------------A ciklus utáni rész------------------------------------------\n",
    "# A cikluson kívül a save_data metódus meghívása, hogy elmentsük a beírt adatainkat fájlba is.\n",
    "# Ez természetesen opcionális, de annak érdekében, hogy ne veszítsünk adatot érdemes ezt is elvégezni.\n",
    "myspp.save_data('spp.txt')\n",
    "\n",
    "\n",
    "# a cikluson kívül meghívjuk a calculate függvényt\n",
    "myspp.calculate(reference_point=2, order=3);"
   ]
  },
  {
   "cell_type": "markdown",
   "metadata": {},
   "source": [
    "Az eddigiek alapján a kiértékelés hosszadalmasnak tűnhet, de ha a magyarázatokat kivesszük, szimulált esetben az egész kód az alábbi, összesen 7 sorra egyszerűsödik. Valós mérés esetén néhány előfeldolgozási lépés és printelés természetesen még hozzáadódik ehhez.\n",
    "\n",
    "```python\n",
    "ifg_files = [f\"{delay}.txt\" for delay in range(-200, 201, 50)]\n",
    "\n",
    "s = ps.SPPMethod(ifg_files, decimal=\".\", sep=\",\", skiprows=0, meta_len=0)\n",
    "\n",
    "with ps.interactive():\n",
    "    for ifg in s:\n",
    "        ifg.open_SPP_panel()\n",
    "    \n",
    "s.save_data('spp.txt')\n",
    "s.calculate(reference_point=2, order=2, show_graph=True)\n",
    "```\n",
    "\n",
    "Mivel az `spp.txt` fájlba elmentettük az bevitt adatokat, azokból egyszerűen lehet újraszámolni az illesztést. Töltsük be `np.loadtxt` segítségével, majd használjuk a `ps.SPPMethod.calculate_from_raw` függvényt."
   ]
  },
  {
   "cell_type": "code",
   "execution_count": 11,
   "metadata": {},
   "outputs": [
    {
     "data": {
      "text/latex": [
       "$\\displaystyle GD = -2.49588 ± 3.39477 fs^1$"
      ],
      "text/plain": [
       "<IPython.core.display.Math object>"
      ]
     },
     "metadata": {},
     "output_type": "display_data"
    },
    {
     "data": {
      "text/latex": [
       "$\\displaystyle GDD = 361.73993 ± 11.91473 fs^2$"
      ],
      "text/plain": [
       "<IPython.core.display.Math object>"
      ]
     },
     "metadata": {},
     "output_type": "display_data"
    },
    {
     "data": {
      "text/latex": [
       "$\\displaystyle TOD = -121.09662 ± 131.29093 fs^3$"
      ],
      "text/plain": [
       "<IPython.core.display.Math object>"
      ]
     },
     "metadata": {},
     "output_type": "display_data"
    }
   ],
   "source": [
    "delay, position = np.loadtxt('spp.txt', delimiter=',', unpack=True)\n",
    "\n",
    "myspp.calculate_from_raw(delay, position, reference_point=2, order=3);"
   ]
  },
  {
   "cell_type": "markdown",
   "metadata": {},
   "source": [
    "Itt látható, hogy ugyan azt az eredményt kaptuk, mint előzőleg. Ez akkor is hasznos lehet, ha már megvannak a leolvasott SPP pozícióink a hozzá tartozó késleltetésekkel és csak a számolást akarjuk elvégezni. Ekkor még létre sem kell hozni egy új objektumot, csak meghívhatjuk a függvényt következő módon:"
   ]
  },
  {
   "cell_type": "code",
   "execution_count": 12,
   "metadata": {},
   "outputs": [
    {
     "data": {
      "text/latex": [
       "$\\displaystyle GD = -2.02949 ± 0.01220 fs^1$"
      ],
      "text/plain": [
       "<IPython.core.display.Math object>"
      ]
     },
     "metadata": {},
     "output_type": "display_data"
    },
    {
     "data": {
      "text/latex": [
       "$\\displaystyle GDD = -0.00038 ± 0.00006 fs^2$"
      ],
      "text/plain": [
       "<IPython.core.display.Math object>"
      ]
     },
     "metadata": {},
     "output_type": "display_data"
    },
    {
     "data": {
      "text/latex": [
       "$\\displaystyle TOD = -0.00000 ± 0.00000 fs^3$"
      ],
      "text/plain": [
       "<IPython.core.display.Math object>"
      ]
     },
     "metadata": {},
     "output_type": "display_data"
    }
   ],
   "source": [
    "# ehhez beírtam egy teljesen véletlenszerű adatsort\n",
    "delay_minta = [-100, 200, 500, 700, 900]\n",
    "position_minta = [2, 2.1, 2.3, 2.45, 2.6]\n",
    "\n",
    "ps.SPPMethod.calculate_from_raw(delay_minta, position_minta, reference_point=2, order=3);"
   ]
  },
  {
   "cell_type": "markdown",
   "metadata": {},
   "source": [
    "**FONTOS MEGJEGYZÉS:**\n",
    "\n",
    "Az `order` argumentum a program során mindig a keresett diszperzió rendjét adja meg."
   ]
  },
  {
   "cell_type": "markdown",
   "metadata": {},
   "source": [
    "#### További módszer"
   ]
  },
  {
   "cell_type": "markdown",
   "metadata": {},
   "source": [
    "Korábban már észrevehettük, hogy a kiíratás során - legyen bármilyen módszerről is szó - megjelentek olyan sorok is, hogy `Delay value: Not given` és `SPP position(s): Not given`. Például a `myspp` első interferogramja esetén:"
   ]
  },
  {
   "cell_type": "code",
   "execution_count": 13,
   "metadata": {},
   "outputs": [
    {
     "data": {
      "text/html": [
       "\n",
       "        <div id=\"header\" style=\"height:10%;width:100%;\">\n",
       "        <div style='float:left'>\n",
       "        <table style=\"border:1px solid black;float:top;\">\n",
       "        <tbody>\n",
       "        <tr>\n",
       "        <td colspan=2 style=\"text-align:center\">\n",
       "        <font size=\"5\">Dataset</font>\n",
       "        </td>\n",
       "        </tr>\n",
       "        <tr>\n",
       "        <td colspan=2 style=\"text-align:center\">\n",
       "        <font size=\"3.5\">Parameters</font>\n",
       "        </td>\n",
       "        </tr>\n",
       "        <tr>\n",
       "        <td style=\"text-align:center\"><b>Datapoints<b></td>\n",
       "            <td style=\"text-align:center\"> 12559</td>\n",
       "        </tr>\n",
       "        <tr>\n",
       "            <td style=\"text-align:center\"><b>Predicted domain<b> </td>\n",
       "            <td style=\"text-align:center\"> frequency </td>\n",
       "        </tr>\n",
       "        <tr>\n",
       "        <td style=\"text-align:center\"> <b>Range min</b> </td>\n",
       "        <td style=\"text-align:center\">1.000 PHz</td>\n",
       "        </tr>\n",
       "        <tr>\n",
       "        <td style=\"text-align:center\"> <b>Range max</b> </td>\n",
       "        <td style=\"text-align:center\">3.000 PHz</td>\n",
       "        </tr>\n",
       "        <tr>\n",
       "        <td style=\"text-align:center\"> <b>Normalized</b></td>\n",
       "        <td style=\"text-align:center\"> False </td>\n",
       "        </tr>\n",
       "        <tr>\n",
       "        <td style=\"text-align:center\"><b>Delay value</b></td>\n",
       "        <td style=\"text-align:center\">Not given</td>\n",
       "        </tr>\n",
       "        <tr>\n",
       "        <td style=\"text-align:center\"><b>SPP position(s)</b></td>\n",
       "        <td style=\"text-align:center\">Not given</td>\n",
       "        </tr>\n",
       "        <tr>\n",
       "        <td colspan=2 style=\"text-align:center\">\n",
       "        <font size=\"3.5\">Metadata</font>\n",
       "        </td>\n",
       "        </tr>\n",
       "        \n",
       "        \n",
       "            </tbody>\n",
       "        </table>\n",
       "        </div>\n",
       "        <div style='float:leftt'><img src='data:image/png;base64,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'>"
      ],
      "text/plain": [
       "<pysprint.core.bases.dataset.Dataset at 0x256c3bf3888>"
      ]
     },
     "execution_count": 13,
     "metadata": {},
     "output_type": "execute_result"
    }
   ],
   "source": [
    "myspp[0]"
   ]
  },
  {
   "cell_type": "markdown",
   "metadata": {},
   "source": [
    "Ahogyan a `Dataset` leírásában már szerepelt, lehetőségünk van megadni a betöltött interferogramokon az SPP módszerhez szükséges adatokat. Ekkor a `ps.SPPMethod.calculate_from_ifg(ifgs, reference_point, order)` függvénnyel kiértékelhetjük a benne lévő interferogramokat a következő módon:"
   ]
  },
  {
   "cell_type": "code",
   "execution_count": 14,
   "metadata": {},
   "outputs": [],
   "source": [
    "# kicsomagolok öt interferogramot a generált 7 közül\n",
    "\n",
    "elso_ifg = myspp[0]\n",
    "masodik_ifg = myspp[1]\n",
    "harmadik_ifg = myspp[2]\n",
    "negyedik_ifg = myspp[3]\n",
    "otodik_ifg = myspp[4]"
   ]
  },
  {
   "cell_type": "code",
   "execution_count": 15,
   "metadata": {},
   "outputs": [],
   "source": [
    "# beállítok rájuk véletlenszerűen SPP adatokat\n",
    "\n",
    "elso_ifg.delay = 0\n",
    "elso_ifg.positions = 2\n",
    "\n",
    "masodik_ifg.delay = 100\n",
    "masodik_ifg.positions = 2\n",
    "\n",
    "harmadik_ifg.delay = 150\n",
    "harmadik_ifg.positions = 1.6\n",
    "\n",
    "negyedik_ifg.delay = 200\n",
    "negyedik_ifg.positions = 1.2\n",
    "\n",
    "otodik_ifg.delay = 250\n",
    "otodik_ifg.positions = 1, 3, 1.2\n",
    "\n",
    "\n",
    "# listába teszem őket\n",
    "ifgs = [elso_ifg, masodik_ifg, harmadik_ifg, negyedik_ifg, otodik_ifg]"
   ]
  },
  {
   "cell_type": "code",
   "execution_count": 16,
   "metadata": {},
   "outputs": [
    {
     "data": {
      "text/latex": [
       "$\\displaystyle GD = -71.99707 ± 31.03655 fs^1$"
      ],
      "text/plain": [
       "<IPython.core.display.Math object>"
      ]
     },
     "metadata": {},
     "output_type": "display_data"
    },
    {
     "data": {
      "text/latex": [
       "$\\displaystyle GDD = 19.90037 ± 30.07946 fs^2$"
      ],
      "text/plain": [
       "<IPython.core.display.Math object>"
      ]
     },
     "metadata": {},
     "output_type": "display_data"
    },
    {
     "data": {
      "text/latex": [
       "$\\displaystyle TOD = -381.52310 ± 94.83666 fs^3$"
      ],
      "text/plain": [
       "<IPython.core.display.Math object>"
      ]
     },
     "metadata": {},
     "output_type": "display_data"
    }
   ],
   "source": [
    "# meghívom a calculate_from_ifg függvényt\n",
    "ps.SPPMethod.calculate_from_ifg(ifgs, reference_point=2, order=3);"
   ]
  },
  {
   "cell_type": "markdown",
   "metadata": {},
   "source": [
    "Ez úgy lehet hasznos, hogy amikor más módszerrel több interferogramot is kiértékelünk egymás után, csak rögzítjük az SPP adatokat is, aztán a program ezekből egyenként összegyűjti a szükséges információt a kiértékeléshez, majd abból számol."
   ]
  }
 ],
 "metadata": {
  "kernelspec": {
   "display_name": "Python 3",
   "language": "python",
   "name": "python3"
  },
  "language_info": {
   "codemirror_mode": {
    "name": "ipython",
    "version": 3
   },
   "file_extension": ".py",
   "mimetype": "text/x-python",
   "name": "python",
   "nbconvert_exporter": "python",
   "pygments_lexer": "ipython3",
   "version": "3.7.6"
  }
 },
 "nbformat": 4,
 "nbformat_minor": 4
}
