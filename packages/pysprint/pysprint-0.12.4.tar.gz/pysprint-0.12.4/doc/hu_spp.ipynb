{
 "cells": [
  {
   "cell_type": "markdown",
   "metadata": {},
   "source": [
    "## 5. Állandó fázisú pont módszere, SPPMethod\n",
    "\n",
    "Ez a módszer alapjaiban kissé különbözik a többitől. Az előzőleg leírt globális metódusok, mint domain átváltás, kivágás, stb. itt is működnek, de másképpen kell kezelni őket. A leírás alapján elsőre bonyolultnak tűnhet, de a magyarázatok után összerakva prezentálok egy teljes kiértékelést, ahol jobban látszik majd az egyszerűsége. A lenti teljes példát akár sablonként is lehet használni a kiértékelésekhez. *Megjegyezném, hogy mivel ez a módszer interaktív elemet tartalmaz még Spyderben nem működik konzisztensen, azt javaslom, hogy egyelőre ezt mindenképpen Jupyter Notebook-ban használjuk.*"
   ]
  },
  {
   "cell_type": "code",
   "execution_count": 1,
   "metadata": {},
   "outputs": [],
   "source": [
    "import numpy as np\n",
    "import matplotlib.pyplot as plt\n",
    "import pysprint as ps"
   ]
  },
  {
   "cell_type": "markdown",
   "metadata": {},
   "source": [
    "Példaként a korábban már bemutatott `ps.Generator` segítségével generálni fogok egy sorozat interferogramot, majd azon bemutatom a kiértékelés menetét. Valós méréseknél teljesen hasonlóképpen végezhető a kiértékelés. A legegyszerűbb módszer, hogy különböző karok közti időbeli késleltetésnél generáljunk és elmentsük azokat az alábbi cellában látható. A megkülönböztethetőség miatt minden fájlt a hozzá tartozó karok közti időbeli késleltetésnek megfelelően nevezem el."
   ]
  },
  {
   "cell_type": "code",
   "execution_count": 2,
   "metadata": {},
   "outputs": [],
   "source": [
    "for delay in range(-200, 201, 50):\n",
    "    g = ps.Generator(1, 3, 2, delay, GDD=400, TOD=-500, normalize=True)\n",
    "    g.generate_freq()\n",
    "    np.savetxt(f'{delay}.txt', np.transpose([g.x, g.y]), delimiter=',')"
   ]
  },
  {
   "cell_type": "markdown",
   "metadata": {},
   "source": [
    "A kód lefuttatásával a munkafüzet környtárában megjelent 7 új txt fájl. \n",
    "\n",
    "Ehhez a kiértékelési módszerhez először fel kell építeni egy listát a felhasználandó interferogramok fájlneveivel. Ezt manuálisan is megtehetjük, itt ezt elkerülve egy rövidítést fogok használni."
   ]
  },
  {
   "cell_type": "code",
   "execution_count": 3,
   "metadata": {},
   "outputs": [],
   "source": [
    "ifg_files = [f\"{delay}.txt\" for delay in range(-200, 201, 50)]"
   ]
  },
  {
   "cell_type": "code",
   "execution_count": 4,
   "metadata": {},
   "outputs": [
    {
     "name": "stdout",
     "output_type": "stream",
     "text": [
      "['-200.txt', '-150.txt', '-100.txt', '-50.txt', '0.txt', '50.txt', '100.txt', '150.txt', '200.txt']\n"
     ]
    }
   ],
   "source": [
    "print(ifg_files)"
   ]
  },
  {
   "cell_type": "markdown",
   "metadata": {},
   "source": [
    "Ha nem hasonló sémára épülnek a felhasználandó fájlok nevei, akkor természetesen a fenti trükk nem működik és egyenként kell beírnunk őket. Miután definiáltuk a fájlneveket a következő lépés a\n",
    "```python\n",
    "ps.SPPMethod(ifg_names, sam_names=None, ref_names=None, **kwargs)\n",
    "```\n",
    "meghívása:"
   ]
  },
  {
   "cell_type": "code",
   "execution_count": 5,
   "metadata": {},
   "outputs": [],
   "source": [
    "myspp = ps.SPPMethod(ifg_files, decimal=\".\", sep=\",\", skiprows=0, meta_len=0)"
   ]
  },
  {
   "cell_type": "markdown",
   "metadata": {},
   "source": [
    "A `**kwargs` keyword argumentumok itt elfogadják a korábban már bemutatott `parse_raw` funkció argumentumait (a kódban belül azt is hívja meg egyesével minden interferogramon), hiszen a fájlok sémáját itt is fontos megadni a helyes betöltéshez. A tárgy- és referencianyaláb spektrumai természetesen opcionális argumentumok, mi dönthetjük el, hogy normáljuk-e az interferogramokat.\n",
    "\n",
    "Az `SPPMethod` objektum először ellenőrzi, hogy a listában lévő fájlnevek valóban léteznek-e, és ha nem, akkor hibával tér vissza. Az `SPPMethod`-nak vannak további metódusai, ilyen pl. a `len(..)`, vagy az `SPPMethod.info`. Az első visszaadja, hogy hány interferogram van jelenleg az objektumban (ez jelen esetben 7), a második pedig a kiértékelés során mutatja majd, hogy hány interferogramból rögzítettünk információt (ez jelenleg 0/7). Később talán `append`, `insert` és `delete` metódusokat is beépítek."
   ]
  },
  {
   "cell_type": "code",
   "execution_count": 6,
   "metadata": {},
   "outputs": [
    {
     "name": "stdout",
     "output_type": "stream",
     "text": [
      "9\n"
     ]
    }
   ],
   "source": [
    "print(len(myspp))"
   ]
  },
  {
   "cell_type": "code",
   "execution_count": 7,
   "metadata": {},
   "outputs": [
    {
     "name": "stdout",
     "output_type": "stream",
     "text": [
      "Progress: 0/9\n"
     ]
    }
   ],
   "source": [
    "print(myspp.info)"
   ]
  },
  {
   "cell_type": "markdown",
   "metadata": {},
   "source": [
    "Az SPPMethod objektum listaszerűen viselkedik: lehet indexelni is. Mivel benne 7 darab interferogram van, ezért egy ilyen indexelés egy `ps.Dataset` objektumot ad vissza. Ez az alapja minden kiértékelési módszernek, (pl. az előbbi leírásbeli `ps.CosFitMethod`-nak is) így ez ismeri a korábban bemutatott metódusokat. Tegyük fel, hogy a 3. interferogram adatait ki szeretnénk iratni, és szeretnénk megkapni az y értékeit `np.ndarray`-ként. Ekkor a 2 indexet használva (mivel itt is 0-tól indul a számozás):"
   ]
  },
  {
   "cell_type": "code",
   "execution_count": 8,
   "metadata": {},
   "outputs": [
    {
     "name": "stdout",
     "output_type": "stream",
     "text": [
      "Dataset\n",
      "----------\n",
      "Parameters\n",
      "----------\n",
      "Datapoints: 12559\n",
      "Predicted domain: frequency\n",
      "Range: from 1.000 to 3.000 PHz\n",
      "Normalized: False\n",
      "Delay value: Not given\n",
      "SPP position(s): Not given\n",
      "----------------------------\n",
      "Metadata extracted from file\n",
      "----------------------------\n",
      "{}\n"
     ]
    }
   ],
   "source": [
    "# a harmadik interferogram adatainak kiíratása\n",
    "print(myspp[2])"
   ]
  },
  {
   "cell_type": "code",
   "execution_count": 9,
   "metadata": {},
   "outputs": [
    {
     "name": "stdout",
     "output_type": "stream",
     "text": [
      "[4.22567237e-08 4.23424876e-08 4.24102757e-08 ... 4.41394357e-08\n",
      " 4.30227521e-08 4.18888151e-08]\n",
      "<class 'numpy.ndarray'>\n"
     ]
    }
   ],
   "source": [
    "# a harmadik interferogram y értékeinek kinyerése, mint np.array\n",
    "y_ertekek = myspp[2].data.y.values\n",
    "print(y_ertekek)\n",
    "print(type(y_ertekek))"
   ]
  },
  {
   "cell_type": "markdown",
   "metadata": {},
   "source": [
    "Újra hangsúlyozom, minden eddig bemutatott metódus ezeken a kvázi listaelemeken is működik, köztük a `chdomain`, vagy `slice` is. Ezt használjuk ki a kiértékeléshez egy *for* ciklusban. A kiértékeléshez a definiált `SPPMethod`-on meg kell hívni egy for ciklust. Ez végigfut a benne lévő összes interferogramon. Azt, hogy mit akarunk csinálni adott interferogrammal, azt a cikluson belül tudjuk megadni. Az alapvető séma a következő:\n",
    "<pre>\n",
    "for ifg in myspp:\n",
    "    - előfeldolgozása az adott interferogramnak\n",
    "    - az interaktív SPP Panel megnyitása\n",
    "    - <del>a beírt adatok rögzítése</del> (0.12.2 verzióban már nem szükséges)\n",
    "    \n",
    "- a calculate metódus meghívása a cikluson kívül(!)\n",
    "</pre>\n",
    "\n",
    "Ez kód formájában az alábbi cellában látható. Itt külön jelöltem, hogy melyik rész meddig tart."
   ]
  },
  {
   "cell_type": "code",
   "execution_count": 10,
   "metadata": {},
   "outputs": [
    {
     "data": {
      "text/latex": [
       "$\\displaystyle GD = -2.49588 ± 3.39477 fs^1$"
      ],
      "text/plain": [
       "<IPython.core.display.Math object>"
      ]
     },
     "metadata": {},
     "output_type": "display_data"
    },
    {
     "data": {
      "text/latex": [
       "$\\displaystyle GDD = 361.73993 ± 11.91473 fs^2$"
      ],
      "text/plain": [
       "<IPython.core.display.Math object>"
      ]
     },
     "metadata": {},
     "output_type": "display_data"
    },
    {
     "data": {
      "text/latex": [
       "$\\displaystyle TOD = -121.09662 ± 131.29093 fs^3$"
      ],
      "text/plain": [
       "<IPython.core.display.Math object>"
      ]
     },
     "metadata": {},
     "output_type": "display_data"
    }
   ],
   "source": [
    "# fontos ezt meghívni az interaktív számítások előtt\n",
    "\n",
    "with ps.interactive():\n",
    "\n",
    "    for ifg in myspp:\n",
    "\n",
    "        # -----------------------------------Előfeldolgozás-----------------------------------------\n",
    "        # Ha valós mérésünk van, érdemes valamilyen módon kiíratni a kommentet,\n",
    "        # ami az interferogram fájlban van, hogy meg tudjuk állapítani milyen késleltetésnél készült.\n",
    "        # Jelen esetben ennek nincs értelme, mivel a szimulált fájlokkal dolgozom.\n",
    "        # Ezt legegyszerűbben az alábbi sorral tehetnénk meg: \n",
    "        # print(ifg.meta['comment'])\n",
    "        # vagy esetleg a teljes metaadatok kiíratása:\n",
    "        # print(ifg.meta)\n",
    "\n",
    "        # Ha hullámhossztartományban vagyunk, először át kell váltani.\n",
    "        # Én frekvenciatartományban szimuláltam, ezért itt kihagyom. Ha szükség van rá a\n",
    "        # következő sort kell használni.\n",
    "        # ifg.chdomain() \n",
    "\n",
    "        # Pl. 1.2 PHz alatti körfrekvenciaértékek kivágása. Mivel nem adtam meg stop értéket, így a felső\n",
    "        # határt érintetlenül hagyná, ha futtatnám. Nyilván ez is opcionális.\n",
    "        # ifg.slice(start=1.2)\n",
    "\n",
    "        # -----------------------------Az interaktív panel megnyitása-------------------------------\n",
    "        ifg.open_SPP_panel()\n",
    "\n",
    "# ---------------------------------A ciklus utáni rész------------------------------------------\n",
    "# A cikluson kívül a save_data metódus meghívása, hogy elmentsük a beírt adatainkat fájlba is.\n",
    "# Ez természetesen opcionális, de annak érdekében, hogy ne veszítsünk adatot érdemes ezt is elvégezni.\n",
    "myspp.save_data('spp.txt')\n",
    "\n",
    "\n",
    "# a cikluson kívül meghívjuk a calculate függvényt\n",
    "myspp.calculate(reference_point=2, order=3);"
   ]
  },
  {
   "cell_type": "markdown",
   "metadata": {},
   "source": [
    "Az eddigiek alapján a kiértékelés hosszadalmasnak tűnhet, de ha a magyarázatokat kivesszük, szimulált esetben az egész kód az alábbi, összesen 7 sorra egyszerűsödik. Valós mérés esetén néhány előfeldolgozási lépés és printelés természetesen még hozzáadódik ehhez.\n",
    "\n",
    "```python\n",
    "ifg_files = [f\"{delay}.txt\" for delay in range(-200, 201, 50)]\n",
    "\n",
    "s = ps.SPPMethod(ifg_files, decimal=\".\", sep=\",\", skiprows=0, meta_len=0)\n",
    "\n",
    "with ps.interactive():\n",
    "    for ifg in s:\n",
    "        ifg.open_SPP_panel()\n",
    "    \n",
    "s.save_data('spp.txt')\n",
    "s.calculate(reference_point=2, order=2, show_graph=True)\n",
    "```\n",
    "\n",
    "Mivel az `spp.txt` fájlba elmentettük az bevitt adatokat, azokból egyszerűen lehet újraszámolni az illesztést. Töltsük be `np.loadtxt` segítségével, majd használjuk a `ps.SPPMethod.calculate_from_raw` függvényt."
   ]
  },
  {
   "cell_type": "code",
   "execution_count": 11,
   "metadata": {},
   "outputs": [
    {
     "data": {
      "text/latex": [
       "$\\displaystyle GD = -2.49588 ± 3.39477 fs^1$"
      ],
      "text/plain": [
       "<IPython.core.display.Math object>"
      ]
     },
     "metadata": {},
     "output_type": "display_data"
    },
    {
     "data": {
      "text/latex": [
       "$\\displaystyle GDD = 361.73993 ± 11.91473 fs^2$"
      ],
      "text/plain": [
       "<IPython.core.display.Math object>"
      ]
     },
     "metadata": {},
     "output_type": "display_data"
    },
    {
     "data": {
      "text/latex": [
       "$\\displaystyle TOD = -121.09662 ± 131.29093 fs^3$"
      ],
      "text/plain": [
       "<IPython.core.display.Math object>"
      ]
     },
     "metadata": {},
     "output_type": "display_data"
    }
   ],
   "source": [
    "delay, position = np.loadtxt('spp.txt', delimiter=',', unpack=True)\n",
    "\n",
    "myspp.calculate_from_raw(delay, position, reference_point=2, order=3);"
   ]
  },
  {
   "cell_type": "markdown",
   "metadata": {},
   "source": [
    "Itt látható, hogy ugyan azt az eredményt kaptuk, mint előzőleg. Ez akkor is hasznos lehet, ha már megvannak a leolvasott SPP pozícióink a hozzá tartozó késleltetésekkel és csak a számolást akarjuk elvégezni. Ekkor még létre sem kell hozni egy új objektumot, csak meghívhatjuk a függvényt következő módon:"
   ]
  },
  {
   "cell_type": "code",
   "execution_count": 12,
   "metadata": {},
   "outputs": [
    {
     "data": {
      "text/latex": [
       "$\\displaystyle GD = -2.02949 ± 0.01220 fs^1$"
      ],
      "text/plain": [
       "<IPython.core.display.Math object>"
      ]
     },
     "metadata": {},
     "output_type": "display_data"
    },
    {
     "data": {
      "text/latex": [
       "$\\displaystyle GDD = -0.00038 ± 0.00006 fs^2$"
      ],
      "text/plain": [
       "<IPython.core.display.Math object>"
      ]
     },
     "metadata": {},
     "output_type": "display_data"
    },
    {
     "data": {
      "text/latex": [
       "$\\displaystyle TOD = -0.00000 ± 0.00000 fs^3$"
      ],
      "text/plain": [
       "<IPython.core.display.Math object>"
      ]
     },
     "metadata": {},
     "output_type": "display_data"
    }
   ],
   "source": [
    "# ehhez beírtam egy teljesen véletlenszerű adatsort\n",
    "delay_minta = [-100, 200, 500, 700, 900]\n",
    "position_minta = [2, 2.1, 2.3, 2.45, 2.6]\n",
    "\n",
    "ps.SPPMethod.calculate_from_raw(delay_minta, position_minta, reference_point=2, order=3);"
   ]
  },
  {
   "cell_type": "markdown",
   "metadata": {},
   "source": [
    "**FONTOS MEGJEGYZÉS:**\n",
    "\n",
    "Az `order` argumentum a program során mindig a keresett diszperzió rendjét adja meg."
   ]
  },
  {
   "cell_type": "markdown",
   "metadata": {},
   "source": [
    "#### További módszer"
   ]
  },
  {
   "cell_type": "markdown",
   "metadata": {},
   "source": [
    "Korábban már észrevehettük, hogy a kiíratás során - legyen bármilyen módszerről is szó - megjelentek olyan sorok is, hogy `Delay value: Not given` és `SPP position(s): Not given`. Például a `myspp` első interferogramja esetén:"
   ]
  },
  {
   "cell_type": "code",
   "execution_count": 13,
   "metadata": {},
   "outputs": [
    {
     "name": "stdout",
     "output_type": "stream",
     "text": [
      "Dataset\n",
      "----------\n",
      "Parameters\n",
      "----------\n",
      "Datapoints: 12559\n",
      "Predicted domain: frequency\n",
      "Range: from 1.000 to 3.000 PHz\n",
      "Normalized: False\n",
      "Delay value: Not given\n",
      "SPP position(s): Not given\n",
      "----------------------------\n",
      "Metadata extracted from file\n",
      "----------------------------\n",
      "{}\n"
     ]
    }
   ],
   "source": [
    "print(myspp[0])"
   ]
  },
  {
   "cell_type": "markdown",
   "metadata": {},
   "source": [
    "Ahogyan a `Dataset` leírásában már szerepelt, lehetőségünk van megadni a betöltött interferogramokon az SPP módszerhez szükséges adatokat. Ekkor a `ps.SPPMethod.calculate_from_ifg(ifgs, reference_point, order)` függvénnyel kiértékelhetjük a benne lévő interferogramokat a következő módon:"
   ]
  },
  {
   "cell_type": "code",
   "execution_count": 14,
   "metadata": {},
   "outputs": [],
   "source": [
    "# kicsomagolok öt interferogramot a generált 7 közül\n",
    "\n",
    "elso_ifg = myspp[0]\n",
    "masodik_ifg = myspp[1]\n",
    "harmadik_ifg = myspp[2]\n",
    "negyedik_ifg = myspp[3]\n",
    "otodik_ifg = myspp[4]"
   ]
  },
  {
   "cell_type": "code",
   "execution_count": 15,
   "metadata": {},
   "outputs": [],
   "source": [
    "# beállítok rájuk véletlenszerűen SPP adatokat\n",
    "\n",
    "elso_ifg.delay = 0\n",
    "elso_ifg.positions = 2\n",
    "\n",
    "masodik_ifg.delay = 100\n",
    "masodik_ifg.positions = 2\n",
    "\n",
    "harmadik_ifg.delay = 150\n",
    "harmadik_ifg.positions = 1.6\n",
    "\n",
    "negyedik_ifg.delay = 200\n",
    "negyedik_ifg.positions = 1.2\n",
    "\n",
    "otodik_ifg.delay = 250\n",
    "otodik_ifg.positions = 1, 3, 1.2\n",
    "\n",
    "\n",
    "# listába teszem őket\n",
    "ifgs = [elso_ifg, masodik_ifg, harmadik_ifg, negyedik_ifg, otodik_ifg]"
   ]
  },
  {
   "cell_type": "code",
   "execution_count": 16,
   "metadata": {},
   "outputs": [
    {
     "data": {
      "text/latex": [
       "$\\displaystyle GD = -71.99707 ± 31.03655 fs^1$"
      ],
      "text/plain": [
       "<IPython.core.display.Math object>"
      ]
     },
     "metadata": {},
     "output_type": "display_data"
    },
    {
     "data": {
      "text/latex": [
       "$\\displaystyle GDD = 19.90037 ± 30.07946 fs^2$"
      ],
      "text/plain": [
       "<IPython.core.display.Math object>"
      ]
     },
     "metadata": {},
     "output_type": "display_data"
    },
    {
     "data": {
      "text/latex": [
       "$\\displaystyle TOD = -381.52310 ± 94.83666 fs^3$"
      ],
      "text/plain": [
       "<IPython.core.display.Math object>"
      ]
     },
     "metadata": {},
     "output_type": "display_data"
    }
   ],
   "source": [
    "# meghívom a calculate_from_ifg függvényt\n",
    "ps.SPPMethod.calculate_from_ifg(ifgs, reference_point=2, order=3);"
   ]
  },
  {
   "cell_type": "markdown",
   "metadata": {},
   "source": [
    "Ez úgy lehet hasznos, hogy amikor más módszerrel több interferogramot is kiértékelünk egymás után, csak rögzítjük az SPP adatokat is, aztán a program ezekből egyenként összegyűjti a szükséges információt a kiértékeléshez, majd abból számol."
   ]
  }
 ],
 "metadata": {
  "kernelspec": {
   "display_name": "Python 3",
   "language": "python",
   "name": "python3"
  },
  "language_info": {
   "codemirror_mode": {
    "name": "ipython",
    "version": 3
   },
   "file_extension": ".py",
   "mimetype": "text/x-python",
   "name": "python",
   "nbconvert_exporter": "python",
   "pygments_lexer": "ipython3",
   "version": "3.7.6"
  }
 },
 "nbformat": 4,
 "nbformat_minor": 4
}
