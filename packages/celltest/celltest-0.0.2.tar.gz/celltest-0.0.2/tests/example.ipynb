{
 "cells": [
  {
   "cell_type": "markdown",
   "metadata": {},
   "source": [
    "Test markdown"
   ]
  },
  {
   "cell_type": "code",
   "execution_count": 22,
   "metadata": {
    "collapsed": false,
    "jupyter": {
     "outputs_hidden": false
    }
   },
   "outputs": [],
   "source": [
    "# CT: ignore_outputs\n",
    "import pandas as pd\n",
    "import tokenize, \\\n",
    "io\n",
    "import os\n",
    "import logging"
   ]
  },
  {
   "cell_type": "markdown",
   "metadata": {
    "tests": [
     "# Use %cell to execute the cell\n",
     "\n"
    ]
   },
   "source": [
    "More markdown"
   ]
  },
  {
   "cell_type": "code",
   "execution_count": 23,
   "metadata": {
    "celltest": [
     "ignore"
    ]
   },
   "outputs": [
    {
     "data": {
      "text/plain": [
       "\u001b[0;31mSignature:\u001b[0m \u001b[0mos\u001b[0m\u001b[0;34m.\u001b[0m\u001b[0mpath\u001b[0m\u001b[0;34m.\u001b[0m\u001b[0mjoin\u001b[0m\u001b[0;34m(\u001b[0m\u001b[0ma\u001b[0m\u001b[0;34m,\u001b[0m \u001b[0;34m*\u001b[0m\u001b[0mp\u001b[0m\u001b[0;34m)\u001b[0m\u001b[0;34m\u001b[0m\u001b[0;34m\u001b[0m\u001b[0m\n",
       "\u001b[0;31mDocstring:\u001b[0m\n",
       "Join two or more pathname components, inserting '/' as needed.\n",
       "If any component is an absolute path, all previous path components\n",
       "will be discarded.  An empty last part will result in a path that\n",
       "ends with a separator.\n",
       "\u001b[0;31mFile:\u001b[0m      /usr/lib/python3.8/posixpath.py\n",
       "\u001b[0;31mType:\u001b[0m      function\n"
      ]
     },
     "metadata": {},
     "output_type": "display_data"
    }
   ],
   "source": [
    "# CT: ignore, some_giberish\n",
    "os.path.join?"
   ]
  },
  {
   "cell_type": "code",
   "execution_count": 24,
   "metadata": {
    "celltest": [
     "setup"
    ],
    "collapsed": false,
    "jupyter": {
     "outputs_hidden": false
    }
   },
   "outputs": [],
   "source": [
    "# CT: setup\n",
    "df = pd.read_json(\"https://data.smcgov.org/resource/mb6a-xn89.json\")"
   ]
  },
  {
   "cell_type": "code",
   "execution_count": 25,
   "metadata": {
    "celltest": [
     "setup"
    ],
    "collapsed": false,
    "jupyter": {
     "outputs_hidden": false
    }
   },
   "outputs": [
    {
     "name": "stderr",
     "output_type": "stream",
     "text": [
      "ERROR:root:test\n",
      "ERROR:root:test\n",
      "ERROR:root:test\n"
     ]
    },
    {
     "name": "stdout",
     "output_type": "stream",
     "text": [
      "test\n",
      "test\n"
     ]
    }
   ],
   "source": [
    "logging.error(\"test\")\n",
    "logging.error(\"test\")\n",
    "print(\"test\")\n",
    "logging.error(\"test\")\n",
    "print(\"test\")"
   ]
  },
  {
   "cell_type": "code",
   "execution_count": 26,
   "metadata": {},
   "outputs": [
    {
     "name": "stderr",
     "output_type": "stream",
     "text": [
      "ERROR:root:test\n",
      "ERROR:root:test\n",
      "ERROR:root:test\n"
     ]
    },
    {
     "name": "stdout",
     "output_type": "stream",
     "text": [
      "Hello World\n",
      "Hello World\n",
      "test\n"
     ]
    }
   ],
   "source": [
    "# CT: param1, param2; param3\n",
    "print(\"Hello World\")\n",
    "print(\"Hello World\")\n",
    "logging.error(\"test\")\n",
    "logging.error(\"test\")\n",
    "print(\"test\")\n",
    "logging.error(\"test\")"
   ]
  },
  {
   "cell_type": "code",
   "execution_count": 27,
   "metadata": {
    "celltest": [
     "ignore_output"
    ]
   },
   "outputs": [
    {
     "name": "stdout",
     "output_type": "stream",
     "text": [
      "Hello World\n"
     ]
    }
   ],
   "source": [
    "print(\"Hello World\")"
   ]
  },
  {
   "cell_type": "code",
   "execution_count": 28,
   "metadata": {
    "collapsed": false,
    "jupyter": {
     "outputs_hidden": false
    }
   },
   "outputs": [
    {
     "data": {
      "text/html": [
       "<div>\n",
       "<style scoped>\n",
       "    .dataframe tbody tr th:only-of-type {\n",
       "        vertical-align: middle;\n",
       "    }\n",
       "\n",
       "    .dataframe tbody tr th {\n",
       "        vertical-align: top;\n",
       "    }\n",
       "\n",
       "    .dataframe thead th {\n",
       "        text-align: right;\n",
       "    }\n",
       "</style>\n",
       "<table border=\"1\" class=\"dataframe\">\n",
       "  <thead>\n",
       "    <tr style=\"text-align: right;\">\n",
       "      <th></th>\n",
       "      <th>geography</th>\n",
       "      <th>geography_type</th>\n",
       "      <th>year</th>\n",
       "      <th>less_than_high_school_graduate</th>\n",
       "      <th>high_school_graduate</th>\n",
       "      <th>some_college_or_associate_s_degree</th>\n",
       "      <th>bachelor_s_degree_or_higher</th>\n",
       "      <th>location_1</th>\n",
       "      <th>:@computed_region_uph5_8hpn</th>\n",
       "      <th>:@computed_region_i2t2_cryp</th>\n",
       "    </tr>\n",
       "  </thead>\n",
       "  <tbody>\n",
       "    <tr>\n",
       "      <th>0</th>\n",
       "      <td>Atherton</td>\n",
       "      <td>Town</td>\n",
       "      <td>2014-01-01T00:00:00.000</td>\n",
       "      <td>13.6</td>\n",
       "      <td>12.3</td>\n",
       "      <td>2.7</td>\n",
       "      <td>3.5</td>\n",
       "      <td>{'type': 'Point', 'coordinates': [-122.2, 37.4...</td>\n",
       "      <td>2.0</td>\n",
       "      <td>28596</td>\n",
       "    </tr>\n",
       "    <tr>\n",
       "      <th>1</th>\n",
       "      <td>Colma</td>\n",
       "      <td>Town</td>\n",
       "      <td>2014-01-01T00:00:00.000</td>\n",
       "      <td>6.3</td>\n",
       "      <td>6.4</td>\n",
       "      <td>10.4</td>\n",
       "      <td>2.4</td>\n",
       "      <td>{'type': 'Point', 'coordinates': [-122.455556,...</td>\n",
       "      <td>4.0</td>\n",
       "      <td>28588</td>\n",
       "    </tr>\n",
       "    <tr>\n",
       "      <th>2</th>\n",
       "      <td>Foster City</td>\n",
       "      <td>City</td>\n",
       "      <td>2014-01-01T00:00:00.000</td>\n",
       "      <td>11.9</td>\n",
       "      <td>9.7</td>\n",
       "      <td>2.0</td>\n",
       "      <td>2.9</td>\n",
       "      <td>{'type': 'Point', 'coordinates': [-122.266389,...</td>\n",
       "      <td>6.0</td>\n",
       "      <td>319</td>\n",
       "    </tr>\n",
       "    <tr>\n",
       "      <th>3</th>\n",
       "      <td>Portola Valley</td>\n",
       "      <td>Town</td>\n",
       "      <td>2014-01-01T00:00:00.000</td>\n",
       "      <td>48.1</td>\n",
       "      <td>0.0</td>\n",
       "      <td>0.0</td>\n",
       "      <td>1.8</td>\n",
       "      <td>{'type': 'Point', 'coordinates': [-122.218611,...</td>\n",
       "      <td>14.0</td>\n",
       "      <td>28597</td>\n",
       "    </tr>\n",
       "    <tr>\n",
       "      <th>4</th>\n",
       "      <td>Redwood City</td>\n",
       "      <td>City</td>\n",
       "      <td>2014-01-01T00:00:00.000</td>\n",
       "      <td>16.4</td>\n",
       "      <td>10.6</td>\n",
       "      <td>6.6</td>\n",
       "      <td>3.0</td>\n",
       "      <td>{'type': 'Point', 'coordinates': [-122.236111,...</td>\n",
       "      <td>21.0</td>\n",
       "      <td>28607</td>\n",
       "    </tr>\n",
       "  </tbody>\n",
       "</table>\n",
       "</div>"
      ],
      "text/plain": [
       "        geography geography_type                     year  \\\n",
       "0        Atherton           Town  2014-01-01T00:00:00.000   \n",
       "1           Colma           Town  2014-01-01T00:00:00.000   \n",
       "2     Foster City           City  2014-01-01T00:00:00.000   \n",
       "3  Portola Valley           Town  2014-01-01T00:00:00.000   \n",
       "4    Redwood City           City  2014-01-01T00:00:00.000   \n",
       "\n",
       "   less_than_high_school_graduate  high_school_graduate  \\\n",
       "0                            13.6                  12.3   \n",
       "1                             6.3                   6.4   \n",
       "2                            11.9                   9.7   \n",
       "3                            48.1                   0.0   \n",
       "4                            16.4                  10.6   \n",
       "\n",
       "   some_college_or_associate_s_degree  bachelor_s_degree_or_higher  \\\n",
       "0                                 2.7                          3.5   \n",
       "1                                10.4                          2.4   \n",
       "2                                 2.0                          2.9   \n",
       "3                                 0.0                          1.8   \n",
       "4                                 6.6                          3.0   \n",
       "\n",
       "                                          location_1  \\\n",
       "0  {'type': 'Point', 'coordinates': [-122.2, 37.4...   \n",
       "1  {'type': 'Point', 'coordinates': [-122.455556,...   \n",
       "2  {'type': 'Point', 'coordinates': [-122.266389,...   \n",
       "3  {'type': 'Point', 'coordinates': [-122.218611,...   \n",
       "4  {'type': 'Point', 'coordinates': [-122.236111,...   \n",
       "\n",
       "   :@computed_region_uph5_8hpn  :@computed_region_i2t2_cryp  \n",
       "0                          2.0                        28596  \n",
       "1                          4.0                        28588  \n",
       "2                          6.0                          319  \n",
       "3                         14.0                        28597  \n",
       "4                         21.0                        28607  "
      ]
     },
     "execution_count": 28,
     "metadata": {},
     "output_type": "execute_result"
    }
   ],
   "source": [
    "df.head(5)"
   ]
  },
  {
   "cell_type": "code",
   "execution_count": 29,
   "metadata": {
    "collapsed": false,
    "jupyter": {
     "outputs_hidden": false
    }
   },
   "outputs": [
    {
     "data": {
      "text/plain": [
       "(32, 10)"
      ]
     },
     "execution_count": 29,
     "metadata": {},
     "output_type": "execute_result"
    }
   ],
   "source": [
    "df.shape"
   ]
  },
  {
   "cell_type": "code",
   "execution_count": 30,
   "metadata": {},
   "outputs": [
    {
     "data": {
      "text/html": [
       "<div>\n",
       "<style scoped>\n",
       "    .dataframe tbody tr th:only-of-type {\n",
       "        vertical-align: middle;\n",
       "    }\n",
       "\n",
       "    .dataframe tbody tr th {\n",
       "        vertical-align: top;\n",
       "    }\n",
       "\n",
       "    .dataframe thead th {\n",
       "        text-align: right;\n",
       "    }\n",
       "</style>\n",
       "<table border=\"1\" class=\"dataframe\">\n",
       "  <thead>\n",
       "    <tr style=\"text-align: right;\">\n",
       "      <th></th>\n",
       "      <th>less_than_high_school_graduate</th>\n",
       "      <th>high_school_graduate</th>\n",
       "      <th>some_college_or_associate_s_degree</th>\n",
       "      <th>bachelor_s_degree_or_higher</th>\n",
       "      <th>:@computed_region_uph5_8hpn</th>\n",
       "      <th>:@computed_region_i2t2_cryp</th>\n",
       "    </tr>\n",
       "  </thead>\n",
       "  <tbody>\n",
       "    <tr>\n",
       "      <th>count</th>\n",
       "      <td>32.00000</td>\n",
       "      <td>32.000000</td>\n",
       "      <td>32.000000</td>\n",
       "      <td>32.000000</td>\n",
       "      <td>30.000000</td>\n",
       "      <td>32.000000</td>\n",
       "    </tr>\n",
       "    <tr>\n",
       "      <th>mean</th>\n",
       "      <td>17.80000</td>\n",
       "      <td>6.462500</td>\n",
       "      <td>5.946875</td>\n",
       "      <td>2.856250</td>\n",
       "      <td>17.733333</td>\n",
       "      <td>25062.093750</td>\n",
       "    </tr>\n",
       "    <tr>\n",
       "      <th>std</th>\n",
       "      <td>19.29944</td>\n",
       "      <td>4.693905</td>\n",
       "      <td>4.728430</td>\n",
       "      <td>1.873919</td>\n",
       "      <td>9.762466</td>\n",
       "      <td>9502.711577</td>\n",
       "    </tr>\n",
       "    <tr>\n",
       "      <th>min</th>\n",
       "      <td>0.00000</td>\n",
       "      <td>0.000000</td>\n",
       "      <td>0.000000</td>\n",
       "      <td>0.000000</td>\n",
       "      <td>1.000000</td>\n",
       "      <td>312.000000</td>\n",
       "    </tr>\n",
       "    <tr>\n",
       "      <th>25%</th>\n",
       "      <td>6.82500</td>\n",
       "      <td>1.925000</td>\n",
       "      <td>2.525000</td>\n",
       "      <td>2.100000</td>\n",
       "      <td>9.500000</td>\n",
       "      <td>28587.750000</td>\n",
       "    </tr>\n",
       "    <tr>\n",
       "      <th>50%</th>\n",
       "      <td>13.90000</td>\n",
       "      <td>7.750000</td>\n",
       "      <td>5.500000</td>\n",
       "      <td>3.000000</td>\n",
       "      <td>18.500000</td>\n",
       "      <td>28595.000000</td>\n",
       "    </tr>\n",
       "    <tr>\n",
       "      <th>75%</th>\n",
       "      <td>20.97500</td>\n",
       "      <td>9.450000</td>\n",
       "      <td>8.800000</td>\n",
       "      <td>3.600000</td>\n",
       "      <td>25.750000</td>\n",
       "      <td>28604.250000</td>\n",
       "    </tr>\n",
       "    <tr>\n",
       "      <th>max</th>\n",
       "      <td>100.00000</td>\n",
       "      <td>16.400000</td>\n",
       "      <td>18.500000</td>\n",
       "      <td>9.100000</td>\n",
       "      <td>34.000000</td>\n",
       "      <td>28613.000000</td>\n",
       "    </tr>\n",
       "  </tbody>\n",
       "</table>\n",
       "</div>"
      ],
      "text/plain": [
       "       less_than_high_school_graduate  high_school_graduate  \\\n",
       "count                        32.00000             32.000000   \n",
       "mean                         17.80000              6.462500   \n",
       "std                          19.29944              4.693905   \n",
       "min                           0.00000              0.000000   \n",
       "25%                           6.82500              1.925000   \n",
       "50%                          13.90000              7.750000   \n",
       "75%                          20.97500              9.450000   \n",
       "max                         100.00000             16.400000   \n",
       "\n",
       "       some_college_or_associate_s_degree  bachelor_s_degree_or_higher  \\\n",
       "count                           32.000000                    32.000000   \n",
       "mean                             5.946875                     2.856250   \n",
       "std                              4.728430                     1.873919   \n",
       "min                              0.000000                     0.000000   \n",
       "25%                              2.525000                     2.100000   \n",
       "50%                              5.500000                     3.000000   \n",
       "75%                              8.800000                     3.600000   \n",
       "max                             18.500000                     9.100000   \n",
       "\n",
       "       :@computed_region_uph5_8hpn  :@computed_region_i2t2_cryp  \n",
       "count                    30.000000                    32.000000  \n",
       "mean                     17.733333                 25062.093750  \n",
       "std                       9.762466                  9502.711577  \n",
       "min                       1.000000                   312.000000  \n",
       "25%                       9.500000                 28587.750000  \n",
       "50%                      18.500000                 28595.000000  \n",
       "75%                      25.750000                 28604.250000  \n",
       "max                      34.000000                 28613.000000  "
      ]
     },
     "execution_count": 30,
     "metadata": {},
     "output_type": "execute_result"
    }
   ],
   "source": [
    "# CT: ignore_outputs\n",
    "df.describe()"
   ]
  },
  {
   "cell_type": "code",
   "execution_count": 31,
   "metadata": {
    "collapsed": false,
    "jupyter": {
     "outputs_hidden": false
    }
   },
   "outputs": [
    {
     "data": {
      "text/html": [
       "<div>\n",
       "<style scoped>\n",
       "    .dataframe tbody tr th:only-of-type {\n",
       "        vertical-align: middle;\n",
       "    }\n",
       "\n",
       "    .dataframe tbody tr th {\n",
       "        vertical-align: top;\n",
       "    }\n",
       "\n",
       "    .dataframe thead th {\n",
       "        text-align: right;\n",
       "    }\n",
       "</style>\n",
       "<table border=\"1\" class=\"dataframe\">\n",
       "  <thead>\n",
       "    <tr style=\"text-align: right;\">\n",
       "      <th></th>\n",
       "      <th>geography</th>\n",
       "      <th>geography_type</th>\n",
       "      <th>year</th>\n",
       "      <th>less_than_high_school_graduate</th>\n",
       "      <th>high_school_graduate</th>\n",
       "      <th>some_college_or_associate_s_degree</th>\n",
       "      <th>bachelor_s_degree_or_higher</th>\n",
       "      <th>:@computed_region_uph5_8hpn</th>\n",
       "      <th>:@computed_region_i2t2_cryp</th>\n",
       "    </tr>\n",
       "  </thead>\n",
       "  <tbody>\n",
       "    <tr>\n",
       "      <th>count</th>\n",
       "      <td>32</td>\n",
       "      <td>32</td>\n",
       "      <td>32</td>\n",
       "      <td>32.00000</td>\n",
       "      <td>32.000000</td>\n",
       "      <td>32.000000</td>\n",
       "      <td>32.000000</td>\n",
       "      <td>30.000000</td>\n",
       "      <td>32.000000</td>\n",
       "    </tr>\n",
       "    <tr>\n",
       "      <th>unique</th>\n",
       "      <td>32</td>\n",
       "      <td>3</td>\n",
       "      <td>1</td>\n",
       "      <td>NaN</td>\n",
       "      <td>NaN</td>\n",
       "      <td>NaN</td>\n",
       "      <td>NaN</td>\n",
       "      <td>NaN</td>\n",
       "      <td>NaN</td>\n",
       "    </tr>\n",
       "    <tr>\n",
       "      <th>top</th>\n",
       "      <td>Half Moon Bay</td>\n",
       "      <td>City</td>\n",
       "      <td>2014-01-01T00:00:00.000</td>\n",
       "      <td>NaN</td>\n",
       "      <td>NaN</td>\n",
       "      <td>NaN</td>\n",
       "      <td>NaN</td>\n",
       "      <td>NaN</td>\n",
       "      <td>NaN</td>\n",
       "    </tr>\n",
       "    <tr>\n",
       "      <th>freq</th>\n",
       "      <td>1</td>\n",
       "      <td>15</td>\n",
       "      <td>32</td>\n",
       "      <td>NaN</td>\n",
       "      <td>NaN</td>\n",
       "      <td>NaN</td>\n",
       "      <td>NaN</td>\n",
       "      <td>NaN</td>\n",
       "      <td>NaN</td>\n",
       "    </tr>\n",
       "    <tr>\n",
       "      <th>mean</th>\n",
       "      <td>NaN</td>\n",
       "      <td>NaN</td>\n",
       "      <td>NaN</td>\n",
       "      <td>17.80000</td>\n",
       "      <td>6.462500</td>\n",
       "      <td>5.946875</td>\n",
       "      <td>2.856250</td>\n",
       "      <td>17.733333</td>\n",
       "      <td>25062.093750</td>\n",
       "    </tr>\n",
       "    <tr>\n",
       "      <th>std</th>\n",
       "      <td>NaN</td>\n",
       "      <td>NaN</td>\n",
       "      <td>NaN</td>\n",
       "      <td>19.29944</td>\n",
       "      <td>4.693905</td>\n",
       "      <td>4.728430</td>\n",
       "      <td>1.873919</td>\n",
       "      <td>9.762466</td>\n",
       "      <td>9502.711577</td>\n",
       "    </tr>\n",
       "    <tr>\n",
       "      <th>min</th>\n",
       "      <td>NaN</td>\n",
       "      <td>NaN</td>\n",
       "      <td>NaN</td>\n",
       "      <td>0.00000</td>\n",
       "      <td>0.000000</td>\n",
       "      <td>0.000000</td>\n",
       "      <td>0.000000</td>\n",
       "      <td>1.000000</td>\n",
       "      <td>312.000000</td>\n",
       "    </tr>\n",
       "    <tr>\n",
       "      <th>25%</th>\n",
       "      <td>NaN</td>\n",
       "      <td>NaN</td>\n",
       "      <td>NaN</td>\n",
       "      <td>6.82500</td>\n",
       "      <td>1.925000</td>\n",
       "      <td>2.525000</td>\n",
       "      <td>2.100000</td>\n",
       "      <td>9.500000</td>\n",
       "      <td>28587.750000</td>\n",
       "    </tr>\n",
       "    <tr>\n",
       "      <th>50%</th>\n",
       "      <td>NaN</td>\n",
       "      <td>NaN</td>\n",
       "      <td>NaN</td>\n",
       "      <td>13.90000</td>\n",
       "      <td>7.750000</td>\n",
       "      <td>5.500000</td>\n",
       "      <td>3.000000</td>\n",
       "      <td>18.500000</td>\n",
       "      <td>28595.000000</td>\n",
       "    </tr>\n",
       "    <tr>\n",
       "      <th>75%</th>\n",
       "      <td>NaN</td>\n",
       "      <td>NaN</td>\n",
       "      <td>NaN</td>\n",
       "      <td>20.97500</td>\n",
       "      <td>9.450000</td>\n",
       "      <td>8.800000</td>\n",
       "      <td>3.600000</td>\n",
       "      <td>25.750000</td>\n",
       "      <td>28604.250000</td>\n",
       "    </tr>\n",
       "    <tr>\n",
       "      <th>max</th>\n",
       "      <td>NaN</td>\n",
       "      <td>NaN</td>\n",
       "      <td>NaN</td>\n",
       "      <td>100.00000</td>\n",
       "      <td>16.400000</td>\n",
       "      <td>18.500000</td>\n",
       "      <td>9.100000</td>\n",
       "      <td>34.000000</td>\n",
       "      <td>28613.000000</td>\n",
       "    </tr>\n",
       "  </tbody>\n",
       "</table>\n",
       "</div>"
      ],
      "text/plain": [
       "            geography geography_type                     year  \\\n",
       "count              32             32                       32   \n",
       "unique             32              3                        1   \n",
       "top     Half Moon Bay           City  2014-01-01T00:00:00.000   \n",
       "freq                1             15                       32   \n",
       "mean              NaN            NaN                      NaN   \n",
       "std               NaN            NaN                      NaN   \n",
       "min               NaN            NaN                      NaN   \n",
       "25%               NaN            NaN                      NaN   \n",
       "50%               NaN            NaN                      NaN   \n",
       "75%               NaN            NaN                      NaN   \n",
       "max               NaN            NaN                      NaN   \n",
       "\n",
       "        less_than_high_school_graduate  high_school_graduate  \\\n",
       "count                         32.00000             32.000000   \n",
       "unique                             NaN                   NaN   \n",
       "top                                NaN                   NaN   \n",
       "freq                               NaN                   NaN   \n",
       "mean                          17.80000              6.462500   \n",
       "std                           19.29944              4.693905   \n",
       "min                            0.00000              0.000000   \n",
       "25%                            6.82500              1.925000   \n",
       "50%                           13.90000              7.750000   \n",
       "75%                           20.97500              9.450000   \n",
       "max                          100.00000             16.400000   \n",
       "\n",
       "        some_college_or_associate_s_degree  bachelor_s_degree_or_higher  \\\n",
       "count                            32.000000                    32.000000   \n",
       "unique                                 NaN                          NaN   \n",
       "top                                    NaN                          NaN   \n",
       "freq                                   NaN                          NaN   \n",
       "mean                              5.946875                     2.856250   \n",
       "std                               4.728430                     1.873919   \n",
       "min                               0.000000                     0.000000   \n",
       "25%                               2.525000                     2.100000   \n",
       "50%                               5.500000                     3.000000   \n",
       "75%                               8.800000                     3.600000   \n",
       "max                              18.500000                     9.100000   \n",
       "\n",
       "        :@computed_region_uph5_8hpn  :@computed_region_i2t2_cryp  \n",
       "count                     30.000000                    32.000000  \n",
       "unique                          NaN                          NaN  \n",
       "top                             NaN                          NaN  \n",
       "freq                            NaN                          NaN  \n",
       "mean                      17.733333                 25062.093750  \n",
       "std                        9.762466                  9502.711577  \n",
       "min                        1.000000                   312.000000  \n",
       "25%                        9.500000                 28587.750000  \n",
       "50%                       18.500000                 28595.000000  \n",
       "75%                       25.750000                 28604.250000  \n",
       "max                       34.000000                 28613.000000  "
      ]
     },
     "execution_count": 31,
     "metadata": {},
     "output_type": "execute_result"
    }
   ],
   "source": [
    "df.drop(\"location_1\", axis=1).describe(include=\"all\")"
   ]
  },
  {
   "cell_type": "code",
   "execution_count": 32,
   "metadata": {
    "collapsed": false,
    "jupyter": {
     "outputs_hidden": false
    }
   },
   "outputs": [
    {
     "data": {
      "text/plain": [
       "geography                              object\n",
       "geography_type                         object\n",
       "year                                   object\n",
       "less_than_high_school_graduate        float64\n",
       "high_school_graduate                  float64\n",
       "some_college_or_associate_s_degree    float64\n",
       "bachelor_s_degree_or_higher           float64\n",
       "location_1                             object\n",
       ":@computed_region_uph5_8hpn           float64\n",
       ":@computed_region_i2t2_cryp             int64\n",
       "dtype: object"
      ]
     },
     "execution_count": 32,
     "metadata": {},
     "output_type": "execute_result"
    }
   ],
   "source": [
    "df.dtypes"
   ]
  },
  {
   "cell_type": "code",
   "execution_count": 33,
   "metadata": {
    "collapsed": false,
    "jupyter": {
     "outputs_hidden": false
    }
   },
   "outputs": [
    {
     "data": {
      "text/plain": [
       "2.85625"
      ]
     },
     "execution_count": 33,
     "metadata": {},
     "output_type": "execute_result"
    }
   ],
   "source": [
    "# CT: almost_equal\n",
    "df.bachelor_s_degree_or_higher.mean()"
   ]
  },
  {
   "cell_type": "code",
   "execution_count": 34,
   "metadata": {
    "collapsed": false,
    "jupyter": {
     "outputs_hidden": false
    }
   },
   "outputs": [
    {
     "data": {
      "text/plain": [
       "32"
      ]
     },
     "execution_count": 34,
     "metadata": {},
     "output_type": "execute_result"
    }
   ],
   "source": [
    "df.geography.count()"
   ]
  },
  {
   "cell_type": "code",
   "execution_count": 35,
   "metadata": {
    "collapsed": false,
    "jupyter": {
     "outputs_hidden": false
    }
   },
   "outputs": [
    {
     "data": {
      "text/plain": [
       "array(['Town', 'City', 'CDP'], dtype=object)"
      ]
     },
     "execution_count": 35,
     "metadata": {},
     "output_type": "execute_result"
    }
   ],
   "source": [
    "df.geography_type.unique()"
   ]
  },
  {
   "cell_type": "code",
   "execution_count": 36,
   "metadata": {
    "collapsed": false,
    "jupyter": {
     "outputs_hidden": false
    }
   },
   "outputs": [
    {
     "data": {
      "text/plain": [
       "0.0      4\n",
       "14.2     1\n",
       "8.5      1\n",
       "7.0      1\n",
       "100.0    1\n",
       "9.5      1\n",
       "11.9     1\n",
       "4.8      1\n",
       "31.1     1\n",
       "26.7     1\n",
       "6.2      1\n",
       "15.7     1\n",
       "22.1     1\n",
       "16.4     1\n",
       "6.3      1\n",
       "44.4     1\n",
       "20.9     1\n",
       "7.7      1\n",
       "9.2      1\n",
       "37.8     1\n",
       "3.3      1\n",
       "15.1     1\n",
       "48.1     1\n",
       "18.3     1\n",
       "21.2     1\n",
       "16.1     1\n",
       "13.6     1\n",
       "13.4     1\n",
       "20.1     1\n",
       "Name: less_than_high_school_graduate, dtype: int64"
      ]
     },
     "execution_count": 36,
     "metadata": {},
     "output_type": "execute_result"
    }
   ],
   "source": [
    "df.less_than_high_school_graduate.value_counts()"
   ]
  },
  {
   "cell_type": "raw",
   "metadata": {},
   "source": [
    "test some raw cell"
   ]
  },
  {
   "cell_type": "code",
   "execution_count": 37,
   "metadata": {},
   "outputs": [
    {
     "data": {
      "text/plain": [
       "['a', '', '', '...', '', 'b']"
      ]
     },
     "execution_count": 37,
     "metadata": {},
     "output_type": "execute_result"
    }
   ],
   "source": [
    "\"a   ...  b\".split(\" \")"
   ]
  },
  {
   "cell_type": "code",
   "execution_count": 38,
   "metadata": {},
   "outputs": [
    {
     "name": "stderr",
     "output_type": "stream",
     "text": [
      "<>:1: SyntaxWarning: \"is\" with a literal. Did you mean \"==\"?\n",
      "<>:1: SyntaxWarning: \"is\" with a literal. Did you mean \"==\"?\n",
      "<ipython-input-38-7e9601f26686>:1: SyntaxWarning: \"is\" with a literal. Did you mean \"==\"?\n",
      "  \"\" is ''\n"
     ]
    },
    {
     "data": {
      "text/plain": [
       "True"
      ]
     },
     "execution_count": 38,
     "metadata": {},
     "output_type": "execute_result"
    }
   ],
   "source": [
    "\"\" is ''"
   ]
  },
  {
   "cell_type": "code",
   "execution_count": 39,
   "metadata": {},
   "outputs": [
    {
     "data": {
      "text/plain": [
       "'    '"
      ]
     },
     "execution_count": 39,
     "metadata": {},
     "output_type": "execute_result"
    }
   ],
   "source": [
    "\" \"*4"
   ]
  },
  {
   "cell_type": "code",
   "execution_count": 40,
   "metadata": {},
   "outputs": [],
   "source": [
    "None"
   ]
  },
  {
   "cell_type": "code",
   "execution_count": 41,
   "metadata": {},
   "outputs": [
    {
     "data": {
      "text/plain": [
       "'True'"
      ]
     },
     "execution_count": 41,
     "metadata": {},
     "output_type": "execute_result"
    }
   ],
   "source": [
    "str(True)"
   ]
  },
  {
   "cell_type": "code",
   "execution_count": 42,
   "metadata": {},
   "outputs": [
    {
     "data": {
      "text/plain": [
       "True"
      ]
     },
     "execution_count": 42,
     "metadata": {},
     "output_type": "execute_result"
    }
   ],
   "source": [
    "'''True''' == str(True)"
   ]
  }
 ],
 "metadata": {
  "kernelspec": {
   "display_name": "Python 3",
   "language": "python",
   "name": "python3"
  },
  "language_info": {
   "codemirror_mode": {
    "name": "ipython",
    "version": 3
   },
   "file_extension": ".py",
   "mimetype": "text/x-python",
   "name": "python",
   "nbconvert_exporter": "python",
   "pygments_lexer": "ipython3",
   "version": "3.8.2"
  }
 },
 "nbformat": 4,
 "nbformat_minor": 4
}
