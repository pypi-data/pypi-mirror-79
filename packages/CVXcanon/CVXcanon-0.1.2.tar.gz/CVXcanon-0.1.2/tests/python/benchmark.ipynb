{
 "cells": [
  {
   "cell_type": "markdown",
   "metadata": {},
   "source": [
    "These are a list of problems where parsing is slow in CVXPY.\n",
    "\n",
    "The first four are all from the Convex.jl paper.\n",
    "\n",
    "Be careful when profiling CVXPY that you create a new problem each time.\n",
    "When you solve a problem it caches the cone program matrices, so if you solve it again it doesn't run the matrix stuffing algorithm."
   ]
  },
  {
   "cell_type": "code",
   "execution_count": 48,
   "metadata": {
    "collapsed": false
   },
   "outputs": [],
   "source": [
    "# Preparation:\n",
    "from cvxpy import *\n",
    "import numpy"
   ]
  },
  {
   "cell_type": "code",
   "execution_count": 54,
   "metadata": {
    "collapsed": false
   },
   "outputs": [],
   "source": [
    "# Summation.\n",
    "n = 10000\n",
    "x = Variable()\n",
    "e = 0\n",
    "for i in range(n):\n",
    "    e = e + x\n",
    "p = Problem(Minimize(norm(e-1,2)), [x>=0])"
   ]
  },
  {
   "cell_type": "code",
   "execution_count": 55,
   "metadata": {
    "collapsed": true
   },
   "outputs": [],
   "source": [
    "# baseline cvxpy\n",
    "settings.USE_CVXCANON = False"
   ]
  },
  {
   "cell_type": "code",
   "execution_count": 56,
   "metadata": {
    "collapsed": false
   },
   "outputs": [
    {
     "name": "stdout",
     "output_type": "stream",
     "text": [
      "1 loops, best of 3: 6.71 s per loop\n"
     ]
    }
   ],
   "source": [
    "%%timeit\n",
    "# This generates the cone program matrices but doesn't solve the cone program.\n",
    "# 99% of the time here is spent in the matrix stuffing algorithm (going from LinOps to the final matrix).\n",
    "p = Problem(Minimize(norm(e-1,2)), [x>=0])\n",
    "p.get_problem_data(ECOS)"
   ]
  },
  {
   "cell_type": "code",
   "execution_count": 59,
   "metadata": {
    "collapsed": true
   },
   "outputs": [],
   "source": [
    "# CVXPY backed with CVXCanon\n",
    "settings.USE_CVXCANON = True"
   ]
  },
  {
   "cell_type": "code",
   "execution_count": 60,
   "metadata": {
    "collapsed": false
   },
   "outputs": [
    {
     "name": "stdout",
     "output_type": "stream",
     "text": [
      "Using CVXCANON\n",
      "Using CVXCANON\n",
      "Using CVXCANON\n",
      "Using CVXCANON\n",
      "1 loops, best of 3: 543 ms per loop\n"
     ]
    }
   ],
   "source": [
    "%%timeit\n",
    "p = Problem(Minimize(norm(e-1,2)), [x>=0])\n",
    "p.get_problem_data(ECOS)"
   ]
  },
  {
   "cell_type": "markdown",
   "metadata": {},
   "source": [
    "You can replace %%timeit with %%prun to profile the script."
   ]
  },
  {
   "cell_type": "code",
   "execution_count": 7,
   "metadata": {
    "collapsed": false
   },
   "outputs": [],
   "source": [
    "# Indexing.\n",
    "n = 10000\n",
    "x = Variable(n)\n",
    "e = 0\n",
    "for i in range(n):\n",
    "    e += x[i];"
   ]
  },
  {
   "cell_type": "code",
   "execution_count": 8,
   "metadata": {
    "collapsed": true
   },
   "outputs": [],
   "source": [
    "# baseline cvxpy\n",
    "settings.USE_CVXCANON = False"
   ]
  },
  {
   "cell_type": "code",
   "execution_count": 9,
   "metadata": {
    "collapsed": false
   },
   "outputs": [
    {
     "name": "stdout",
     "output_type": "stream",
     "text": [
      "1 loops, best of 3: 18 s per loop\n"
     ]
    }
   ],
   "source": [
    "%%timeit\n",
    "p = Problem(Minimize(norm(e-1,2)), [x>=0])\n",
    "p.get_problem_data(ECOS)"
   ]
  },
  {
   "cell_type": "code",
   "execution_count": 10,
   "metadata": {
    "collapsed": true
   },
   "outputs": [],
   "source": [
    "# CVXPY backed with CVXCanon\n",
    "settings.USE_CVXCANON = True"
   ]
  },
  {
   "cell_type": "code",
   "execution_count": 11,
   "metadata": {
    "collapsed": false
   },
   "outputs": [
    {
     "name": "stdout",
     "output_type": "stream",
     "text": [
      "Using CVXCANON\n",
      "Using CVXCANON\n",
      "Using CVXCANON\n",
      "Using CVXCANON\n",
      "1 loops, best of 3: 7.94 s per loop\n"
     ]
    }
   ],
   "source": [
    "%%timeit\n",
    "p = Problem(Minimize(norm(e-1,2)), [x>=0])\n",
    "p.get_problem_data(ECOS)"
   ]
  },
  {
   "cell_type": "code",
   "execution_count": 12,
   "metadata": {
    "collapsed": false
   },
   "outputs": [],
   "source": [
    "# Transpose\n",
    "n = 500\n",
    "A = numpy.random.randn(n,n)"
   ]
  },
  {
   "cell_type": "code",
   "execution_count": 13,
   "metadata": {
    "collapsed": true
   },
   "outputs": [],
   "source": [
    "# baseline cvxpy\n",
    "settings.USE_CVXCANON = False"
   ]
  },
  {
   "cell_type": "code",
   "execution_count": 14,
   "metadata": {
    "collapsed": false
   },
   "outputs": [
    {
     "name": "stdout",
     "output_type": "stream",
     "text": [
      "1 loops, best of 3: 468 ms per loop\n"
     ]
    }
   ],
   "source": [
    "%%timeit\n",
    "X = Variable(n,n)\n",
    "p = Problem(Minimize(norm(X.T-A,'fro')), [X[1,1] == 1])\n",
    "p.get_problem_data(ECOS)"
   ]
  },
  {
   "cell_type": "code",
   "execution_count": 15,
   "metadata": {
    "collapsed": true
   },
   "outputs": [],
   "source": [
    "# CVXPY backed with CVXCanon\n",
    "settings.USE_CVXCANON = True"
   ]
  },
  {
   "cell_type": "code",
   "execution_count": 16,
   "metadata": {
    "collapsed": false
   },
   "outputs": [
    {
     "name": "stdout",
     "output_type": "stream",
     "text": [
      "Using CVXCANON\n",
      "Using CVXCANON\n",
      "Using CVXCANON\n",
      "Using CVXCANON\n",
      "1 loops, best of 3: 215 ms per loop\n"
     ]
    }
   ],
   "source": [
    "%%timeit\n",
    "X = Variable(n,n)\n",
    "p = Problem(Minimize(norm(X.T-A,'fro')), [X[1,1] == 1])\n",
    "p.get_problem_data(ECOS)"
   ]
  },
  {
   "cell_type": "code",
   "execution_count": 17,
   "metadata": {
    "collapsed": false
   },
   "outputs": [],
   "source": [
    "# Matrix constraint.\n",
    "# CVXPY actually does a pretty good job with this one.\n",
    "# Convex.jl and CVX are slower (at least when they were profiled for the paper).\n",
    "n = 500\n",
    "A = numpy.random.randn(n,n)\n",
    "B = numpy.random.randn(n,n)"
   ]
  },
  {
   "cell_type": "code",
   "execution_count": 18,
   "metadata": {
    "collapsed": true
   },
   "outputs": [],
   "source": [
    "# baseline cvxpy\n",
    "settings.USE_CVXCANON = False"
   ]
  },
  {
   "cell_type": "code",
   "execution_count": 19,
   "metadata": {
    "collapsed": false
   },
   "outputs": [
    {
     "name": "stdout",
     "output_type": "stream",
     "text": [
      "1 loops, best of 3: 349 ms per loop\n"
     ]
    }
   ],
   "source": [
    "%%timeit\n",
    "X = Variable(n,n)\n",
    "p = Problem(Minimize(norm(X-A,'fro')), [X == B])\n",
    "p.get_problem_data(ECOS)"
   ]
  },
  {
   "cell_type": "code",
   "execution_count": 20,
   "metadata": {
    "collapsed": true
   },
   "outputs": [],
   "source": [
    "# CVXPY backed with CVXCanon\n",
    "settings.USE_CVXCANON = True"
   ]
  },
  {
   "cell_type": "code",
   "execution_count": 21,
   "metadata": {
    "collapsed": false
   },
   "outputs": [
    {
     "name": "stdout",
     "output_type": "stream",
     "text": [
      "Using CVXCANON\n",
      "Using CVXCANON\n",
      "Using CVXCANON\n",
      "Using CVXCANON\n",
      "Using CVXCANON\n",
      "Using CVXCANON\n",
      "Using CVXCANON\n",
      "Using CVXCANON\n",
      "Using CVXCANON\n",
      "Using CVXCANON\n",
      "Using CVXCANON\n",
      "Using CVXCANON\n",
      "Using CVXCANON\n",
      "Using CVXCANON\n",
      "Using CVXCANON\n",
      "Using CVXCANON\n",
      "Using CVXCANON\n",
      "Using CVXCANON\n",
      "Using CVXCANON\n",
      "Using CVXCANON\n",
      "Using CVXCANON\n",
      "Using CVXCANON\n",
      "Using CVXCANON\n",
      "Using CVXCANON\n",
      "Using CVXCANON\n",
      "Using CVXCANON\n",
      "Using CVXCANON\n",
      "Using CVXCANON\n",
      "Using CVXCANON\n",
      "Using CVXCANON\n",
      "Using CVXCANON\n",
      "Using CVXCANON\n",
      "Using CVXCANON\n",
      "Using CVXCANON\n",
      "Using CVXCANON\n",
      "Using CVXCANON\n",
      "Using CVXCANON\n",
      "Using CVXCANON\n",
      "Using CVXCANON\n",
      "Using CVXCANON\n",
      "Using CVXCANON\n",
      "10 loops, best of 3: 168 ms per loop\n"
     ]
    }
   ],
   "source": [
    "%%timeit\n",
    "X = Variable(n,n)\n",
    "p = Problem(Minimize(norm(X-A,'fro')), [X == B])\n",
    "p.get_problem_data(ECOS)"
   ]
  },
  {
   "cell_type": "code",
   "execution_count": 22,
   "metadata": {
    "collapsed": false
   },
   "outputs": [],
   "source": [
    "# Matrix product.\n",
    "# This one is a bit different, because the issue is that the coefficient for A.T*X*A has n^4 nonzeros.\n",
    "# A fix is to introduce the variable A.T*X = Y, and rewrite A.T*X*A as Y*A. \n",
    "# This will only add 2n^3 nonzeros.\n",
    "n = 50\n",
    "A = numpy.random.randn(n,n)"
   ]
  },
  {
   "cell_type": "code",
   "execution_count": 23,
   "metadata": {
    "collapsed": true
   },
   "outputs": [],
   "source": [
    "# baseline cvxpy\n",
    "settings.USE_CVXCANON = False"
   ]
  },
  {
   "cell_type": "code",
   "execution_count": 24,
   "metadata": {
    "collapsed": false
   },
   "outputs": [
    {
     "name": "stdout",
     "output_type": "stream",
     "text": [
      "1 loops, best of 3: 4.57 s per loop\n"
     ]
    }
   ],
   "source": [
    "%%timeit\n",
    "X = Variable(n,n)\n",
    "p = Problem(Minimize(norm(X,'fro')), [A.T*X*A >= 1])\n",
    "p.get_problem_data(ECOS)"
   ]
  },
  {
   "cell_type": "code",
   "execution_count": 25,
   "metadata": {
    "collapsed": true
   },
   "outputs": [],
   "source": [
    "# CVXPY backed with CVXCanon\n",
    "settings.USE_CVXCANON = True"
   ]
  },
  {
   "cell_type": "code",
   "execution_count": 26,
   "metadata": {
    "collapsed": false
   },
   "outputs": [
    {
     "name": "stdout",
     "output_type": "stream",
     "text": [
      "Using CVXCANON\n",
      "Using CVXCANON\n",
      "Using CVXCANON\n",
      "Using CVXCANON\n",
      "1 loops, best of 3: 1.96 s per loop\n"
     ]
    }
   ],
   "source": [
    "%%timeit\n",
    "X = Variable(n,n)\n",
    "p = Problem(Minimize(norm(X,'fro')), [A.T*X*A >= 1])\n",
    "p.get_problem_data(ECOS)"
   ]
  },
  {
   "cell_type": "code",
   "execution_count": 43,
   "metadata": {
    "collapsed": false
   },
   "outputs": [],
   "source": [
    "# SVM with indexing.\n",
    "def gen_data(n):\n",
    "    pos = numpy.random.multivariate_normal([1.0,2.0],numpy.eye(2),size=n)\n",
    "    neg = numpy.random.multivariate_normal([-1.0,1.0],numpy.eye(2),size=n)\n",
    "    return pos, neg\n",
    "\n",
    "N = 2\n",
    "C = 10\n",
    "pos, neg = gen_data(500)\n",
    "\n",
    "w = Variable(N)\n",
    "b = Variable()\n",
    "xi_pos = Variable(pos.shape[0])\n",
    "xi_neg = Variable(neg.shape[0])\n",
    "cost = sum_squares(w) + C*sum_entries(xi_pos) + C*sum_entries(xi_neg)\n",
    "constrs = []\n",
    "for j in range(pos.shape[0]):\n",
    "    constrs += [w.T*pos[j,:] - b >= 1 - xi_pos[j]]\n",
    "    \n",
    "for j in range(neg.shape[0]):\n",
    "    constrs += [-(w.T*neg[j,:] - b) >= 1 - xi_neg[j]]"
   ]
  },
  {
   "cell_type": "code",
   "execution_count": 44,
   "metadata": {
    "collapsed": true
   },
   "outputs": [],
   "source": [
    "# baseline cvxpy\n",
    "settings.USE_CVXCANON = False"
   ]
  },
  {
   "cell_type": "code",
   "execution_count": 45,
   "metadata": {
    "collapsed": false
   },
   "outputs": [
    {
     "name": "stdout",
     "output_type": "stream",
     "text": [
      "1 loops, best of 3: 5.84 s per loop\n"
     ]
    }
   ],
   "source": [
    "%%timeit\n",
    "p = Problem(Minimize(cost), constrs)\n",
    "p.get_problem_data(ECOS)"
   ]
  },
  {
   "cell_type": "code",
   "execution_count": 46,
   "metadata": {
    "collapsed": true
   },
   "outputs": [],
   "source": [
    "# CVXPY backed with CVXCanon\n",
    "settings.USE_CVXCANON = True"
   ]
  },
  {
   "cell_type": "code",
   "execution_count": 47,
   "metadata": {
    "collapsed": false
   },
   "outputs": [
    {
     "name": "stdout",
     "output_type": "stream",
     "text": [
      "Using CVXCANON\n",
      "Using CVXCANON\n",
      "Using CVXCANON\n",
      "Using CVXCANON\n",
      "1 loops, best of 3: 637 ms per loop\n"
     ]
    }
   ],
   "source": [
    "%%timeit\n",
    "p = Problem(Minimize(cost), constrs)\n",
    "p.get_problem_data(ECOS)"
   ]
  },
  {
   "cell_type": "code",
   "execution_count": null,
   "metadata": {
    "collapsed": false
   },
   "outputs": [],
   "source": []
  },
  {
   "cell_type": "code",
   "execution_count": null,
   "metadata": {
    "collapsed": true
   },
   "outputs": [],
   "source": []
  },
  {
   "cell_type": "code",
   "execution_count": null,
   "metadata": {
    "collapsed": true
   },
   "outputs": [],
   "source": []
  }
 ],
 "metadata": {
  "kernelspec": {
   "display_name": "Python 2",
   "language": "python",
   "name": "python2"
  },
  "language_info": {
   "codemirror_mode": {
    "name": "ipython",
    "version": 2
   },
   "file_extension": ".py",
   "mimetype": "text/x-python",
   "name": "python",
   "nbconvert_exporter": "python",
   "pygments_lexer": "ipython2",
   "version": "2.7.6"
  }
 },
 "nbformat": 4,
 "nbformat_minor": 0
}
