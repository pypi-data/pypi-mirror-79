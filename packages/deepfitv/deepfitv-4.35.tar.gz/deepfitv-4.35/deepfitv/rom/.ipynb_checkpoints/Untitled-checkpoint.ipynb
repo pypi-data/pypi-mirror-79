{
 "cells": [
  {
   "cell_type": "code",
   "execution_count": 6,
   "metadata": {},
   "outputs": [],
   "source": [
    "import pandas as pd\n",
    "from DeepFit import DeepFit"
   ]
  },
  {
   "cell_type": "code",
   "execution_count": 7,
   "metadata": {},
   "outputs": [],
   "source": [
    "path = \"SampleVideo/knee_mov.mp4\""
   ]
  },
  {
   "cell_type": "code",
   "execution_count": 8,
   "metadata": {},
   "outputs": [
    {
     "name": "stdout",
     "output_type": "stream",
     "text": [
      "SampleVideo/knee_mov.mp4\n",
      "Video got uploaded \n",
      "Video to Frames coversion is done\n",
      "Calculating ROM ...\n",
      "(332, 145)\n",
      "(332, 262)\n",
      "(221, 184)\n",
      "Range Of Motion is  70 °\n"
     ]
    }
   ],
   "source": [
    "rom_value = DeepFit.getROM(path)"
   ]
  },
  {
   "cell_type": "code",
   "execution_count": 4,
   "metadata": {},
   "outputs": [
    {
     "data": {
      "text/plain": [
       "70"
      ]
     },
     "execution_count": 4,
     "metadata": {},
     "output_type": "execute_result"
    }
   ],
   "source": [
    "rom_value"
   ]
  },
  {
   "cell_type": "code",
   "execution_count": 5,
   "metadata": {},
   "outputs": [
    {
     "name": "stdout",
     "output_type": "stream",
     "text": [
      "Range Of Motion is  12 °\n"
     ]
    }
   ],
   "source": [
    "print(\"Range Of Motion is \",int(12.79),\"°\")"
   ]
  },
  {
   "cell_type": "code",
   "execution_count": null,
   "metadata": {},
   "outputs": [],
   "source": [
    "DeepFit.skeletonImage()"
   ]
  }
 ],
 "metadata": {
  "kernelspec": {
   "display_name": "conda_python3",
   "language": "python",
   "name": "conda_python3"
  },
  "language_info": {
   "codemirror_mode": {
    "name": "ipython",
    "version": 3
   },
   "file_extension": ".py",
   "mimetype": "text/x-python",
   "name": "python",
   "nbconvert_exporter": "python",
   "pygments_lexer": "ipython3",
   "version": "3.6.10"
  }
 },
 "nbformat": 4,
 "nbformat_minor": 4
}
