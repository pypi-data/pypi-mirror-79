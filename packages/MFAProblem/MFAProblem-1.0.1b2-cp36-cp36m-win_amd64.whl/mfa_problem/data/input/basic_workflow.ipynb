{
 "cells": [
  {
   "cell_type": "code",
   "execution_count": 1,
   "metadata": {},
   "outputs": [],
   "source": [
    "import mfa_problem.io_excel as io_excel\n",
    "import mfa_problem.mfa_problem_main as mfa_problem_main"
   ]
  },
  {
   "cell_type": "code",
   "execution_count": 2,
   "metadata": {},
   "outputs": [],
   "source": [
    "from ipyfilechooser import FileChooser"
   ]
  },
  {
   "cell_type": "markdown",
   "metadata": {},
   "source": [
    "# Load problem"
   ]
  },
  {
   "cell_type": "code",
   "execution_count": 4,
   "metadata": {},
   "outputs": [
    {
     "data": {
      "application/vnd.jupyter.widget-view+json": {
       "model_id": "c998fd66fc2f4f5f94b985095529e977",
       "version_major": 2,
       "version_minor": 0
      },
      "text/plain": [
       "FileChooser(path='/', filename='', show_hidden='False')"
      ]
     },
     "metadata": {},
     "output_type": "display_data"
    }
   ],
   "source": [
    "fc = FileChooser('/')\n",
    "display(fc)"
   ]
  },
  {
   "cell_type": "code",
   "execution_count": 7,
   "metadata": {},
   "outputs": [],
   "source": [
    "excel_input_file = fc.selected"
   ]
  },
  {
   "cell_type": "code",
   "execution_count": 8,
   "metadata": {},
   "outputs": [],
   "source": [
    "mfa_problem_input = io_excel.load_mfa_problem_from_excel(excel_input_file)"
   ]
  },
  {
   "cell_type": "code",
   "execution_count": 9,
   "metadata": {},
   "outputs": [],
   "source": [
    "import pandas as pd"
   ]
  },
  {
   "cell_type": "code",
   "execution_count": 10,
   "metadata": {},
   "outputs": [],
   "source": [
    "products = pd.DataFrame(mfa_problem_input['dim_products'],index=None,columns=['Level','Element','Contrainte','transport','poids','table','Sankey','Couleur'])"
   ]
  },
  {
   "cell_type": "code",
   "execution_count": 11,
   "metadata": {},
   "outputs": [
    {
     "name": "stdout",
     "output_type": "stream",
     "text": [
      " Level Element  Contrainte  transport poids table Sankey Couleur\n",
      "     1  Fruits           1      False  None  None  False        \n",
      "     2  Pommes           1      False  None  None      1   green\n",
      "     2  Poires           1      False  None  None      1  orange\n"
     ]
    }
   ],
   "source": [
    "print(products.to_string(index=False))"
   ]
  },
  {
   "cell_type": "code",
   "execution_count": 12,
   "metadata": {},
   "outputs": [],
   "source": [
    "sectors = pd.DataFrame(mfa_problem_input['dim_sectors'],index=None,columns=['Level','Element','Contrainte','transport','poids','table','Sankey','Couleur'])"
   ]
  },
  {
   "cell_type": "code",
   "execution_count": 13,
   "metadata": {
    "scrolled": true
   },
   "outputs": [],
   "source": [
    "ter_supply = pd.DataFrame(mfa_problem_input['ter_base']['supply'])"
   ]
  },
  {
   "cell_type": "code",
   "execution_count": 14,
   "metadata": {},
   "outputs": [
    {
     "data": {
      "text/html": [
       "<div>\n",
       "<style scoped>\n",
       "    .dataframe tbody tr th:only-of-type {\n",
       "        vertical-align: middle;\n",
       "    }\n",
       "\n",
       "    .dataframe tbody tr th {\n",
       "        vertical-align: top;\n",
       "    }\n",
       "\n",
       "    .dataframe thead th {\n",
       "        text-align: right;\n",
       "    }\n",
       "</style>\n",
       "<table border=\"1\" class=\"dataframe\">\n",
       "  <thead>\n",
       "    <tr style=\"text-align: right;\">\n",
       "      <th></th>\n",
       "      <th>0</th>\n",
       "      <th>1</th>\n",
       "      <th>2</th>\n",
       "      <th>3</th>\n",
       "      <th>4</th>\n",
       "    </tr>\n",
       "  </thead>\n",
       "  <tbody>\n",
       "    <tr>\n",
       "      <th>0</th>\n",
       "      <td>1</td>\n",
       "      <td>1.0</td>\n",
       "      <td>1.0</td>\n",
       "      <td>None</td>\n",
       "      <td>1</td>\n",
       "    </tr>\n",
       "    <tr>\n",
       "      <th>1</th>\n",
       "      <td>1</td>\n",
       "      <td>1.0</td>\n",
       "      <td>NaN</td>\n",
       "      <td>None</td>\n",
       "      <td>1</td>\n",
       "    </tr>\n",
       "    <tr>\n",
       "      <th>2</th>\n",
       "      <td>1</td>\n",
       "      <td>NaN</td>\n",
       "      <td>1.0</td>\n",
       "      <td>None</td>\n",
       "      <td>1</td>\n",
       "    </tr>\n",
       "  </tbody>\n",
       "</table>\n",
       "</div>"
      ],
      "text/plain": [
       "   0    1    2     3  4\n",
       "0  1  1.0  1.0  None  1\n",
       "1  1  1.0  NaN  None  1\n",
       "2  1  NaN  1.0  None  1"
      ]
     },
     "execution_count": 14,
     "metadata": {},
     "output_type": "execute_result"
    }
   ],
   "source": [
    "ter_supply"
   ]
  },
  {
   "cell_type": "code",
   "execution_count": 15,
   "metadata": {},
   "outputs": [
    {
     "data": {
      "text/plain": [
       "{'supply': [[1, 1, 1, None, 1], [1, 1, None, None, 1], [1, None, 1, None, 1]],\n",
       " 'use': [[None, None, None, 1, 1],\n",
       "  [None, None, None, 1, 1],\n",
       "  [None, None, None, 1, None]]}"
      ]
     },
     "execution_count": 15,
     "metadata": {},
     "output_type": "execute_result"
    }
   ],
   "source": [
    "mfa_problem_input['ter_base']"
   ]
  },
  {
   "cell_type": "markdown",
   "metadata": {},
   "source": [
    "# Solves problem"
   ]
  },
  {
   "cell_type": "code",
   "execution_count": 16,
   "metadata": {},
   "outputs": [],
   "source": [
    "mfa_problem_output = mfa_problem_main.optimisation(\n",
    "    'tutu',\n",
    "    mfa_problem_input,\n",
    "    uncertainty_analysis=False, nb_realisations=None,\n",
    "    downscale=False,\n",
    "    upper_level_index2name=None, upper_level_solved_vector=None,\n",
    "    upper_level_classification=None, montecarlo_upper_level=None,\n",
    "    record_simulations=False\n",
    ")"
   ]
  },
  {
   "cell_type": "code",
   "execution_count": 17,
   "metadata": {},
   "outputs": [
    {
     "data": {
      "text/plain": [
       "[[None,\n",
       "  'Production de fruits',\n",
       "  'Production de pommes',\n",
       "  'Production de poires',\n",
       "  'Consommation',\n",
       "  'International'],\n",
       " ['Fruits', 45.0, 30.0, 15.0, None, 20.0],\n",
       " ['Pommes', 30.0, 30.0, None, None, 10.0],\n",
       " ['Poires', 15.0, None, 15.0, None, 10.0]]"
      ]
     },
     "execution_count": 17,
     "metadata": {},
     "output_type": "execute_result"
    }
   ],
   "source": [
    "mfa_problem_output['result ter moy']['supply']"
   ]
  },
  {
   "cell_type": "code",
   "execution_count": 18,
   "metadata": {},
   "outputs": [
    {
     "data": {
      "text/plain": [
       "[[None,\n",
       "  'Production de fruits',\n",
       "  'Production de pommes',\n",
       "  'Production de poires',\n",
       "  'Consommation',\n",
       "  'International'],\n",
       " ['Fruits', None, None, None, 45.0, 20.0],\n",
       " ['Pommes', None, None, None, 20.0, 20.0],\n",
       " ['Poires', None, None, None, 25.0, None]]"
      ]
     },
     "execution_count": 18,
     "metadata": {},
     "output_type": "execute_result"
    }
   ],
   "source": [
    "mfa_problem_output['result ter moy']['use']"
   ]
  },
  {
   "cell_type": "markdown",
   "metadata": {},
   "source": [
    "# Export to excel"
   ]
  },
  {
   "cell_type": "code",
   "execution_count": 22,
   "metadata": {},
   "outputs": [
    {
     "data": {
      "application/vnd.jupyter.widget-view+json": {
       "model_id": "dc2b006a9ee9476ca20b828b059d9b5f",
       "version_major": 2,
       "version_minor": 0
      },
      "text/plain": [
       "FileChooser(path='/', filename='', show_hidden='False')"
      ]
     },
     "metadata": {},
     "output_type": "display_data"
    }
   ],
   "source": [
    "fc = FileChooser('/')\n",
    "display(fc)"
   ]
  },
  {
   "cell_type": "code",
   "execution_count": 26,
   "metadata": {},
   "outputs": [
    {
     "data": {
      "text/plain": [
       "'D:\\\\Noam\\\\tutu.xlsx'"
      ]
     },
     "execution_count": 26,
     "metadata": {},
     "output_type": "execute_result"
    }
   ],
   "source": [
    "from shutil import copyfile\n",
    "output_excel_file = fc.selected\n",
    "output_excel_file"
   ]
  },
  {
   "cell_type": "code",
   "execution_count": 27,
   "metadata": {},
   "outputs": [],
   "source": [
    "copyfile(excel_input_file, output_excel_file)\n",
    "io_excel.write_mfa_problem_output_to_excel(\n",
    "    output_excel_file,\n",
    "    mfa_problem_input,\n",
    "    mfa_problem_output\n",
    ")"
   ]
  },
  {
   "cell_type": "code",
   "execution_count": null,
   "metadata": {},
   "outputs": [],
   "source": []
  }
 ],
 "metadata": {
  "kernelspec": {
   "display_name": "Python 3",
   "language": "python",
   "name": "python3"
  },
  "language_info": {
   "codemirror_mode": {
    "name": "ipython",
    "version": 3
   },
   "file_extension": ".py",
   "mimetype": "text/x-python",
   "name": "python",
   "nbconvert_exporter": "python",
   "pygments_lexer": "ipython3",
   "version": "3.7.6"
  }
 },
 "nbformat": 4,
 "nbformat_minor": 4
}
