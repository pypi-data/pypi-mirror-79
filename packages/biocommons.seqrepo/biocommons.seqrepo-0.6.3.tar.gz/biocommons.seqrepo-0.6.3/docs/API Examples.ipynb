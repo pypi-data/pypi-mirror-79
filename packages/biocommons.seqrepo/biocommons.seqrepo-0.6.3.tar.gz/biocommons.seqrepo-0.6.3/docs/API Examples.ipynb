{
 "cells": [
  {
   "cell_type": "markdown",
   "metadata": {},
   "source": [
    "## Python library"
   ]
  },
  {
   "cell_type": "code",
   "execution_count": 1,
   "metadata": {},
   "outputs": [],
   "source": [
    "from biocommons.seqrepo import SeqRepo"
   ]
  },
  {
   "cell_type": "code",
   "execution_count": 2,
   "metadata": {},
   "outputs": [],
   "source": [
    "sr = SeqRepo(\"/usr/local/share/seqrepo/latest/\")"
   ]
  },
  {
   "cell_type": "code",
   "execution_count": 3,
   "metadata": {},
   "outputs": [
    {
     "data": {
      "text/plain": [
       "'GTGGAGCGCGCCGCCACGGA'"
      ]
     },
     "execution_count": 3,
     "metadata": {},
     "output_type": "execute_result"
    }
   ],
   "source": [
    "# sequences may be fetched by a namespace alias\n",
    "sr.fetch(namespace=\"GRCh38\", alias=\"chr1\", start=1000000, end=1000020)"
   ]
  },
  {
   "cell_type": "code",
   "execution_count": 4,
   "metadata": {},
   "outputs": [
    {
     "data": {
      "text/plain": [
       "'GTGGAGCGCGCCGCCACGGA'"
      ]
     },
     "execution_count": 4,
     "metadata": {},
     "output_type": "execute_result"
    }
   ],
   "source": [
    "# SeqRepo also supports dictionary-style lookup\n",
    "sr[\"refseq:NC_000001.11\"][1000000:1000020]"
   ]
  },
  {
   "cell_type": "code",
   "execution_count": 5,
   "metadata": {},
   "outputs": [
    {
     "data": {
      "text/plain": [
       "'GTGGAGCGCGCCGCCACGGA'"
      ]
     },
     "execution_count": 5,
     "metadata": {},
     "output_type": "execute_result"
    }
   ],
   "source": [
    "# aliases need to be namespace-qualified only if ambiguous\n",
    "sr[\"NC_000001.11\"][1000000:1000020]"
   ]
  },
  {
   "cell_type": "code",
   "execution_count": 6,
   "metadata": {},
   "outputs": [
    {
     "name": "stdout",
     "output_type": "stream",
     "text": [
      "'Alias chr1 (namespace: None): not unique'\n"
     ]
    }
   ],
   "source": [
    "# non-unique aliases raise exceptions\n",
    "try:\n",
    "    sr[\"chr1\"][1000000:1000020]\n",
    "except KeyError as e:\n",
    "    print(e)"
   ]
  },
  {
   "cell_type": "code",
   "execution_count": 7,
   "metadata": {},
   "outputs": [
    {
     "data": {
      "text/plain": [
       "['GRCh38:1',\n",
       " 'GRCh38:chr1',\n",
       " 'GRCh38.p1:1',\n",
       " 'GRCh38.p1:chr1',\n",
       " 'GRCh38.p10:1',\n",
       " 'GRCh38.p10:chr1',\n",
       " 'GRCh38.p11:1',\n",
       " 'GRCh38.p11:chr1',\n",
       " 'GRCh38.p12:1',\n",
       " 'GRCh38.p12:chr1',\n",
       " 'GRCh38.p2:1',\n",
       " 'GRCh38.p2:chr1',\n",
       " 'GRCh38.p3:1',\n",
       " 'GRCh38.p3:chr1',\n",
       " 'GRCh38.p4:1',\n",
       " 'GRCh38.p4:chr1',\n",
       " 'GRCh38.p5:1',\n",
       " 'GRCh38.p5:chr1',\n",
       " 'GRCh38.p6:1',\n",
       " 'GRCh38.p6:chr1',\n",
       " 'GRCh38.p7:1',\n",
       " 'GRCh38.p7:chr1',\n",
       " 'GRCh38.p8:1',\n",
       " 'GRCh38.p8:chr1',\n",
       " 'GRCh38.p9:1',\n",
       " 'GRCh38.p9:chr1',\n",
       " 'MD5:6aef897c3d6ff0c78aff06ac189178dd',\n",
       " 'NCBI:NC_000001.11',\n",
       " 'refseq:NC_000001.11',\n",
       " 'SEGUID:FCUd6VJ6uikS/VWLbhGdVmj2rOA',\n",
       " 'SHA1:14251de9527aba2912fd558b6e119d5668f6ace0',\n",
       " 'VMC:GS_Ya6Rs7DHhDeg7YaOSg1EoNi3U_nQ9SvO',\n",
       " 'sha512t24u:Ya6Rs7DHhDeg7YaOSg1EoNi3U_nQ9SvO',\n",
       " 'ga4gh:SQ.Ya6Rs7DHhDeg7YaOSg1EoNi3U_nQ9SvO']"
      ]
     },
     "execution_count": 7,
     "metadata": {},
     "output_type": "execute_result"
    }
   ],
   "source": [
    "sr.translate_alias(\"NC_000001.11\")"
   ]
  },
  {
   "cell_type": "markdown",
   "metadata": {},
   "source": [
    "---\n",
    "### SeqRepo REST Interface"
   ]
  },
  {
   "cell_type": "code",
   "execution_count": 8,
   "metadata": {},
   "outputs": [],
   "source": [
    "import requests"
   ]
  },
  {
   "cell_type": "code",
   "execution_count": 9,
   "metadata": {},
   "outputs": [
    {
     "data": {
      "text/plain": [
       "{'detail': 'Not Found'}"
      ]
     },
     "execution_count": 9,
     "metadata": {},
     "output_type": "execute_result"
    }
   ],
   "source": [
    "requests.get(\"http://localhost:5000/seqrepo/1/ping\").json()"
   ]
  },
  {
   "cell_type": "code",
   "execution_count": 10,
   "metadata": {},
   "outputs": [
    {
     "data": {
      "text/plain": [
       "'\"ACTAAGCACACAGAGAATAA\"'"
      ]
     },
     "execution_count": 10,
     "metadata": {},
     "output_type": "execute_result"
    }
   ],
   "source": [
    "requests.get(\"http://localhost:5000/seqrepo/1/sequence/NC_000001.11?start=100000&end=100020\").text"
   ]
  },
  {
   "cell_type": "code",
   "execution_count": 11,
   "metadata": {},
   "outputs": [
    {
     "data": {
      "text/plain": [
       "{'detail': 'Not Found'}"
      ]
     },
     "execution_count": 11,
     "metadata": {},
     "output_type": "execute_result"
    }
   ],
   "source": [
    "requests.get(\"http://localhost:5000/seqrepo/1/metadata/NC_000001.11\").json()"
   ]
  },
  {
   "cell_type": "markdown",
   "metadata": {},
   "source": [
    "---\n",
    "### refget API"
   ]
  },
  {
   "cell_type": "code",
   "execution_count": 12,
   "metadata": {},
   "outputs": [
    {
     "data": {
      "text/plain": [
       "{'detail': 'Not Found'}"
      ]
     },
     "execution_count": 12,
     "metadata": {},
     "output_type": "execute_result"
    }
   ],
   "source": [
    "requests.get(\"http://localhost:5000/refget/1/ping\").json()"
   ]
  },
  {
   "cell_type": "code",
   "execution_count": 13,
   "metadata": {},
   "outputs": [
    {
     "data": {
      "text/plain": [
       "{'detail': 'Not Found'}"
      ]
     },
     "execution_count": 13,
     "metadata": {},
     "output_type": "execute_result"
    }
   ],
   "source": [
    "requests.get(\"http://localhost:5000/refget/1/sequence/service-info\").json()"
   ]
  },
  {
   "cell_type": "code",
   "execution_count": 14,
   "metadata": {},
   "outputs": [
    {
     "data": {
      "text/plain": [
       "'{\"detail\":\"Not Found\"}'"
      ]
     },
     "execution_count": 14,
     "metadata": {},
     "output_type": "execute_result"
    }
   ],
   "source": [
    "requests.get(\"http://localhost:5000/refget/1/sequence/ga4gh%3ASQ.Ya6Rs7DHhDeg7YaOSg1EoNi3U_nQ9SvO?start=100000&end=100020\").text"
   ]
  },
  {
   "cell_type": "code",
   "execution_count": 15,
   "metadata": {},
   "outputs": [
    {
     "data": {
      "text/plain": [
       "{'detail': 'Not Found'}"
      ]
     },
     "execution_count": 15,
     "metadata": {},
     "output_type": "execute_result"
    }
   ],
   "source": [
    "requests.get(\"http://localhost:5000/refget/1/sequence/ga4gh%3ASQ.Ya6Rs7DHhDeg7YaOSg1EoNi3U_nQ9SvO/metadata\").json()"
   ]
  },
  {
   "cell_type": "code",
   "execution_count": null,
   "metadata": {},
   "outputs": [],
   "source": []
  }
 ],
 "metadata": {
  "kernelspec": {
   "display_name": "Python 3",
   "language": "python",
   "name": "python3"
  },
  "language_info": {
   "codemirror_mode": {
    "name": "ipython",
    "version": 3
   },
   "file_extension": ".py",
   "mimetype": "text/x-python",
   "name": "python",
   "nbconvert_exporter": "python",
   "pygments_lexer": "ipython3",
   "version": "3.8.2"
  }
 },
 "nbformat": 4,
 "nbformat_minor": 4
}
