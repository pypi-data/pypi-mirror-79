{
 "cells": [
  {
   "cell_type": "code",
   "execution_count": 1,
   "metadata": {},
   "outputs": [],
   "source": [
    "from pathlib import Path\n",
    "repo = Path(\"..\")"
   ]
  },
  {
   "cell_type": "markdown",
   "metadata": {},
   "source": [
    "# 1 - Quick start"
   ]
  },
  {
   "cell_type": "code",
   "execution_count": 17,
   "metadata": {},
   "outputs": [],
   "source": [
    " import aseg_gdf2"
   ]
  },
  {
   "cell_type": "markdown",
   "metadata": {},
   "source": [
    "Read in a simple example GDF2 file"
   ]
  },
  {
   "cell_type": "code",
   "execution_count": 39,
   "metadata": {},
   "outputs": [
    {
     "data": {
      "text/plain": [
       "<aseg_gdf2.gdf2.GDF2 object at 0x00000281330D72C8 nrecords=?>"
      ]
     },
     "execution_count": 39,
     "metadata": {},
     "output_type": "execute_result"
    }
   ],
   "source": [
    "gdf = aseg_gdf2.read(repo / r\"tests/example_datasets/3bcfc711/GA1286_Waveforms\")\n",
    "gdf"
   ]
  },
  {
   "cell_type": "markdown",
   "metadata": {},
   "source": [
    "How big is the data table? `aseg_gdf2` doesn't know initially, because it is generally \"lazy\", only calculating things or retrieving data as requested. This is intended to allow working on very large files. \n",
    "\n",
    "You can find out the size of the data table file by accessing the `nrecords` attribute:"
   ]
  },
  {
   "cell_type": "code",
   "execution_count": 40,
   "metadata": {},
   "outputs": [
    {
     "data": {
      "text/plain": [
       "23039"
      ]
     },
     "execution_count": 40,
     "metadata": {},
     "output_type": "execute_result"
    }
   ],
   "source": [
    "gdf.nrecords"
   ]
  },
  {
   "cell_type": "code",
   "execution_count": 41,
   "metadata": {},
   "outputs": [
    {
     "data": {
      "text/plain": [
       "<aseg_gdf2.gdf2.GDF2 object at 0x00000281330D72C8 nrecords=23039>"
      ]
     },
     "execution_count": 41,
     "metadata": {},
     "output_type": "execute_result"
    }
   ],
   "source": [
    "gdf"
   ]
  },
  {
   "cell_type": "code",
   "execution_count": 42,
   "metadata": {},
   "outputs": [
    {
     "data": {
      "text/plain": [
       "['FLTNUM', 'Rx_Voltage', 'Flight', 'Time', 'Tx_Current']"
      ]
     },
     "execution_count": 42,
     "metadata": {},
     "output_type": "execute_result"
    }
   ],
   "source": [
    "gdf.field_names()"
   ]
  },
  {
   "cell_type": "markdown",
   "metadata": {},
   "source": [
    "You can iterate over rows in the data table:"
   ]
  },
  {
   "cell_type": "code",
   "execution_count": 43,
   "metadata": {
    "scrolled": false
   },
   "outputs": [
    {
     "name": "stdout",
     "output_type": "stream",
     "text": [
      "{'Index': 0, 'FLTNUM': 1.0, 'Rx_Voltage': -0.0, 'Flight': 1, 'Time': 0.0052, 'Tx_Current': 0.00176}\n",
      "{'Index': 1, 'FLTNUM': 1.0, 'Rx_Voltage': -0.0, 'Flight': 1, 'Time': 0.0104, 'Tx_Current': 0.00176}\n",
      "{'Index': 2, 'FLTNUM': 1.0, 'Rx_Voltage': -0.0, 'Flight': 1, 'Time': 0.0156, 'Tx_Current': 0.00176}\n",
      "{'Index': 3, 'FLTNUM': 1.0, 'Rx_Voltage': -0.0, 'Flight': 1, 'Time': 0.0208, 'Tx_Current': 0.00176}\n",
      "{'Index': 4, 'FLTNUM': 1.0, 'Rx_Voltage': -0.0, 'Flight': 1, 'Time': 0.026, 'Tx_Current': 0.00176}\n",
      "{'Index': 5, 'FLTNUM': 1.0, 'Rx_Voltage': -0.0, 'Flight': 1, 'Time': 0.0312, 'Tx_Current': 0.00176}\n"
     ]
    }
   ],
   "source": [
    "i = 0\n",
    "for row in gdf.iterrows():\n",
    "    print(row)\n",
    "    i += 1\n",
    "    if i > 5:\n",
    "        break"
   ]
  },
  {
   "cell_type": "markdown",
   "metadata": {},
   "source": [
    "You can also get the data table as a pandas.DataFrame:"
   ]
  },
  {
   "cell_type": "code",
   "execution_count": 44,
   "metadata": {},
   "outputs": [
    {
     "data": {
      "text/html": [
       "<div>\n",
       "<style scoped>\n",
       "    .dataframe tbody tr th:only-of-type {\n",
       "        vertical-align: middle;\n",
       "    }\n",
       "\n",
       "    .dataframe tbody tr th {\n",
       "        vertical-align: top;\n",
       "    }\n",
       "\n",
       "    .dataframe thead th {\n",
       "        text-align: right;\n",
       "    }\n",
       "</style>\n",
       "<table border=\"1\" class=\"dataframe\">\n",
       "  <thead>\n",
       "    <tr style=\"text-align: right;\">\n",
       "      <th></th>\n",
       "      <th>FLTNUM</th>\n",
       "      <th>Rx_Voltage</th>\n",
       "      <th>Flight</th>\n",
       "      <th>Time</th>\n",
       "      <th>Tx_Current</th>\n",
       "    </tr>\n",
       "  </thead>\n",
       "  <tbody>\n",
       "    <tr>\n",
       "      <td>0</td>\n",
       "      <td>1.0</td>\n",
       "      <td>-0.0</td>\n",
       "      <td>1</td>\n",
       "      <td>0.0052</td>\n",
       "      <td>0.00176</td>\n",
       "    </tr>\n",
       "    <tr>\n",
       "      <td>1</td>\n",
       "      <td>1.0</td>\n",
       "      <td>-0.0</td>\n",
       "      <td>1</td>\n",
       "      <td>0.0104</td>\n",
       "      <td>0.00176</td>\n",
       "    </tr>\n",
       "    <tr>\n",
       "      <td>2</td>\n",
       "      <td>1.0</td>\n",
       "      <td>-0.0</td>\n",
       "      <td>1</td>\n",
       "      <td>0.0156</td>\n",
       "      <td>0.00176</td>\n",
       "    </tr>\n",
       "    <tr>\n",
       "      <td>3</td>\n",
       "      <td>1.0</td>\n",
       "      <td>-0.0</td>\n",
       "      <td>1</td>\n",
       "      <td>0.0208</td>\n",
       "      <td>0.00176</td>\n",
       "    </tr>\n",
       "    <tr>\n",
       "      <td>4</td>\n",
       "      <td>1.0</td>\n",
       "      <td>-0.0</td>\n",
       "      <td>1</td>\n",
       "      <td>0.0260</td>\n",
       "      <td>0.00176</td>\n",
       "    </tr>\n",
       "  </tbody>\n",
       "</table>\n",
       "</div>"
      ],
      "text/plain": [
       "   FLTNUM  Rx_Voltage  Flight    Time  Tx_Current\n",
       "0     1.0        -0.0       1  0.0052     0.00176\n",
       "1     1.0        -0.0       1  0.0104     0.00176\n",
       "2     1.0        -0.0       1  0.0156     0.00176\n",
       "3     1.0        -0.0       1  0.0208     0.00176\n",
       "4     1.0        -0.0       1  0.0260     0.00176"
      ]
     },
     "execution_count": 44,
     "metadata": {},
     "output_type": "execute_result"
    }
   ],
   "source": [
    "df = gdf.df()\n",
    "df.head()"
   ]
  },
  {
   "cell_type": "code",
   "execution_count": 45,
   "metadata": {},
   "outputs": [
    {
     "name": "stdout",
     "output_type": "stream",
     "text": [
      "   FLTNUM  Rx_Voltage  Flight    Time  Tx_Current\n",
      "0     1.0        -0.0       1  0.0052     0.00176\n",
      "1     1.0        -0.0       1  0.0104     0.00176\n",
      "2     1.0        -0.0       1  0.0156     0.00176\n",
      "3     1.0        -0.0       1  0.0208     0.00176\n",
      "4     1.0        -0.0       1  0.0260     0.00176\n"
     ]
    }
   ],
   "source": [
    "print(gdf.df().head())"
   ]
  },
  {
   "cell_type": "markdown",
   "metadata": {},
   "source": [
    "(If the file is too big to fit in memory, you can also use dask in exactly the same way -- see [Example 3](3%20-%20Use%20dask%20to%20read%20a%20DAT%20file%20too%20big%20to%20fit%20in%20memory.ipynb))"
   ]
  },
  {
   "cell_type": "markdown",
   "metadata": {},
   "source": [
    "The metadata from the definition file is there too:"
   ]
  },
  {
   "cell_type": "code",
   "execution_count": 24,
   "metadata": {},
   "outputs": [
    {
     "data": {
      "text/plain": [
       "{'': {'fields': [{'name': 'FLTNUM',\n",
       "    'format': 'F10.1',\n",
       "    'unit': '',\n",
       "    'null': None,\n",
       "    'long_name': 'FlightNumber',\n",
       "    'comment': '',\n",
       "    'cols': 1,\n",
       "    'width': 10},\n",
       "   {'name': 'Rx_Voltage',\n",
       "    'format': 'F10.5',\n",
       "    'unit': 'Volt',\n",
       "    'null': '-99.99999',\n",
       "    'long_name': 'Rx_Voltage',\n",
       "    'comment': '',\n",
       "    'cols': 1,\n",
       "    'width': 10},\n",
       "   {'name': 'Flight',\n",
       "    'format': 'I6',\n",
       "    'unit': '',\n",
       "    'null': '-9999',\n",
       "    'long_name': 'Flight',\n",
       "    'comment': '',\n",
       "    'cols': 1,\n",
       "    'width': 6},\n",
       "   {'name': 'Time',\n",
       "    'format': 'F10.4',\n",
       "    'unit': 'msec',\n",
       "    'null': '-999.9999',\n",
       "    'long_name': 'Time',\n",
       "    'comment': '',\n",
       "    'cols': 1,\n",
       "    'width': 10},\n",
       "   {'name': 'Tx_Current',\n",
       "    'format': 'F13.5',\n",
       "    'unit': 'Amp',\n",
       "    'null': '-99999.99999',\n",
       "    'long_name': 'Tx_Current',\n",
       "    'comment': '',\n",
       "    'cols': 1,\n",
       "    'width': 13}],\n",
       "  'format': None}}"
      ]
     },
     "execution_count": 24,
     "metadata": {},
     "output_type": "execute_result"
    }
   ],
   "source": [
    "gdf.record_types"
   ]
  },
  {
   "cell_type": "markdown",
   "metadata": {},
   "source": [
    "You can also get this metadata as a DataFrame:"
   ]
  },
  {
   "cell_type": "code",
   "execution_count": 25,
   "metadata": {},
   "outputs": [
    {
     "data": {
      "text/html": [
       "<div>\n",
       "<style scoped>\n",
       "    .dataframe tbody tr th:only-of-type {\n",
       "        vertical-align: middle;\n",
       "    }\n",
       "\n",
       "    .dataframe tbody tr th {\n",
       "        vertical-align: top;\n",
       "    }\n",
       "\n",
       "    .dataframe thead th {\n",
       "        text-align: right;\n",
       "    }\n",
       "</style>\n",
       "<table border=\"1\" class=\"dataframe\">\n",
       "  <thead>\n",
       "    <tr style=\"text-align: right;\">\n",
       "      <th></th>\n",
       "      <th>record_type</th>\n",
       "      <th>name</th>\n",
       "      <th>format</th>\n",
       "      <th>unit</th>\n",
       "      <th>null</th>\n",
       "      <th>long_name</th>\n",
       "      <th>comment</th>\n",
       "      <th>cols</th>\n",
       "      <th>width</th>\n",
       "    </tr>\n",
       "  </thead>\n",
       "  <tbody>\n",
       "    <tr>\n",
       "      <td>0</td>\n",
       "      <td></td>\n",
       "      <td>FLTNUM</td>\n",
       "      <td>F10.1</td>\n",
       "      <td></td>\n",
       "      <td>None</td>\n",
       "      <td>FlightNumber</td>\n",
       "      <td></td>\n",
       "      <td>1</td>\n",
       "      <td>10</td>\n",
       "    </tr>\n",
       "    <tr>\n",
       "      <td>1</td>\n",
       "      <td></td>\n",
       "      <td>Rx_Voltage</td>\n",
       "      <td>F10.5</td>\n",
       "      <td>Volt</td>\n",
       "      <td>-99.99999</td>\n",
       "      <td>Rx_Voltage</td>\n",
       "      <td></td>\n",
       "      <td>1</td>\n",
       "      <td>10</td>\n",
       "    </tr>\n",
       "    <tr>\n",
       "      <td>2</td>\n",
       "      <td></td>\n",
       "      <td>Flight</td>\n",
       "      <td>I6</td>\n",
       "      <td></td>\n",
       "      <td>-9999</td>\n",
       "      <td>Flight</td>\n",
       "      <td></td>\n",
       "      <td>1</td>\n",
       "      <td>6</td>\n",
       "    </tr>\n",
       "    <tr>\n",
       "      <td>3</td>\n",
       "      <td></td>\n",
       "      <td>Time</td>\n",
       "      <td>F10.4</td>\n",
       "      <td>msec</td>\n",
       "      <td>-999.9999</td>\n",
       "      <td>Time</td>\n",
       "      <td></td>\n",
       "      <td>1</td>\n",
       "      <td>10</td>\n",
       "    </tr>\n",
       "    <tr>\n",
       "      <td>4</td>\n",
       "      <td></td>\n",
       "      <td>Tx_Current</td>\n",
       "      <td>F13.5</td>\n",
       "      <td>Amp</td>\n",
       "      <td>-99999.99999</td>\n",
       "      <td>Tx_Current</td>\n",
       "      <td></td>\n",
       "      <td>1</td>\n",
       "      <td>13</td>\n",
       "    </tr>\n",
       "  </tbody>\n",
       "</table>\n",
       "</div>"
      ],
      "text/plain": [
       "  record_type        name format  unit          null     long_name comment  \\\n",
       "0                  FLTNUM  F10.1                None  FlightNumber           \n",
       "1              Rx_Voltage  F10.5  Volt     -99.99999    Rx_Voltage           \n",
       "2                  Flight     I6               -9999        Flight           \n",
       "3                    Time  F10.4  msec     -999.9999          Time           \n",
       "4              Tx_Current  F13.5   Amp  -99999.99999    Tx_Current           \n",
       "\n",
       "   cols  width  \n",
       "0     1     10  \n",
       "1     1     10  \n",
       "2     1      6  \n",
       "3     1     10  \n",
       "4     1     13  "
      ]
     },
     "execution_count": 25,
     "metadata": {},
     "output_type": "execute_result"
    }
   ],
   "source": [
    "gdf.record_types.df()"
   ]
  },
  {
   "cell_type": "markdown",
   "metadata": {},
   "source": [
    "Get the data just for one field/column as either a pandas Series, or an ndarray:"
   ]
  },
  {
   "cell_type": "code",
   "execution_count": 26,
   "metadata": {
    "scrolled": true
   },
   "outputs": [
    {
     "data": {
      "text/plain": [
       "array([5.20000e-03, 1.04000e-02, 1.56000e-02, ..., 5.99844e+01,\n",
       "       5.99896e+01, 5.99948e+01])"
      ]
     },
     "execution_count": 26,
     "metadata": {},
     "output_type": "execute_result"
    }
   ],
   "source": [
    "gdf.get_field_data('Time')"
   ]
  },
  {
   "cell_type": "markdown",
   "metadata": {},
   "source": [
    "What about fields which are 2D arrays? \n",
    "\n",
    "Some GDF2 data files have fields with more than one value per row/record. \n",
    "\n",
    "Let's load a different example where this is the case."
   ]
  },
  {
   "cell_type": "code",
   "execution_count": 46,
   "metadata": {},
   "outputs": [],
   "source": [
    "gdf = aseg_gdf2.read(repo / r\"tests/example_datasets/9a13704a/Mugrave_WB_MGA52.dfn\")"
   ]
  },
  {
   "cell_type": "code",
   "execution_count": 47,
   "metadata": {},
   "outputs": [
    {
     "data": {
      "text/html": [
       "<div>\n",
       "<style scoped>\n",
       "    .dataframe tbody tr th:only-of-type {\n",
       "        vertical-align: middle;\n",
       "    }\n",
       "\n",
       "    .dataframe tbody tr th {\n",
       "        vertical-align: top;\n",
       "    }\n",
       "\n",
       "    .dataframe thead th {\n",
       "        text-align: right;\n",
       "    }\n",
       "</style>\n",
       "<table border=\"1\" class=\"dataframe\">\n",
       "  <thead>\n",
       "    <tr style=\"text-align: right;\">\n",
       "      <th></th>\n",
       "      <th>record_type</th>\n",
       "      <th>name</th>\n",
       "      <th>format</th>\n",
       "      <th>unit</th>\n",
       "      <th>null</th>\n",
       "      <th>long_name</th>\n",
       "      <th>comment</th>\n",
       "      <th>cols</th>\n",
       "      <th>width</th>\n",
       "    </tr>\n",
       "  </thead>\n",
       "  <tbody>\n",
       "    <tr>\n",
       "      <td>0</td>\n",
       "      <td>COMM</td>\n",
       "      <td>RT</td>\n",
       "      <td>A4</td>\n",
       "      <td></td>\n",
       "      <td>None</td>\n",
       "      <td></td>\n",
       "      <td></td>\n",
       "      <td>1</td>\n",
       "      <td>4</td>\n",
       "    </tr>\n",
       "    <tr>\n",
       "      <td>1</td>\n",
       "      <td>COMM</td>\n",
       "      <td>COMMENTS</td>\n",
       "      <td>A76</td>\n",
       "      <td></td>\n",
       "      <td>None</td>\n",
       "      <td></td>\n",
       "      <td></td>\n",
       "      <td>1</td>\n",
       "      <td>76</td>\n",
       "    </tr>\n",
       "    <tr>\n",
       "      <td>0</td>\n",
       "      <td></td>\n",
       "      <td>GA_Project</td>\n",
       "      <td>I10</td>\n",
       "      <td></td>\n",
       "      <td>None</td>\n",
       "      <td></td>\n",
       "      <td>Geoscience Australia airborne survey project n...</td>\n",
       "      <td>1</td>\n",
       "      <td>10</td>\n",
       "    </tr>\n",
       "    <tr>\n",
       "      <td>1</td>\n",
       "      <td></td>\n",
       "      <td>Job_No</td>\n",
       "      <td>I10</td>\n",
       "      <td></td>\n",
       "      <td>None</td>\n",
       "      <td></td>\n",
       "      <td>SkyTEM Australia Job Number</td>\n",
       "      <td>1</td>\n",
       "      <td>10</td>\n",
       "    </tr>\n",
       "    <tr>\n",
       "      <td>2</td>\n",
       "      <td></td>\n",
       "      <td>Fiducial</td>\n",
       "      <td>F15.2</td>\n",
       "      <td></td>\n",
       "      <td>None</td>\n",
       "      <td></td>\n",
       "      <td>Fiducial</td>\n",
       "      <td>1</td>\n",
       "      <td>15</td>\n",
       "    </tr>\n",
       "    <tr>\n",
       "      <td>3</td>\n",
       "      <td></td>\n",
       "      <td>DATETIME</td>\n",
       "      <td>F18.10</td>\n",
       "      <td>days</td>\n",
       "      <td>None</td>\n",
       "      <td></td>\n",
       "      <td>Decimal days since midnight December 31st 1899</td>\n",
       "      <td>1</td>\n",
       "      <td>18</td>\n",
       "    </tr>\n",
       "    <tr>\n",
       "      <td>4</td>\n",
       "      <td></td>\n",
       "      <td>LINE</td>\n",
       "      <td>I10</td>\n",
       "      <td></td>\n",
       "      <td>None</td>\n",
       "      <td></td>\n",
       "      <td>Line number</td>\n",
       "      <td>1</td>\n",
       "      <td>10</td>\n",
       "    </tr>\n",
       "    <tr>\n",
       "      <td>5</td>\n",
       "      <td></td>\n",
       "      <td>Easting</td>\n",
       "      <td>F12.2</td>\n",
       "      <td>m</td>\n",
       "      <td>-9999999.99</td>\n",
       "      <td></td>\n",
       "      <td>Easting (GDA94 MGA Zone 52)</td>\n",
       "      <td>1</td>\n",
       "      <td>12</td>\n",
       "    </tr>\n",
       "    <tr>\n",
       "      <td>6</td>\n",
       "      <td></td>\n",
       "      <td>NORTH</td>\n",
       "      <td>F15.2</td>\n",
       "      <td>m</td>\n",
       "      <td>-9999999999.99</td>\n",
       "      <td></td>\n",
       "      <td>Northing (GDA 94 MGA Zone 52)</td>\n",
       "      <td>1</td>\n",
       "      <td>15</td>\n",
       "    </tr>\n",
       "    <tr>\n",
       "      <td>7</td>\n",
       "      <td></td>\n",
       "      <td>DTM_AHD</td>\n",
       "      <td>F10.2</td>\n",
       "      <td></td>\n",
       "      <td>-99999.99</td>\n",
       "      <td></td>\n",
       "      <td>Digital terrain model (AUSGeoid09 datum)</td>\n",
       "      <td>1</td>\n",
       "      <td>10</td>\n",
       "    </tr>\n",
       "    <tr>\n",
       "      <td>8</td>\n",
       "      <td></td>\n",
       "      <td>RESI1</td>\n",
       "      <td>F10.3</td>\n",
       "      <td></td>\n",
       "      <td>-9999.999</td>\n",
       "      <td></td>\n",
       "      <td>Residual of data</td>\n",
       "      <td>1</td>\n",
       "      <td>10</td>\n",
       "    </tr>\n",
       "    <tr>\n",
       "      <td>9</td>\n",
       "      <td></td>\n",
       "      <td>HEIGHT</td>\n",
       "      <td>F10.2</td>\n",
       "      <td>m</td>\n",
       "      <td>-99999.99</td>\n",
       "      <td></td>\n",
       "      <td>Laser altimeter measured height of Tx loop cen...</td>\n",
       "      <td>1</td>\n",
       "      <td>10</td>\n",
       "    </tr>\n",
       "    <tr>\n",
       "      <td>10</td>\n",
       "      <td></td>\n",
       "      <td>INVHEI</td>\n",
       "      <td>F10.2</td>\n",
       "      <td>m</td>\n",
       "      <td>-99999.99</td>\n",
       "      <td></td>\n",
       "      <td>Calulated inversion height</td>\n",
       "      <td>1</td>\n",
       "      <td>10</td>\n",
       "    </tr>\n",
       "    <tr>\n",
       "      <td>11</td>\n",
       "      <td></td>\n",
       "      <td>DOI</td>\n",
       "      <td>F10.2</td>\n",
       "      <td>m</td>\n",
       "      <td>-99999.99</td>\n",
       "      <td></td>\n",
       "      <td>Calculated depth of investigation</td>\n",
       "      <td>1</td>\n",
       "      <td>10</td>\n",
       "    </tr>\n",
       "    <tr>\n",
       "      <td>12</td>\n",
       "      <td></td>\n",
       "      <td>Elev</td>\n",
       "      <td>30F12.2</td>\n",
       "      <td>m</td>\n",
       "      <td>-9999999.99</td>\n",
       "      <td></td>\n",
       "      <td>Elevation to the top of each layer</td>\n",
       "      <td>30</td>\n",
       "      <td>12</td>\n",
       "    </tr>\n",
       "    <tr>\n",
       "      <td>13</td>\n",
       "      <td></td>\n",
       "      <td>Con</td>\n",
       "      <td>30F15.5</td>\n",
       "      <td>mS/m</td>\n",
       "      <td>-9999999.99999</td>\n",
       "      <td></td>\n",
       "      <td>Inverted Conductivity for each layer</td>\n",
       "      <td>30</td>\n",
       "      <td>15</td>\n",
       "    </tr>\n",
       "    <tr>\n",
       "      <td>14</td>\n",
       "      <td></td>\n",
       "      <td>Con_doi</td>\n",
       "      <td>30F15.5</td>\n",
       "      <td>mS/m</td>\n",
       "      <td>-9999999.99999</td>\n",
       "      <td></td>\n",
       "      <td>masked to the depth of investigation</td>\n",
       "      <td>30</td>\n",
       "      <td>15</td>\n",
       "    </tr>\n",
       "    <tr>\n",
       "      <td>15</td>\n",
       "      <td></td>\n",
       "      <td>RUnc</td>\n",
       "      <td>30F12.3</td>\n",
       "      <td></td>\n",
       "      <td>-999999.999</td>\n",
       "      <td></td>\n",
       "      <td>Relative uncertainty of conductivity layer</td>\n",
       "      <td>30</td>\n",
       "      <td>12</td>\n",
       "    </tr>\n",
       "  </tbody>\n",
       "</table>\n",
       "</div>"
      ],
      "text/plain": [
       "   record_type        name   format  unit            null long_name  \\\n",
       "0         COMM          RT       A4                  None             \n",
       "1         COMM    COMMENTS      A76                  None             \n",
       "0               GA_Project      I10                  None             \n",
       "1                   Job_No      I10                  None             \n",
       "2                 Fiducial    F15.2                  None             \n",
       "3                 DATETIME   F18.10  days            None             \n",
       "4                     LINE      I10                  None             \n",
       "5                  Easting    F12.2     m     -9999999.99             \n",
       "6                    NORTH    F15.2     m  -9999999999.99             \n",
       "7                  DTM_AHD    F10.2             -99999.99             \n",
       "8                    RESI1    F10.3             -9999.999             \n",
       "9                   HEIGHT    F10.2     m       -99999.99             \n",
       "10                  INVHEI    F10.2     m       -99999.99             \n",
       "11                     DOI    F10.2     m       -99999.99             \n",
       "12                    Elev  30F12.2     m     -9999999.99             \n",
       "13                     Con  30F15.5  mS/m  -9999999.99999             \n",
       "14                 Con_doi  30F15.5  mS/m  -9999999.99999             \n",
       "15                    RUnc  30F12.3           -999999.999             \n",
       "\n",
       "                                              comment  cols  width  \n",
       "0                                                         1      4  \n",
       "1                                                         1     76  \n",
       "0   Geoscience Australia airborne survey project n...     1     10  \n",
       "1                         SkyTEM Australia Job Number     1     10  \n",
       "2                                            Fiducial     1     15  \n",
       "3      Decimal days since midnight December 31st 1899     1     18  \n",
       "4                                         Line number     1     10  \n",
       "5                         Easting (GDA94 MGA Zone 52)     1     12  \n",
       "6                       Northing (GDA 94 MGA Zone 52)     1     15  \n",
       "7            Digital terrain model (AUSGeoid09 datum)     1     10  \n",
       "8                                    Residual of data     1     10  \n",
       "9   Laser altimeter measured height of Tx loop cen...     1     10  \n",
       "10                         Calulated inversion height     1     10  \n",
       "11                  Calculated depth of investigation     1     10  \n",
       "12                 Elevation to the top of each layer    30     12  \n",
       "13               Inverted Conductivity for each layer    30     15  \n",
       "14               masked to the depth of investigation    30     15  \n",
       "15         Relative uncertainty of conductivity layer    30     12  "
      ]
     },
     "execution_count": 47,
     "metadata": {},
     "output_type": "execute_result"
    }
   ],
   "source": [
    "gdf.record_types.df()"
   ]
  },
  {
   "cell_type": "code",
   "execution_count": 49,
   "metadata": {},
   "outputs": [
    {
     "name": "stdout",
     "output_type": "stream",
     "text": [
      "          name  unit   format  cols\n",
      "0           RT             A4     1\n",
      "1     COMMENTS            A76     1\n",
      "0   GA_Project            I10     1\n",
      "1       Job_No            I10     1\n",
      "2     Fiducial          F15.2     1\n",
      "3     DATETIME  days   F18.10     1\n",
      "4         LINE            I10     1\n",
      "5      Easting     m    F12.2     1\n",
      "6        NORTH     m    F15.2     1\n",
      "7      DTM_AHD          F10.2     1\n",
      "8        RESI1          F10.3     1\n",
      "9       HEIGHT     m    F10.2     1\n",
      "10      INVHEI     m    F10.2     1\n",
      "11         DOI     m    F10.2     1\n",
      "12        Elev     m  30F12.2    30\n",
      "13         Con  mS/m  30F15.5    30\n",
      "14     Con_doi  mS/m  30F15.5    30\n",
      "15        RUnc        30F12.3    30\n"
     ]
    }
   ],
   "source": [
    "print(gdf.record_types.df()[[\"name\", \"unit\", \"format\", \"cols\"]])"
   ]
  },
  {
   "cell_type": "markdown",
   "metadata": {},
   "source": [
    "See those last four fields? They have 30 columns each and are therefore each 2D arrays.\n",
    "\n",
    "They are still normal GDF fields:"
   ]
  },
  {
   "cell_type": "code",
   "execution_count": 29,
   "metadata": {},
   "outputs": [
    {
     "data": {
      "text/plain": [
       "['GA_Project',\n",
       " 'Job_No',\n",
       " 'Fiducial',\n",
       " 'DATETIME',\n",
       " 'LINE',\n",
       " 'Easting',\n",
       " 'NORTH',\n",
       " 'DTM_AHD',\n",
       " 'RESI1',\n",
       " 'HEIGHT',\n",
       " 'INVHEI',\n",
       " 'DOI',\n",
       " 'Elev',\n",
       " 'Con',\n",
       " 'Con_doi',\n",
       " 'RUnc']"
      ]
     },
     "execution_count": 29,
     "metadata": {},
     "output_type": "execute_result"
    }
   ],
   "source": [
    "gdf.field_names()"
   ]
  },
  {
   "cell_type": "markdown",
   "metadata": {},
   "source": [
    "But we can see their representation in the data table file, as 30 separate columns each, by explicitly requesting a listing of the column names:"
   ]
  },
  {
   "cell_type": "code",
   "execution_count": 30,
   "metadata": {},
   "outputs": [
    {
     "data": {
      "text/plain": [
       "['GA_Project',\n",
       " 'Job_No',\n",
       " 'Fiducial',\n",
       " 'DATETIME',\n",
       " 'LINE',\n",
       " 'Easting',\n",
       " 'NORTH',\n",
       " 'DTM_AHD',\n",
       " 'RESI1',\n",
       " 'HEIGHT',\n",
       " 'INVHEI',\n",
       " 'DOI',\n",
       " 'Elev[0]',\n",
       " 'Elev[1]',\n",
       " 'Elev[2]',\n",
       " 'Elev[3]',\n",
       " 'Elev[4]',\n",
       " 'Elev[5]',\n",
       " 'Elev[6]',\n",
       " 'Elev[7]',\n",
       " 'Elev[8]',\n",
       " 'Elev[9]',\n",
       " 'Elev[10]',\n",
       " 'Elev[11]',\n",
       " 'Elev[12]',\n",
       " 'Elev[13]',\n",
       " 'Elev[14]',\n",
       " 'Elev[15]',\n",
       " 'Elev[16]',\n",
       " 'Elev[17]',\n",
       " 'Elev[18]',\n",
       " 'Elev[19]',\n",
       " 'Elev[20]',\n",
       " 'Elev[21]',\n",
       " 'Elev[22]',\n",
       " 'Elev[23]',\n",
       " 'Elev[24]',\n",
       " 'Elev[25]',\n",
       " 'Elev[26]',\n",
       " 'Elev[27]',\n",
       " 'Elev[28]',\n",
       " 'Elev[29]',\n",
       " 'Con[0]',\n",
       " 'Con[1]',\n",
       " 'Con[2]',\n",
       " 'Con[3]',\n",
       " 'Con[4]',\n",
       " 'Con[5]',\n",
       " 'Con[6]',\n",
       " 'Con[7]',\n",
       " 'Con[8]',\n",
       " 'Con[9]',\n",
       " 'Con[10]',\n",
       " 'Con[11]',\n",
       " 'Con[12]',\n",
       " 'Con[13]',\n",
       " 'Con[14]',\n",
       " 'Con[15]',\n",
       " 'Con[16]',\n",
       " 'Con[17]',\n",
       " 'Con[18]',\n",
       " 'Con[19]',\n",
       " 'Con[20]',\n",
       " 'Con[21]',\n",
       " 'Con[22]',\n",
       " 'Con[23]',\n",
       " 'Con[24]',\n",
       " 'Con[25]',\n",
       " 'Con[26]',\n",
       " 'Con[27]',\n",
       " 'Con[28]',\n",
       " 'Con[29]',\n",
       " 'Con_doi[0]',\n",
       " 'Con_doi[1]',\n",
       " 'Con_doi[2]',\n",
       " 'Con_doi[3]',\n",
       " 'Con_doi[4]',\n",
       " 'Con_doi[5]',\n",
       " 'Con_doi[6]',\n",
       " 'Con_doi[7]',\n",
       " 'Con_doi[8]',\n",
       " 'Con_doi[9]',\n",
       " 'Con_doi[10]',\n",
       " 'Con_doi[11]',\n",
       " 'Con_doi[12]',\n",
       " 'Con_doi[13]',\n",
       " 'Con_doi[14]',\n",
       " 'Con_doi[15]',\n",
       " 'Con_doi[16]',\n",
       " 'Con_doi[17]',\n",
       " 'Con_doi[18]',\n",
       " 'Con_doi[19]',\n",
       " 'Con_doi[20]',\n",
       " 'Con_doi[21]',\n",
       " 'Con_doi[22]',\n",
       " 'Con_doi[23]',\n",
       " 'Con_doi[24]',\n",
       " 'Con_doi[25]',\n",
       " 'Con_doi[26]',\n",
       " 'Con_doi[27]',\n",
       " 'Con_doi[28]',\n",
       " 'Con_doi[29]',\n",
       " 'RUnc[0]',\n",
       " 'RUnc[1]',\n",
       " 'RUnc[2]',\n",
       " 'RUnc[3]',\n",
       " 'RUnc[4]',\n",
       " 'RUnc[5]',\n",
       " 'RUnc[6]',\n",
       " 'RUnc[7]',\n",
       " 'RUnc[8]',\n",
       " 'RUnc[9]',\n",
       " 'RUnc[10]',\n",
       " 'RUnc[11]',\n",
       " 'RUnc[12]',\n",
       " 'RUnc[13]',\n",
       " 'RUnc[14]',\n",
       " 'RUnc[15]',\n",
       " 'RUnc[16]',\n",
       " 'RUnc[17]',\n",
       " 'RUnc[18]',\n",
       " 'RUnc[19]',\n",
       " 'RUnc[20]',\n",
       " 'RUnc[21]',\n",
       " 'RUnc[22]',\n",
       " 'RUnc[23]',\n",
       " 'RUnc[24]',\n",
       " 'RUnc[25]',\n",
       " 'RUnc[26]',\n",
       " 'RUnc[27]',\n",
       " 'RUnc[28]',\n",
       " 'RUnc[29]']"
      ]
     },
     "execution_count": 30,
     "metadata": {},
     "output_type": "execute_result"
    }
   ],
   "source": [
    "gdf.column_names()"
   ]
  },
  {
   "cell_type": "markdown",
   "metadata": {},
   "source": [
    "These are represented as you'd expect in the data table's DataFrame object:"
   ]
  },
  {
   "cell_type": "code",
   "execution_count": 31,
   "metadata": {},
   "outputs": [
    {
     "data": {
      "text/html": [
       "<div>\n",
       "<style scoped>\n",
       "    .dataframe tbody tr th:only-of-type {\n",
       "        vertical-align: middle;\n",
       "    }\n",
       "\n",
       "    .dataframe tbody tr th {\n",
       "        vertical-align: top;\n",
       "    }\n",
       "\n",
       "    .dataframe thead th {\n",
       "        text-align: right;\n",
       "    }\n",
       "</style>\n",
       "<table border=\"1\" class=\"dataframe\">\n",
       "  <thead>\n",
       "    <tr style=\"text-align: right;\">\n",
       "      <th></th>\n",
       "      <th>GA_Project</th>\n",
       "      <th>Job_No</th>\n",
       "      <th>Fiducial</th>\n",
       "      <th>DATETIME</th>\n",
       "      <th>LINE</th>\n",
       "      <th>Easting</th>\n",
       "      <th>NORTH</th>\n",
       "      <th>DTM_AHD</th>\n",
       "      <th>RESI1</th>\n",
       "      <th>HEIGHT</th>\n",
       "      <th>...</th>\n",
       "      <th>RUnc[20]</th>\n",
       "      <th>RUnc[21]</th>\n",
       "      <th>RUnc[22]</th>\n",
       "      <th>RUnc[23]</th>\n",
       "      <th>RUnc[24]</th>\n",
       "      <th>RUnc[25]</th>\n",
       "      <th>RUnc[26]</th>\n",
       "      <th>RUnc[27]</th>\n",
       "      <th>RUnc[28]</th>\n",
       "      <th>RUnc[29]</th>\n",
       "    </tr>\n",
       "  </thead>\n",
       "  <tbody>\n",
       "    <tr>\n",
       "      <td>0</td>\n",
       "      <td>1288</td>\n",
       "      <td>10013</td>\n",
       "      <td>3621109.0</td>\n",
       "      <td>42655.910984</td>\n",
       "      <td>112601</td>\n",
       "      <td>948001.6</td>\n",
       "      <td>7035223.1</td>\n",
       "      <td>354.1</td>\n",
       "      <td>1.091</td>\n",
       "      <td>40.98</td>\n",
       "      <td>...</td>\n",
       "      <td>1.39</td>\n",
       "      <td>1.76</td>\n",
       "      <td>2.35</td>\n",
       "      <td>3.26</td>\n",
       "      <td>4.45</td>\n",
       "      <td>5.74</td>\n",
       "      <td>6.94</td>\n",
       "      <td>8.00</td>\n",
       "      <td>8.99</td>\n",
       "      <td>98.0</td>\n",
       "    </tr>\n",
       "    <tr>\n",
       "      <td>1</td>\n",
       "      <td>1288</td>\n",
       "      <td>10013</td>\n",
       "      <td>3621110.0</td>\n",
       "      <td>42655.910995</td>\n",
       "      <td>112601</td>\n",
       "      <td>948001.9</td>\n",
       "      <td>7035196.8</td>\n",
       "      <td>353.8</td>\n",
       "      <td>1.101</td>\n",
       "      <td>41.08</td>\n",
       "      <td>...</td>\n",
       "      <td>1.43</td>\n",
       "      <td>1.84</td>\n",
       "      <td>2.47</td>\n",
       "      <td>3.41</td>\n",
       "      <td>4.62</td>\n",
       "      <td>5.90</td>\n",
       "      <td>7.09</td>\n",
       "      <td>8.15</td>\n",
       "      <td>9.15</td>\n",
       "      <td>98.0</td>\n",
       "    </tr>\n",
       "    <tr>\n",
       "      <td>2</td>\n",
       "      <td>1288</td>\n",
       "      <td>10013</td>\n",
       "      <td>3621111.0</td>\n",
       "      <td>42655.911007</td>\n",
       "      <td>112601</td>\n",
       "      <td>948001.5</td>\n",
       "      <td>7035169.5</td>\n",
       "      <td>353.7</td>\n",
       "      <td>0.813</td>\n",
       "      <td>41.03</td>\n",
       "      <td>...</td>\n",
       "      <td>1.45</td>\n",
       "      <td>1.88</td>\n",
       "      <td>2.53</td>\n",
       "      <td>3.48</td>\n",
       "      <td>4.70</td>\n",
       "      <td>5.97</td>\n",
       "      <td>7.16</td>\n",
       "      <td>8.22</td>\n",
       "      <td>9.21</td>\n",
       "      <td>98.0</td>\n",
       "    </tr>\n",
       "    <tr>\n",
       "      <td>3</td>\n",
       "      <td>1288</td>\n",
       "      <td>10013</td>\n",
       "      <td>3621112.0</td>\n",
       "      <td>42655.911019</td>\n",
       "      <td>112601</td>\n",
       "      <td>948000.6</td>\n",
       "      <td>7035141.6</td>\n",
       "      <td>353.9</td>\n",
       "      <td>0.567</td>\n",
       "      <td>40.79</td>\n",
       "      <td>...</td>\n",
       "      <td>1.45</td>\n",
       "      <td>1.87</td>\n",
       "      <td>2.53</td>\n",
       "      <td>3.49</td>\n",
       "      <td>4.71</td>\n",
       "      <td>5.98</td>\n",
       "      <td>7.16</td>\n",
       "      <td>8.21</td>\n",
       "      <td>9.20</td>\n",
       "      <td>98.0</td>\n",
       "    </tr>\n",
       "    <tr>\n",
       "      <td>4</td>\n",
       "      <td>1288</td>\n",
       "      <td>10013</td>\n",
       "      <td>3621113.0</td>\n",
       "      <td>42655.911030</td>\n",
       "      <td>112601</td>\n",
       "      <td>947999.1</td>\n",
       "      <td>7035113.6</td>\n",
       "      <td>354.2</td>\n",
       "      <td>0.522</td>\n",
       "      <td>40.37</td>\n",
       "      <td>...</td>\n",
       "      <td>1.45</td>\n",
       "      <td>1.88</td>\n",
       "      <td>2.54</td>\n",
       "      <td>3.52</td>\n",
       "      <td>4.74</td>\n",
       "      <td>6.01</td>\n",
       "      <td>7.18</td>\n",
       "      <td>8.23</td>\n",
       "      <td>9.22</td>\n",
       "      <td>98.0</td>\n",
       "    </tr>\n",
       "  </tbody>\n",
       "</table>\n",
       "<p>5 rows × 132 columns</p>\n",
       "</div>"
      ],
      "text/plain": [
       "   GA_Project  Job_No   Fiducial      DATETIME    LINE   Easting      NORTH  \\\n",
       "0        1288   10013  3621109.0  42655.910984  112601  948001.6  7035223.1   \n",
       "1        1288   10013  3621110.0  42655.910995  112601  948001.9  7035196.8   \n",
       "2        1288   10013  3621111.0  42655.911007  112601  948001.5  7035169.5   \n",
       "3        1288   10013  3621112.0  42655.911019  112601  948000.6  7035141.6   \n",
       "4        1288   10013  3621113.0  42655.911030  112601  947999.1  7035113.6   \n",
       "\n",
       "   DTM_AHD  RESI1  HEIGHT  ...  RUnc[20]  RUnc[21]  RUnc[22]  RUnc[23]  \\\n",
       "0    354.1  1.091   40.98  ...      1.39      1.76      2.35      3.26   \n",
       "1    353.8  1.101   41.08  ...      1.43      1.84      2.47      3.41   \n",
       "2    353.7  0.813   41.03  ...      1.45      1.88      2.53      3.48   \n",
       "3    353.9  0.567   40.79  ...      1.45      1.87      2.53      3.49   \n",
       "4    354.2  0.522   40.37  ...      1.45      1.88      2.54      3.52   \n",
       "\n",
       "   RUnc[24]  RUnc[25]  RUnc[26]  RUnc[27]  RUnc[28]  RUnc[29]  \n",
       "0      4.45      5.74      6.94      8.00      8.99      98.0  \n",
       "1      4.62      5.90      7.09      8.15      9.15      98.0  \n",
       "2      4.70      5.97      7.16      8.22      9.21      98.0  \n",
       "3      4.71      5.98      7.16      8.21      9.20      98.0  \n",
       "4      4.74      6.01      7.18      8.23      9.22      98.0  \n",
       "\n",
       "[5 rows x 132 columns]"
      ]
     },
     "execution_count": 31,
     "metadata": {},
     "output_type": "execute_result"
    }
   ],
   "source": [
    "gdf.df().head()"
   ]
  },
  {
   "cell_type": "markdown",
   "metadata": {},
   "source": [
    "We can get the data in exactly the same way as a normal \"column\" field."
   ]
  },
  {
   "cell_type": "code",
   "execution_count": 32,
   "metadata": {},
   "outputs": [
    {
     "data": {
      "text/plain": [
       "array([[ 354.1,  352.1,  349.8, ..., -105.8, -171.2, -245.7],\n",
       "       [ 353.8,  351.8,  349.5, ..., -106.1, -171.5, -246. ],\n",
       "       [ 353.7,  351.7,  349.4, ..., -106.2, -171.6, -246.1],\n",
       "       ...,\n",
       "       [ 510.5,  508.5,  506.2, ...,   50.6,  -14.8,  -89.3],\n",
       "       [ 510.5,  508.5,  506.2, ...,   50.6,  -14.8,  -89.3],\n",
       "       [ 510.6,  508.6,  506.3, ...,   50.7,  -14.7,  -89.2]])"
      ]
     },
     "execution_count": 32,
     "metadata": {},
     "output_type": "execute_result"
    }
   ],
   "source": [
    "gdf.get_field_data(\"Elev\")"
   ]
  },
  {
   "cell_type": "markdown",
   "metadata": {},
   "source": [
    "We can also get a combination of ordinary column fields and 2D fields:"
   ]
  },
  {
   "cell_type": "code",
   "execution_count": 34,
   "metadata": {},
   "outputs": [
    {
     "data": {
      "text/plain": [
       "(array([948001.6, 948001.9, 948001.5, 948000.6, 947999.1, 947997.2,\n",
       "        947995.1, 947993.4, 947992.5, 947992.5, 947993.3, 947994.7,\n",
       "        947996. , 947997.1, 947997.8, 947997.9, 800001.6, 800002.4,\n",
       "        800003. , 800003.5, 800003.5, 800003.3, 800002.9, 800002.8,\n",
       "        800002.8, 800003.1, 800003.7, 800004.1, 800004.3, 800004.5,\n",
       "        800004.4, 800004.2, 800004.1, 800004.1, 800003.9, 800003.7,\n",
       "        800003.3, 800002.6]),\n",
       " array([7035223.1, 7035196.8, 7035169.5, 7035141.6, 7035113.6, 7035085.9,\n",
       "        7035058.5, 7035031.3, 7035004.2, 7034976.6, 7034948.3, 7034919.2,\n",
       "        7034889.4, 7034859. , 7034828.4, 7034797.9, 7029884.1, 7029855.3,\n",
       "        7029826.9, 7029798.6, 7029770.1, 7029741.5, 7029712.8, 7029684.3,\n",
       "        7029656.1, 7029628.1, 7029600.1, 7029572. , 7029543.8, 7029515.5,\n",
       "        7029487.4, 7029459.7, 7029432.1, 7029404.5, 7029376.8, 7029348.7,\n",
       "        7029320.2, 7029291.4]),\n",
       " array([[ 354.1,  352.1,  349.8, ..., -105.8, -171.2, -245.7],\n",
       "        [ 353.8,  351.8,  349.5, ..., -106.1, -171.5, -246. ],\n",
       "        [ 353.7,  351.7,  349.4, ..., -106.2, -171.6, -246.1],\n",
       "        ...,\n",
       "        [ 510.5,  508.5,  506.2, ...,   50.6,  -14.8,  -89.3],\n",
       "        [ 510.5,  508.5,  506.2, ...,   50.6,  -14.8,  -89.3],\n",
       "        [ 510.6,  508.6,  506.3, ...,   50.7,  -14.7,  -89.2]]))"
      ]
     },
     "execution_count": 34,
     "metadata": {},
     "output_type": "execute_result"
    }
   ],
   "source": [
    "data = gdf.get_fields_data([\"Easting\", \"NORTH\", \"Elev\"])\n",
    "data"
   ]
  },
  {
   "cell_type": "markdown",
   "metadata": {},
   "source": [
    "Under the hood this works using pandas' [``usecols`` keyword argument](https://pandas.pydata.org/pandas-docs/version/0.22/generated/pandas.read_fwf.html)."
   ]
  },
  {
   "cell_type": "code",
   "execution_count": null,
   "metadata": {},
   "outputs": [],
   "source": []
  }
 ],
 "metadata": {
  "kernelspec": {
   "display_name": "Python 3",
   "language": "python",
   "name": "python3"
  },
  "language_info": {
   "codemirror_mode": {
    "name": "ipython",
    "version": 3
   },
   "file_extension": ".py",
   "mimetype": "text/x-python",
   "name": "python",
   "nbconvert_exporter": "python",
   "pygments_lexer": "ipython3",
   "version": "3.7.4"
  }
 },
 "nbformat": 4,
 "nbformat_minor": 2
}
