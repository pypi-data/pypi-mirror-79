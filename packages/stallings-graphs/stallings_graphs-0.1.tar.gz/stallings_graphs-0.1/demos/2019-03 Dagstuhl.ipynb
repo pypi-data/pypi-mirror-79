{
 "cells": [
  {
   "cell_type": "markdown",
   "metadata": {
    "slideshow": {
     "slide_type": "slide"
    }
   },
   "source": [
    "\n",
    "   # The ``stallings_graphs`` package"
   ]
  },
  {
   "cell_type": "markdown",
   "metadata": {
    "slideshow": {
     "slide_type": "-"
    }
   },
   "source": [
    "## Pascal Weil, CNRS, Univ. Bordeaux, LaBRI"
   ]
  },
  {
   "cell_type": "markdown",
   "metadata": {},
   "source": [
    "## Dagstuhl, March 2019"
   ]
  },
  {
   "cell_type": "markdown",
   "metadata": {
    "slideshow": {
     "slide_type": "slide"
    }
   },
   "source": [
    "## What is this about?"
   ]
  },
  {
   "cell_type": "markdown",
   "metadata": {
    "slideshow": {
     "slide_type": "fragment"
    }
   },
   "source": [
    "This is a presentation of a Sage package"
   ]
  },
  {
   "cell_type": "markdown",
   "metadata": {
    "slideshow": {
     "slide_type": "fragment"
    }
   },
   "source": [
    "Sage is a free, open source computer algebra system, which can be downloaded on any machine (sagemath.org)"
   ]
  },
  {
   "cell_type": "markdown",
   "metadata": {
    "slideshow": {
     "slide_type": "fragment"
    }
   },
   "source": [
    "The objective is to play, experiment with finitely generated subgroups of free groups --- and, in the future, of other groups."
   ]
  },
  {
   "cell_type": "markdown",
   "metadata": {
    "slideshow": {
     "slide_type": "slide"
    }
   },
   "source": [
    "## How do we handle subgroups?"
   ]
  },
  {
   "cell_type": "markdown",
   "metadata": {
    "slideshow": {
     "slide_type": "fragment"
    }
   },
   "source": [
    "The ``internal`` representation of a subgroup `H`of `F_r` is an `r`-tuple of partial injections on a finite set --- these partial injections specify the Stallings graph of `H`. "
   ]
  },
  {
   "cell_type": "markdown",
   "metadata": {
    "slideshow": {
     "slide_type": "fragment"
    }
   },
   "source": [
    "The number of vertices of that graph (of the set on which the partial injections are defined) is the ``size`` of `H`."
   ]
  },
  {
   "cell_type": "markdown",
   "metadata": {
    "slideshow": {
     "slide_type": "subslide"
    }
   },
   "source": [
    "A subgroup `H` of `F_r` can be specified by:"
   ]
  },
  {
   "cell_type": "markdown",
   "metadata": {
    "slideshow": {
     "slide_type": "fragment"
    }
   },
   "source": [
    "- a tuple of words (generators)"
   ]
  },
  {
   "cell_type": "markdown",
   "metadata": {
    "slideshow": {
     "slide_type": "fragment"
    }
   },
   "source": [
    "- a graph (folded or not), with a base vertex"
   ]
  },
  {
   "cell_type": "markdown",
   "metadata": {
    "slideshow": {
     "slide_type": "fragment"
    }
   },
   "source": [
    "- an `r`-tuple of partial injections"
   ]
  },
  {
   "cell_type": "markdown",
   "metadata": {
    "slideshow": {
     "slide_type": "fragment"
    }
   },
   "source": [
    "- or a random instance of a given size."
   ]
  },
  {
   "cell_type": "markdown",
   "metadata": {
    "slideshow": {
     "slide_type": "slide"
    }
   },
   "source": [
    "## What can we do with ``stallings_graphs``?"
   ]
  },
  {
   "cell_type": "markdown",
   "metadata": {
    "slideshow": {
     "slide_type": "fragment"
    }
   },
   "source": [
    "The package allows to compute a ``basis``, a ``conjugate``, the ``intersection`` of two subgroups,"
   ]
  },
  {
   "cell_type": "markdown",
   "metadata": {
    "slideshow": {
     "slide_type": "fragment"
    }
   },
   "source": [
    "to test for ``finite index``, ``malnormality``, ``conjugacy``."
   ]
  },
  {
   "cell_type": "markdown",
   "metadata": {
    "slideshow": {
     "slide_type": "fragment"
    }
   },
   "source": [
    "The ``random generator`` allows testing conjectures or experimentally refining asymptotic properties."
   ]
  },
  {
   "cell_type": "markdown",
   "metadata": {
    "slideshow": {
     "slide_type": "slide"
    }
   },
   "source": [
    "# Now for a demo!"
   ]
  },
  {
   "cell_type": "code",
   "execution_count": 11,
   "metadata": {
    "slideshow": {
     "slide_type": "fragment"
    }
   },
   "outputs": [],
   "source": [
    "from stallings_graphs import *"
   ]
  },
  {
   "cell_type": "code",
   "execution_count": 12,
   "metadata": {
    "slideshow": {
     "slide_type": "slide"
    }
   },
   "outputs": [
    {
     "data": {
      "text/plain": [
       "A subgroup of the free group of rank 2, whose Stallings graph has 3 vertices"
      ]
     },
     "execution_count": 12,
     "metadata": {},
     "output_type": "execute_result"
    }
   ],
   "source": [
    "L = ['ab','ba']\n",
    "H1 = FinitelyGeneratedSubgroup.from_generators(L,alphabet_type = 'abc'); H1"
   ]
  },
  {
   "cell_type": "code",
   "execution_count": 17,
   "metadata": {
    "slideshow": {
     "slide_type": "fragment"
    }
   },
   "outputs": [
    {
     "data": {
      "image/png": "[encoded data removed]",
      "text/plain": [
       "Graphics object consisting of 14 graphics primitives"
      ]
     },
     "execution_count": 17,
     "metadata": {},
     "output_type": "execute_result"
    }
   ],
   "source": [
    "H1.show_Stallings_graph(alphabet_type='abc',visu_tool='plot')"
   ]
  },
  {
   "cell_type": "code",
   "execution_count": 21,
   "metadata": {
    "slideshow": {
     "slide_type": "fragment"
    }
   },
   "outputs": [
    {
     "data": {
      "text/plain": [
       "'/Users/pascalweil/.sage/temp/MacBook-Air-2019-PW.local/727/tikz_tZmcCC.tex'"
      ]
     },
     "execution_count": 21,
     "metadata": {},
     "output_type": "execute_result"
    }
   ],
   "source": [
    "t = H1.show_Stallings_graph(alphabet_type='abc',visu_tool='tikz');t.tex()"
   ]
  },
  {
   "cell_type": "code",
   "execution_count": 26,
   "metadata": {
    "slideshow": {
     "slide_type": "subslide"
    }
   },
   "outputs": [],
   "source": [
    "L = ['ab','ba', 'aBab']\n",
    "H1 = FinitelyGeneratedSubgroup.from_generators(L,alphabet_type = 'abc')   "
   ]
  },
  {
   "cell_type": "code",
   "execution_count": 27,
   "metadata": {
    "slideshow": {
     "slide_type": "fragment"
    }
   },
   "outputs": [
    {
     "data": {
      "text/plain": [
       "2"
      ]
     },
     "execution_count": 27,
     "metadata": {},
     "output_type": "execute_result"
    }
   ],
   "source": [
    "H1.has_index()"
   ]
  },
  {
   "cell_type": "code",
   "execution_count": 28,
   "metadata": {
    "slideshow": {
     "slide_type": "slide"
    }
   },
   "outputs": [],
   "source": [
    "L2 = ['ba', 'bbaa', 'bbbaaaa', 'bbbb']\n",
    "H2 = FinitelyGeneratedSubgroup.from_generators(L2,alphabet_type='abc')\n",
    "L3 = ['ab', 'baa', 'aaBaa', 'bbbb', 'BabA']\n",
    "H3 = FinitelyGeneratedSubgroup.from_generators(L3,alphabet_type='abc')"
   ]
  },
  {
   "cell_type": "code",
   "execution_count": 30,
   "metadata": {
    "slideshow": {
     "slide_type": "fragment"
    }
   },
   "outputs": [
    {
     "data": {
      "text/plain": [
       "(True, word: bb)"
      ]
     },
     "execution_count": 30,
     "metadata": {},
     "output_type": "execute_result"
    }
   ],
   "source": [
    "#H2.is_conjugated_to(H3, alphabet_type = 'abc')\n",
    "b, s = H2.is_conjugated_to(H3, conjugator=True, alphabet_type = 'abc')\n",
    "b, s"
   ]
  },
  {
   "cell_type": "code",
   "execution_count": 31,
   "metadata": {
    "slideshow": {
     "slide_type": "fragment"
    }
   },
   "outputs": [
    {
     "data": {
      "text/plain": [
       "True"
      ]
     },
     "execution_count": 31,
     "metadata": {},
     "output_type": "execute_result"
    }
   ],
   "source": [
    "H4 = H3.conjugated_by(s, alphabet_type = 'abc')\n",
    "H2 == H4"
   ]
  },
  {
   "cell_type": "code",
   "execution_count": 44,
   "metadata": {
    "slideshow": {
     "slide_type": "slide"
    }
   },
   "outputs": [
    {
     "data": {
      "text/plain": [
       "A subgroup of the free group of rank 2, whose Stallings graph has 10000 vertices"
      ]
     },
     "execution_count": 44,
     "metadata": {},
     "output_type": "execute_result"
    }
   ],
   "source": [
    "H5 = FinitelyGeneratedSubgroup.random_instance(10000,2); H5"
   ]
  },
  {
   "cell_type": "code",
   "execution_count": 40,
   "metadata": {
    "slideshow": {
     "slide_type": "fragment"
    }
   },
   "outputs": [
    {
     "data": {
      "image/png": "[encoded data removed]",
      "text/plain": [
       "Graphics object consisting of 566 graphics primitives"
      ]
     },
     "execution_count": 40,
     "metadata": {},
     "output_type": "execute_result"
    }
   ],
   "source": [
    "H5.show_Stallings_graph(alphabet_type='abc',visu_tool='plot')"
   ]
  },
  {
   "cell_type": "code",
   "execution_count": 45,
   "metadata": {
    "slideshow": {
     "slide_type": "subslide"
    }
   },
   "outputs": [
    {
     "name": "stdout",
     "output_type": "stream",
     "text": [
      "9806\n"
     ]
    }
   ],
   "source": [
    "print H5.rank()\n",
    "#H5.basis(alphabet_type = 'abc')"
   ]
  },
  {
   "cell_type": "code",
   "execution_count": 46,
   "metadata": {
    "slideshow": {
     "slide_type": "subslide"
    }
   },
   "outputs": [],
   "source": [
    "L = ['cbac', 'cbbc', 'a', 'CaCB', 'caC', 'baBC', 'ccc', 'bb', 'cbcB']\n",
    "H3 = FinitelyGeneratedSubgroup.from_generators(L,alphabet_type='abc')"
   ]
  },
  {
   "cell_type": "code",
   "execution_count": 48,
   "metadata": {
    "slideshow": {
     "slide_type": "fragment"
    }
   },
   "outputs": [
    {
     "data": {
      "text/plain": [
       "(False, word: a, word: c)"
      ]
     },
     "execution_count": 48,
     "metadata": {},
     "output_type": "execute_result"
    }
   ],
   "source": [
    "# H3.is_malnormal(alphabet_type='abc')\n",
    "b, s, t = H3.is_malnormal(alphabet_type='abc', witness=True)\n",
    "b, s, t"
   ]
  },
  {
   "cell_type": "markdown",
   "metadata": {
    "slideshow": {
     "slide_type": "fragment"
    }
   },
   "source": [
    "`s` is in the intersection of `H2` and its conjugate by `t`."
   ]
  },
  {
   "cell_type": "code",
   "execution_count": 49,
   "metadata": {
    "slideshow": {
     "slide_type": "fragment"
    }
   },
   "outputs": [
    {
     "name": "stdout",
     "output_type": "stream",
     "text": [
      "True\n",
      "True\n"
     ]
    }
   ],
   "source": [
    "K = H3.conjugated_by(t,alphabet_type = 'abc')\n",
    "print H3.contains_element(s,alphabet_type = 'abc')\n",
    "print K.contains_element(s,alphabet_type = 'abc')"
   ]
  },
  {
   "cell_type": "code",
   "execution_count": 50,
   "metadata": {
    "slideshow": {
     "slide_type": "subslide"
    }
   },
   "outputs": [],
   "source": [
    "L1 = ['ab', 'ba']\n",
    "H1 = FinitelyGeneratedSubgroup.from_generators(L1, alphabet_type='abc')\n",
    "L3 = ['abbA', 'Baab', 'aabb']\n",
    "H3 = FinitelyGeneratedSubgroup.from_generators(L3, alphabet_type='abc')"
   ]
  },
  {
   "cell_type": "code",
   "execution_count": 51,
   "metadata": {
    "slideshow": {
     "slide_type": "fragment"
    }
   },
   "outputs": [],
   "source": [
    "H4 = H1.intersection(H3)"
   ]
  },
  {
   "cell_type": "code",
   "execution_count": 52,
   "metadata": {
    "slideshow": {
     "slide_type": "fragment"
    }
   },
   "outputs": [
    {
     "data": {
      "text/plain": [
       "1"
      ]
     },
     "execution_count": 52,
     "metadata": {},
     "output_type": "execute_result"
    }
   ],
   "source": [
    "H4.rank()"
   ]
  },
  {
   "cell_type": "code",
   "execution_count": 53,
   "metadata": {
    "slideshow": {
     "slide_type": "fragment"
    }
   },
   "outputs": [
    {
     "data": {
      "text/plain": [
       "[word: abbabaab]"
      ]
     },
     "execution_count": 53,
     "metadata": {},
     "output_type": "execute_result"
    }
   ],
   "source": [
    "H4.basis(alphabet_type='abc')"
   ]
  },
  {
   "cell_type": "code",
   "execution_count": 70,
   "metadata": {
    "slideshow": {
     "slide_type": "slide"
    }
   },
   "outputs": [
    {
     "name": "stdout",
     "output_type": "stream",
     "text": [
      "number of malnormal subgroups of size 15 among 40000 : 38\n"
     ]
    }
   ],
   "source": [
    "sample_size = 40000\n",
    "instance_size = 15\n",
    "number_of_malnormal = 0\n",
    "for x in range(sample_size):\n",
    "    H = FinitelyGeneratedSubgroup.random_instance(instance_size)\n",
    "    if H.is_malnormal():\n",
    "        number_of_malnormal +=1\n",
    "print 'number of malnormal subgroups of size', instance_size, 'among', sample_size, ':', number_of_malnormal"
   ]
  },
  {
   "cell_type": "code",
   "execution_count": 59,
   "metadata": {
    "slideshow": {
     "slide_type": "subslide"
    }
   },
   "outputs": [],
   "source": [
    "from stallings_graphs.about_words import *"
   ]
  },
  {
   "cell_type": "code",
   "execution_count": 61,
   "metadata": {
    "slideshow": {
     "slide_type": "fragment"
    }
   },
   "outputs": [
    {
     "name": "stdout",
     "output_type": "stream",
     "text": [
      "number of malnormal subgroups generated by  20 words of length 20 among  20 :  20\n",
      "number of subgroups not freely generated, by  20 words of length 20 among  20 :  0\n"
     ]
    }
   ],
   "source": [
    "sample_size = 20\n",
    "number_of_words = 20\n",
    "length_of_words = 20 \n",
    "number_of_malnormal = 0\n",
    "number_of_lesser_rank = 0\n",
    "for x in range(sample_size):\n",
    "    L = [random_reduced_word(length_of_words,2) for _ in range(number_of_words)]\n",
    "    H = FinitelyGeneratedSubgroup.from_generators(L)\n",
    "    if H.is_malnormal():\n",
    "        number_of_malnormal +=1\n",
    "    if H.rank() != number_of_words:\n",
    "        number_of_lesser_rank +=1\n",
    "print 'number of malnormal subgroups generated by ', number_of_words, 'words of length', length_of_words, 'among ', sample_size, ': ', number_of_malnormal\n",
    "print 'number of subgroups not freely generated, by ', number_of_words, 'words of length', length_of_words, 'among ', sample_size, ': ', number_of_lesser_rank        \n"
   ]
  },
  {
   "cell_type": "markdown",
   "metadata": {
    "slideshow": {
     "slide_type": "slide"
    }
   },
   "source": [
    "Thanks to the creators of ``Jupyter``, who designed this programming interface"
   ]
  },
  {
   "cell_type": "markdown",
   "metadata": {},
   "source": [
    "and to my LaBRI colleagues ``Vincent Delecroix`` and ``Sébastien Labbé`` who convinced me that I could complete this programming project!"
   ]
  }
 ],
 "metadata": {
  "celltoolbar": "Diaporama",
  "kernelspec": {
   "display_name": "SageMath 8.6",
   "language": "",
   "name": "sagemath"
  },
  "language_info": {
   "codemirror_mode": {
    "name": "ipython",
    "version": 2
   },
   "file_extension": ".py",
   "mimetype": "text/x-python",
   "name": "python",
   "nbconvert_exporter": "python",
   "pygments_lexer": "ipython2",
   "version": "2.7.15"
  }
 },
 "nbformat": 4,
 "nbformat_minor": 2
}
