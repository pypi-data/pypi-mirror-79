{
 "cells": [
  {
   "cell_type": "code",
   "execution_count": 12,
   "metadata": {},
   "outputs": [],
   "source": [
    "f(z) = z^2 + (z^3/3); g(z,n) = f(z) - n"
   ]
  },
  {
   "cell_type": "code",
   "execution_count": 13,
   "metadata": {},
   "outputs": [],
   "source": [
    "c = g(z,n).solve(z)"
   ]
  },
  {
   "cell_type": "code",
   "execution_count": 14,
   "metadata": {},
   "outputs": [
    {
     "data": {
      "text/plain": [
       "[z == -1/2*(1/2*sqrt(3)*sqrt((3*n - 4)*n) + 3/2*n - 1)^(1/3)*(I*sqrt(3) + 1) - 1/2*(-I*sqrt(3) + 1)/(1/2*sqrt(3)*sqrt((3*n - 4)*n) + 3/2*n - 1)^(1/3) - 1, z == -1/2*(1/2*sqrt(3)*sqrt((3*n - 4)*n) + 3/2*n - 1)^(1/3)*(-I*sqrt(3) + 1) - 1/2*(I*sqrt(3) + 1)/(1/2*sqrt(3)*sqrt((3*n - 4)*n) + 3/2*n - 1)^(1/3) - 1, z == (1/2*sqrt(3)*sqrt((3*n - 4)*n) + 3/2*n - 1)^(1/3) + 1/(1/2*sqrt(3)*sqrt((3*n - 4)*n) + 3/2*n - 1)^(1/3) - 1]"
      ]
     },
     "execution_count": 14,
     "metadata": {},
     "output_type": "execute_result"
    }
   ],
   "source": [
    "c"
   ]
  },
  {
   "cell_type": "code",
   "execution_count": 27,
   "metadata": {},
   "outputs": [
    {
     "data": {
      "text/plain": [
       "(1/2*sqrt(3)*sqrt((3*n - 4)*n) + 3/2*n - 1)^(1/3) + 1/(1/2*sqrt(3)*sqrt((3*n - 4)*n) + 3/2*n - 1)^(1/3) - 1"
      ]
     },
     "execution_count": 27,
     "metadata": {},
     "output_type": "execute_result"
    }
   ],
   "source": [
    "col = (1/2*sqrt(3)*sqrt((3*n - 4)*n) + 3/2*n - 1)^(1/3) + 1/(1/2*sqrt(3)*sqrt((3*n - 4)*n) + 3/2*n - 1)^(1/3) - 1\n",
    "col"
   ]
  },
  {
   "cell_type": "code",
   "execution_count": 31,
   "metadata": {},
   "outputs": [
    {
     "data": {
      "text/plain": [
       "3^(1/3)*n^(1/3) + 1/3*3^(2/3)/n^(1/3) - 2/9*3^(1/3)/n^(2/3) + 2/27*3^(2/3)/n^(4/3) - 7/81*3^(1/3)/n^(5/3) - 1"
      ]
     },
     "execution_count": 31,
     "metadata": {},
     "output_type": "execute_result"
    }
   ],
   "source": [
    "col.taylor(n, Infinity, 2)"
   ]
  },
  {
   "cell_type": "code",
   "execution_count": 29,
   "metadata": {},
   "outputs": [],
   "source": [
    "dol = col / (3^(1/3) * n^(1/3))"
   ]
  },
  {
   "cell_type": "code",
   "execution_count": 32,
   "metadata": {},
   "outputs": [
    {
     "data": {
      "text/plain": [
       "-1/3*3^(2/3)/n^(1/3) + 1/3*3^(1/3)/n^(2/3) - 2/9/n + 2/27*3^(1/3)/n^(5/3) - 7/81/n^2 + 1"
      ]
     },
     "execution_count": 32,
     "metadata": {},
     "output_type": "execute_result"
    }
   ],
   "source": [
    "dol.taylor(n, Infinity, 2)"
   ]
  },
  {
   "cell_type": "code",
   "execution_count": 36,
   "metadata": {},
   "outputs": [
    {
     "data": {
      "text/plain": [
       "-1/3*3^(2/3)/n^(1/3) + 1/6*3^(1/3)/n^(2/3) - 5/108*3^(2/3)/n^(4/3) + 7/135*3^(1/3)/n^(5/3)"
      ]
     },
     "execution_count": 36,
     "metadata": {},
     "output_type": "execute_result"
    }
   ],
   "source": [
    "log(dol).taylor(n,Infinity,2)"
   ]
  },
  {
   "cell_type": "code",
   "execution_count": 41,
   "metadata": {},
   "outputs": [],
   "source": [
    "lam = 3*n*col - 2*n + 8*col^2"
   ]
  },
  {
   "cell_type": "code",
   "execution_count": 42,
   "metadata": {},
   "outputs": [
    {
     "data": {
      "text/plain": [
       "3*3^(1/3)*n^(4/3) + 9*3^(2/3)*n^(2/3) - 5*n - 50/3*3^(1/3)*n^(1/3) - 26/3*3^(2/3)/n^(1/3) + 161/27*3^(1/3)/n^(2/3) - 55/27*3^(2/3)/n^(4/3) + 1742/729*3^(1/3)/n^(5/3) + 24"
      ]
     },
     "execution_count": 42,
     "metadata": {},
     "output_type": "execute_result"
    }
   ],
   "source": [
    "lam.taylor(n, Infinity, 2)"
   ]
  },
  {
   "cell_type": "code",
   "execution_count": null,
   "metadata": {},
   "outputs": [],
   "source": []
  }
 ],
 "metadata": {
  "kernelspec": {
   "display_name": "SageMath 8.6",
   "language": "",
   "name": "sagemath"
  },
  "language_info": {
   "codemirror_mode": {
    "name": "ipython",
    "version": 2
   },
   "file_extension": ".py",
   "mimetype": "text/x-python",
   "name": "python",
   "nbconvert_exporter": "python",
   "pygments_lexer": "ipython2",
   "version": "2.7.15"
  }
 },
 "nbformat": 4,
 "nbformat_minor": 2
}
