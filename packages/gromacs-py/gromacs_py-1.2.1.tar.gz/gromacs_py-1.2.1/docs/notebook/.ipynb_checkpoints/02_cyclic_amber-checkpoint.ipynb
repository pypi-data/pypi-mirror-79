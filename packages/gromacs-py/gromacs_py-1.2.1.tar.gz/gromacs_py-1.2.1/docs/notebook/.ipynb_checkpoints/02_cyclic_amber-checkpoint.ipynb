{
 "cells": [
  {
   "cell_type": "code",
   "execution_count": 1,
   "metadata": {},
   "outputs": [],
   "source": [
    "import sys\n",
    "import os\n",
    "import urllib.request  \n",
    "import pandas as pd\n",
    "import matplotlib\n",
    "import matplotlib.pyplot as plt\n",
    "import numpy as np\n",
    "import seaborn as sns\n",
    "\n",
    "# Gromacs_py import\n",
    "from gromacs_py import gmx\n",
    "\n",
    "from os_command_py import os_command"
   ]
  },
  {
   "cell_type": "code",
   "execution_count": 2,
   "metadata": {},
   "outputs": [
    {
     "name": "stdout",
     "output_type": "stream",
     "text": [
      "/home/murail/Documents/Code/gromacs_py/docs/notebook\n"
     ]
    }
   ],
   "source": [
    "%cd /home/murail/Documents/Code/gromacs_py/docs/notebook/\n",
    "%matplotlib notebook"
   ]
  },
  {
   "cell_type": "code",
   "execution_count": 3,
   "metadata": {},
   "outputs": [],
   "source": [
    "rm -r tmp/cyclic"
   ]
  },
  {
   "cell_type": "code",
   "execution_count": 4,
   "metadata": {},
   "outputs": [],
   "source": [
    "TEST_OUT = 'tmp'\n",
    "cyclic_pep = gmx.GmxSys(name='5vav', coor_file='../../gromacs_py/test_files/5vav.pdb')"
   ]
  },
  {
   "cell_type": "code",
   "execution_count": 5,
   "metadata": {},
   "outputs": [
    {
     "data": {
      "application/vnd.jupyter.widget-view+json": {
       "model_id": "2f487b2c37754536834902f54fd5630f",
       "version_major": 2,
       "version_minor": 0
      },
      "text/plain": [
       "_ColormakerRegistry()"
      ]
     },
     "metadata": {},
     "output_type": "display_data"
    },
    {
     "data": {
      "application/vnd.jupyter.widget-view+json": {
       "model_id": "3738d0eb2534428d8f48b8268e52d7ca",
       "version_major": 2,
       "version_minor": 0
      },
      "text/plain": [
       "NGLWidget()"
      ]
     },
     "metadata": {},
     "output_type": "display_data"
    }
   ],
   "source": [
    "view = cyclic_pep.view_coor()\n",
    "view.add_representation(repr_type='licorice', selection='protein')\n",
    "view"
   ]
  },
  {
   "cell_type": "code",
   "execution_count": 6,
   "metadata": {},
   "outputs": [
    {
     "name": "stderr",
     "output_type": "stream",
     "text": [
      "Correct residue GLY  atom N    atom type N3   to N   \n",
      "Correct residue GLY  atom HA1  atom type HP   to H1  \n",
      "Correct residue GLY  atom HA2  atom type HP   to H1  \n",
      "Correct residue ASP  atom O    atom type O2   to O   \n"
     ]
    },
    {
     "name": "stdout",
     "output_type": "stream",
     "text": [
      "gmx pdb2gmx -f ../../../../../gromacs_py/test_files/5vav.pdb -o no_cyclic_5vav_pdb2gmx.pdb -p no_cyclic_5vav_pdb2gmx.top -i no_cyclic_5vav_posre.itp -water tip3p -ff amber99sb-ildn -ignh -ter -vsite none\n"
     ]
    }
   ],
   "source": [
    "#Basic usage :\n",
    "cyclic_pep.cyclic_peptide_top(out_folder=os.path.join(TEST_OUT,'cyclic/top'), ff='amber99sb-ildn')"
   ]
  },
  {
   "cell_type": "code",
   "execution_count": 7,
   "metadata": {},
   "outputs": [
    {
     "data": {
      "application/vnd.jupyter.widget-view+json": {
       "model_id": "3959d3eda4d34ea0842ecebcefb777f7",
       "version_major": 2,
       "version_minor": 0
      },
      "text/plain": [
       "NGLWidget()"
      ]
     },
     "metadata": {},
     "output_type": "display_data"
    }
   ],
   "source": [
    "view = cyclic_pep.view_coor()\n",
    "view.add_representation(repr_type='licorice', selection='protein')\n",
    "view"
   ]
  },
  {
   "cell_type": "code",
   "execution_count": 8,
   "metadata": {},
   "outputs": [
    {
     "name": "stdout",
     "output_type": "stream",
     "text": [
      "0.0\n"
     ]
    }
   ],
   "source": [
    "cyclic_top = gmx.TopSys(cyclic_pep.top_file)\n",
    "print(cyclic_top.charge())"
   ]
  },
  {
   "cell_type": "code",
   "execution_count": 9,
   "metadata": {},
   "outputs": [
    {
     "name": "stdout",
     "output_type": "stream",
     "text": [
      "gmx editconf -f tmp/cyclic/top/5vav_pdb2gmx.pdb -o tmp/cyclic/top/5vav_pdb2gmx_box.pdb -bt dodecahedron -d 1.0\n",
      "gmx grompp -f 5vav.mdp -c ../top/5vav_pdb2gmx_box.pdb -r ../top/5vav_pdb2gmx_box.pdb -p ../top/5vav_pdb2gmx.top -po out_5vav.mdp -o 5vav.tpr -maxwarn 1\n",
      "gmx mdrun -s 5vav.tpr -deffnm 5vav -nt 0 -ntmpi 0 -nsteps -2 -nocopyright\n"
     ]
    },
    {
     "data": {
      "application/vnd.jupyter.widget-view+json": {
       "model_id": "e587dd96d3b14206ae3e1c72c4687cbe",
       "version_major": 2,
       "version_minor": 0
      },
      "text/plain": [
       "HBox(children=(FloatProgress(value=0.0), HTML(value='')))"
      ]
     },
     "metadata": {},
     "output_type": "display_data"
    },
    {
     "name": "stdout",
     "output_type": "stream",
     "text": [
      "\n"
     ]
    }
   ],
   "source": [
    "#cyclic_pep.em(out_folder=TEST_OUT+'/cyclic_charmm/em/', nsteps=100, create_box_flag=True)\n",
    "cyclic_pep.em(out_folder=TEST_OUT+'/cyclic/em/', nsteps=100, create_box_flag=True)"
   ]
  },
  {
   "cell_type": "code",
   "execution_count": 12,
   "metadata": {},
   "outputs": [
    {
     "data": {
      "application/vnd.jupyter.widget-view+json": {
       "model_id": "ed8f6db43c4e478292ed5fff86185c58",
       "version_major": 2,
       "version_minor": 0
      },
      "text/plain": [
       "NGLWidget()"
      ]
     },
     "metadata": {},
     "output_type": "display_data"
    }
   ],
   "source": [
    "view = cyclic_pep.view_traj()\n",
    "view.add_representation(repr_type='licorice', selection='protein')\n",
    "view"
   ]
  },
  {
   "cell_type": "code",
   "execution_count": null,
   "metadata": {},
   "outputs": [],
   "source": []
  }
 ],
 "metadata": {
  "kernelspec": {
   "display_name": "Python 3",
   "language": "python",
   "name": "python3"
  },
  "language_info": {
   "codemirror_mode": {
    "name": "ipython",
    "version": 3
   },
   "file_extension": ".py",
   "mimetype": "text/x-python",
   "name": "python",
   "nbconvert_exporter": "python",
   "pygments_lexer": "ipython3",
   "version": "3.8.2"
  },
  "toc": {
   "base_numbering": 1,
   "nav_menu": {},
   "number_sections": true,
   "sideBar": true,
   "skip_h1_title": false,
   "title_cell": "Table of Contents",
   "title_sidebar": "Contents",
   "toc_cell": false,
   "toc_position": {},
   "toc_section_display": true,
   "toc_window_display": false
  }
 },
 "nbformat": 4,
 "nbformat_minor": 2
}
