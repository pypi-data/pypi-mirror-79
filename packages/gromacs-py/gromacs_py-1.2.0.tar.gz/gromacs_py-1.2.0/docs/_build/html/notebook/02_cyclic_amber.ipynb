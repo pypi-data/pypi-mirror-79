{
 "cells": [
  {
   "cell_type": "code",
   "execution_count": 1,
   "metadata": {},
   "outputs": [
    {
     "name": "stdout",
     "output_type": "stream",
     "text": [
      "Gromacs version is 2016.4\n",
      "FORCEFIELD_PATH_LIST =  ['/Users/smurail/Documents/Code/gromacs_py/gromacs_py/gromacs/template', '/Users/smurail/Documents/Software/gromacs/local_2016.4/share/gromacs/top']\n"
     ]
    }
   ],
   "source": [
    "import sys\n",
    "import os\n",
    "import urllib.request  \n",
    "import pandas as pd\n",
    "import matplotlib\n",
    "import matplotlib.pyplot as plt\n",
    "import numpy as np\n",
    "import seaborn as sns\n",
    "\n",
    "# Gromacs_py import\n",
    "sys.path.insert(0, os.path.abspath('../../..'))\n",
    "import gromacs_py\n",
    "import gromacs_py.gromacs.gmx5 as gmx\n",
    "\n",
    "import gromacs_py.gromacs.tools.os_command as os_command"
   ]
  },
  {
   "cell_type": "code",
   "execution_count": 2,
   "metadata": {},
   "outputs": [
    {
     "name": "stdout",
     "output_type": "stream",
     "text": [
      "/Users/smurail/Documents/Code/gromacs_py/gromacs_py/doc/notebook\n"
     ]
    }
   ],
   "source": [
    "%cd /Users/smurail/Documents/Code/gromacs_py/gromacs_py/doc/notebook/\n",
    "%matplotlib notebook\n",
    "#%matplotlib nbagg\n",
    "#%matplotlib inline\n"
   ]
  },
  {
   "cell_type": "code",
   "execution_count": 3,
   "metadata": {},
   "outputs": [],
   "source": [
    "rm -r tmp/cyclic"
   ]
  },
  {
   "cell_type": "code",
   "execution_count": 4,
   "metadata": {},
   "outputs": [
    {
     "name": "stdout",
     "output_type": "stream",
     "text": [
      "-Create topologie\n",
      "gmx pdb2gmx -f ../../../../../test/input/5vav.pdb -o no_cyclic_5vav_pdb2gmx.pdb -p no_cyclic_5vav_pdb2gmx.top -i no_cyclic_5vav_posre.itp -water tip3p -ff amber99sb-ildn -ignh -ter -vsite no\n",
      "Molecule topologie present in no_cyclic_5vav_pdb2gmx.top , extract the topologie in a separate file: no_cyclic_5vav_pdb2gmx.itp\n",
      "Protein_chain_A\n",
      "-ITP file: no_cyclic_5vav_pdb2gmx.itp\n",
      "-molecules defined in the itp file:\n",
      "* Protein_chain_A\n",
      "Rewrite topologie: no_cyclic_5vav_pdb2gmx.top\n",
      "Read rtp file : /Users/smurail/Documents/Software/gromacs/local_2016.4/share/gromacs/top/amber99sb-ildn.ff/aminoacids.rtp\n",
      "Correct residue GLY  atom type N3   to N   \n",
      "Correct residue GLY  atom type HP   to H1  \n",
      "Correct residue GLY  atom type HP   to H1  \n",
      "Correct residue ASP  atom type O2   to O   \n",
      "Protein_chain_A\n",
      "Succeed to read file tmp/cyclic/top/no_cyclic_5vav_pdb2gmx.pdb ,  212 atoms found\n",
      "Succeed to save file tmp/cyclic/top/5vav_pdb2gmx.pdb\n"
     ]
    }
   ],
   "source": [
    "TEST_OUT = 'tmp'\n",
    "cyclic_pep = gmx.GmxSys(name='5vav', coor_file='../../test/input/5vav.pdb')\n",
    "\n",
    "#Basic usage :\n",
    "cyclic_pep.cyclic_peptide_top(out_folder=os.path.join(TEST_OUT,'cyclic/top'), ff='amber99sb-ildn')\n",
    "#cyclic_pep.cyclic_peptide_top(out_folder=os.path.join(TEST_OUT,'cyclic_charmm/top'))"
   ]
  },
  {
   "cell_type": "code",
   "execution_count": 5,
   "metadata": {},
   "outputs": [
    {
     "name": "stdout",
     "output_type": "stream",
     "text": [
      "0.0\n"
     ]
    }
   ],
   "source": [
    "cyclic_top = gmx.TopSys(cyclic_pep.top_file)\n",
    "print(cyclic_top.charge())"
   ]
  },
  {
   "cell_type": "code",
   "execution_count": null,
   "metadata": {},
   "outputs": [],
   "source": []
  },
  {
   "cell_type": "code",
   "execution_count": null,
   "metadata": {},
   "outputs": [],
   "source": [
    "#cyclic_pep.em(out_folder=TEST_OUT+'/cyclic_charmm/em/', nsteps=100, create_box_flag=True)\n",
    "cyclic_pep.em(out_folder=TEST_OUT+'/cyclic/em/', nsteps=100, create_box_flag=True)"
   ]
  },
  {
   "cell_type": "code",
   "execution_count": null,
   "metadata": {},
   "outputs": [],
   "source": [
    "     1   208     3     2     4\n",
    "     N   C       CA    H\n",
    "     \n",
    "    \n",
    "    8    6       10    9\n",
    "\n",
    "new order :\n",
    "     6    10     8     9     4\n",
    "    C.    CA.    N.    H\n",
    "    \n",
    "       208   200     1   209     4\n",
    "       C     CA      N   O\n",
    "    \n",
    "       30    10      32    31\n",
    "new order:\n",
    "       10.   32.     30.  31\n",
    "        CA.  N.      C.    O"
   ]
  },
  {
   "cell_type": "code",
   "execution_count": 6,
   "metadata": {},
   "outputs": [],
   "source": [
    "rm -r tmp/cyclic_charmm"
   ]
  },
  {
   "cell_type": "code",
   "execution_count": 7,
   "metadata": {},
   "outputs": [
    {
     "name": "stdout",
     "output_type": "stream",
     "text": [
      "-Create topologie\n",
      "gmx pdb2gmx -f ../../../../../test/input/5vav.pdb -o no_cyclic_5vav_pdb2gmx.pdb -p no_cyclic_5vav_pdb2gmx.top -i no_cyclic_5vav_posre.itp -water tip3p -ff charmm36-jul2017 -ignh -ter -vsite no\n",
      "Molecule topologie present in no_cyclic_5vav_pdb2gmx.top , extract the topologie in a separate file: no_cyclic_5vav_pdb2gmx.itp\n",
      "Protein_chain_A\n",
      "-ITP file: no_cyclic_5vav_pdb2gmx.itp\n",
      "-molecules defined in the itp file:\n",
      "* Protein_chain_A\n",
      "Rewrite topologie: no_cyclic_5vav_pdb2gmx.top\n",
      "Read rtp file : /Users/smurail/Documents/Code/gromacs_py/gromacs_py/gromacs/template/charmm36-jul2017.ff/merged.rtp\n",
      "Correct residue GLY  atom type NH3  to NH1 \n",
      "Correct residue GLY  atom type HC   to H   \n",
      "Correct residue ASP  atom type CC   to C   \n",
      "Correct residue ASP  atom type OC   to O   \n",
      "Protein_chain_A\n",
      "Succeed to read file tmp/cyclic_charmm/top/no_cyclic_5vav_pdb2gmx.pdb ,  212 atoms found\n",
      "Succeed to save file tmp/cyclic_charmm/top/5vav_pdb2gmx.pdb\n"
     ]
    }
   ],
   "source": [
    "TEST_OUT = 'tmp'\n",
    "cyclic_pep = gmx.GmxSys(name='5vav', coor_file='../../test/input/5vav.pdb')\n",
    "\n",
    "#Basic usage :\n",
    "cyclic_pep.cyclic_peptide_top(out_folder=os.path.join(TEST_OUT,'cyclic_charmm/top'))\n",
    "#cyclic_pep.cyclic_peptide_top(out_folder=os.path.join(TEST_OUT,'cyclic_charmm/top'))"
   ]
  },
  {
   "cell_type": "code",
   "execution_count": 8,
   "metadata": {},
   "outputs": [
    {
     "name": "stdout",
     "output_type": "stream",
     "text": [
      "0.0\n"
     ]
    }
   ],
   "source": [
    "cyclic_top = gmx.TopSys(cyclic_pep.top_file)\n",
    "print(cyclic_top.charge())"
   ]
  },
  {
   "cell_type": "code",
   "execution_count": 9,
   "metadata": {},
   "outputs": [
    {
     "name": "stdout",
     "output_type": "stream",
     "text": [
      "-Create pbc box\n",
      "gmx editconf -f tmp/cyclic_charmm/top/5vav_pdb2gmx.pdb -o tmp/cyclic_charmm/top/5vav_pdb2gmx_box.pdb -bt dodecahedron -d 1.0\n",
      "-Create the tpr file  5vav.tpr\n",
      "gmx grompp -f 5vav.mdp -c ../top/5vav_pdb2gmx_box.pdb -r ../top/5vav_pdb2gmx_box.pdb -p ../top/5vav_pdb2gmx.top -po out_5vav.mdp -o 5vav.tpr -maxwarn 1\n",
      "-Launch the simulation 5vav.tpr\n",
      "gmx mdrun -s 5vav.tpr -deffnm 5vav -nt 0 -ntmpi 0 -nsteps -2 -nocopyright\n"
     ]
    }
   ],
   "source": [
    "#cyclic_pep.em(out_folder=TEST_OUT+'/cyclic_charmm/em/', nsteps=100, create_box_flag=True)\n",
    "cyclic_pep.em(out_folder=TEST_OUT+'/cyclic_charmm/em/', nsteps=100, create_box_flag=True)"
   ]
  },
  {
   "cell_type": "code",
   "execution_count": null,
   "metadata": {},
   "outputs": [],
   "source": []
  }
 ],
 "metadata": {
  "kernelspec": {
   "display_name": "Python 3",
   "language": "python",
   "name": "python3"
  },
  "language_info": {
   "codemirror_mode": {
    "name": "ipython",
    "version": 3
   },
   "file_extension": ".py",
   "mimetype": "text/x-python",
   "name": "python",
   "nbconvert_exporter": "python",
   "pygments_lexer": "ipython3",
   "version": "3.8.2"
  },
  "toc": {
   "base_numbering": 1,
   "nav_menu": {},
   "number_sections": true,
   "sideBar": true,
   "skip_h1_title": false,
   "title_cell": "Table of Contents",
   "title_sidebar": "Contents",
   "toc_cell": false,
   "toc_position": {},
   "toc_section_display": true,
   "toc_window_display": false
  }
 },
 "nbformat": 4,
 "nbformat_minor": 2
}
