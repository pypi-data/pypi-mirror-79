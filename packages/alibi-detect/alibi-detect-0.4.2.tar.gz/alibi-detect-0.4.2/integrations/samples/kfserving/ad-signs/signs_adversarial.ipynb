{
 "cells": [
  {
   "cell_type": "markdown",
   "metadata": {},
   "source": [
    "# Traffic Signs Adversarial Detector with Kfserving\n",
    "\n",
    "![demo](demo.png)\n",
    "\n",
    "Prequisites:\n",
    "\n",
    " * Running cluster with kfserving installed and authenticated for use with `kubectl`\n",
    "    * Istio with Istio Gateway exposed on a LoadBalancer\n",
    " * Knative eventing installed\n",
    " * Download the Traffic Signs model: run `make model_signs` (Requires `gsutils`)\n",
    " * Pip install the alibi-detect library."
   ]
  },
  {
   "cell_type": "markdown",
   "metadata": {},
   "source": [
    "## Setup Resources"
   ]
  },
  {
   "cell_type": "markdown",
   "metadata": {},
   "source": [
    "Enabled eventing on default namespace. This will activate a default Knative Broker."
   ]
  },
  {
   "cell_type": "code",
   "execution_count": null,
   "metadata": {},
   "outputs": [],
   "source": [
    "!kubectl label namespace default knative-eventing-injection=enabled"
   ]
  },
  {
   "cell_type": "markdown",
   "metadata": {},
   "source": [
    "Create a Knative service to dump events it receives. This will be the example final sink for adversarial events."
   ]
  },
  {
   "cell_type": "code",
   "execution_count": null,
   "metadata": {},
   "outputs": [],
   "source": [
    "!pygmentize message-dumper.yaml"
   ]
  },
  {
   "cell_type": "code",
   "execution_count": null,
   "metadata": {},
   "outputs": [],
   "source": [
    "!kubectl apply -f message-dumper.yaml"
   ]
  },
  {
   "cell_type": "markdown",
   "metadata": {},
   "source": [
    "Create the Kfserving image classification model for Cifar10. We add in a `logger` for requests - the default destination is the namespace Knative Broker."
   ]
  },
  {
   "cell_type": "code",
   "execution_count": null,
   "metadata": {},
   "outputs": [],
   "source": [
    "!pygmentize signs.yaml"
   ]
  },
  {
   "cell_type": "code",
   "execution_count": null,
   "metadata": {},
   "outputs": [],
   "source": [
    "!kubectl apply -f signs.yaml"
   ]
  },
  {
   "cell_type": "markdown",
   "metadata": {},
   "source": [
    "Create the pretrained Traffic Signs Adversarial detector. We forward replies to the message-dumper we started."
   ]
  },
  {
   "cell_type": "code",
   "execution_count": null,
   "metadata": {},
   "outputs": [],
   "source": [
    "!pygmentize signsad.yaml"
   ]
  },
  {
   "cell_type": "code",
   "execution_count": null,
   "metadata": {},
   "outputs": [],
   "source": [
    "!kubectl apply -f signsad.yaml"
   ]
  },
  {
   "cell_type": "markdown",
   "metadata": {},
   "source": [
    "Create a Knative trigger to forward logging events to our Adversarial Detector."
   ]
  },
  {
   "cell_type": "code",
   "execution_count": null,
   "metadata": {},
   "outputs": [],
   "source": [
    "!pygmentize trigger.yaml"
   ]
  },
  {
   "cell_type": "code",
   "execution_count": null,
   "metadata": {},
   "outputs": [],
   "source": [
    "!kubectl apply -f trigger.yaml"
   ]
  },
  {
   "cell_type": "markdown",
   "metadata": {},
   "source": [
    "Get the IP address of the Istio Ingress Gateway. This assumes you have installed istio with a LoadBalancer."
   ]
  },
  {
   "cell_type": "code",
   "execution_count": null,
   "metadata": {},
   "outputs": [],
   "source": [
    "CLUSTER_IPS=!(kubectl -n istio-system get service istio-ingressgateway -o jsonpath='{.status.loadBalancer.ingress[0].ip}')\n",
    "CLUSTER_IP=CLUSTER_IPS[0]\n",
    "print(CLUSTER_IP)"
   ]
  },
  {
   "cell_type": "code",
   "execution_count": null,
   "metadata": {},
   "outputs": [],
   "source": [
    "SERVICE_HOSTNAMES=!(kubectl get inferenceservice signs -o jsonpath='{.status.url}' | cut -d \"/\" -f 3)\n",
    "SERVICE_HOSTNAME_SIGNS=SERVICE_HOSTNAMES[0]\n",
    "print(SERVICE_HOSTNAME_SIGNS)"
   ]
  },
  {
   "cell_type": "code",
   "execution_count": null,
   "metadata": {},
   "outputs": [],
   "source": [
    "SERVICE_HOSTNAMES=!(kubectl get ksvc ad-signs -o jsonpath='{.status.url}' | cut -d \"/\" -f 3)\n",
    "SERVICE_HOSTNAME_SIGNSAD=SERVICE_HOSTNAMES[0]\n",
    "print(SERVICE_HOSTNAME_SIGNSAD)"
   ]
  },
  {
   "cell_type": "code",
   "execution_count": null,
   "metadata": {},
   "outputs": [],
   "source": [
    "import numpy as np \n",
    "import pandas as pd \n",
    "import matplotlib.pyplot as plt\n",
    "import tensorflow as tf\n",
    "import cv2\n",
    "from PIL import Image\n",
    "import os\n",
    "\n",
    "def load_signs(train_folder=\"./traffic_data/train/\"):\n",
    "    \n",
    "    data=[]\n",
    "    labels=[]\n",
    "\n",
    "    height = 30\n",
    "    width = 30\n",
    "    channels = 3\n",
    "    classes = 43\n",
    "    n_inputs = height * width*channels\n",
    "\n",
    "    for i in range(classes) :\n",
    "        path = train_folder+\"{0}/\".format(i)\n",
    "        Class=os.listdir(path)\n",
    "        for a in Class:\n",
    "            try:\n",
    "                image=cv2.imread(path+a)\n",
    "                image_from_array = Image.fromarray(image, 'RGB')\n",
    "                size_image = image_from_array.resize((height, width))\n",
    "                data.append(np.array(size_image))\n",
    "                labels.append(i)\n",
    "            except AttributeError:\n",
    "                print(\" \")\n",
    "            \n",
    "    Cells=np.array(data)\n",
    "    labels=np.array(labels)\n",
    "\n",
    "    #Randomize the order of the input images\n",
    "    s=np.arange(Cells.shape[0])\n",
    "    np.random.seed(43)\n",
    "    np.random.shuffle(s)\n",
    "    Cells=Cells[s]\n",
    "    labels=labels[s]\n",
    "\n",
    "    (X_train,X_val)=Cells[(int)(0.2*len(labels)):],Cells[:(int)(0.2*len(labels))]\n",
    "\n",
    "    (y_train,y_val)=labels[(int)(0.2*len(labels)):],labels[:(int)(0.2*len(labels))]\n",
    "    \n",
    "    train, test = (X_train, y_train), (X_val, y_val)\n",
    "    \n",
    "    return train, test"
   ]
  },
  {
   "cell_type": "code",
   "execution_count": null,
   "metadata": {},
   "outputs": [],
   "source": [
    "train, test = load_signs()"
   ]
  },
  {
   "cell_type": "code",
   "execution_count": 1,
   "metadata": {},
   "outputs": [
    {
     "ename": "NameError",
     "evalue": "name 'train' is not defined",
     "output_type": "error",
     "traceback": [
      "\u001b[0;31m---------------------------------------------------------------------------\u001b[0m",
      "\u001b[0;31mNameError\u001b[0m                                 Traceback (most recent call last)",
      "\u001b[0;32m<ipython-input-1-f7f564aff678>\u001b[0m in \u001b[0;36m<module>\u001b[0;34m\u001b[0m\n\u001b[1;32m      8\u001b[0m \u001b[0;34m\u001b[0m\u001b[0m\n\u001b[1;32m      9\u001b[0m \u001b[0;34m\u001b[0m\u001b[0m\n\u001b[0;32m---> 10\u001b[0;31m \u001b[0mX_train\u001b[0m\u001b[0;34m,\u001b[0m \u001b[0my_train\u001b[0m \u001b[0;34m=\u001b[0m \u001b[0mtrain\u001b[0m\u001b[0;34m\u001b[0m\u001b[0;34m\u001b[0m\u001b[0m\n\u001b[0m\u001b[1;32m     11\u001b[0m \u001b[0mX_test\u001b[0m\u001b[0;34m,\u001b[0m \u001b[0my_test\u001b[0m \u001b[0;34m=\u001b[0m \u001b[0mtest\u001b[0m\u001b[0;34m\u001b[0m\u001b[0;34m\u001b[0m\u001b[0m\n\u001b[1;32m     12\u001b[0m \u001b[0;34m\u001b[0m\u001b[0m\n",
      "\u001b[0;31mNameError\u001b[0m: name 'train' is not defined"
     ]
    }
   ],
   "source": [
    "import matplotlib.pyplot as plt\n",
    "import tensorflow as tf\n",
    "tf.keras.backend.clear_session()\n",
    "from tensorflow.keras.models import Model\n",
    "from tensorflow.keras.utils import to_categorical\n",
    "import tensorflow as tf\n",
    "import requests\n",
    "\n",
    "\n",
    "X_train, y_train = train\n",
    "X_test, y_test = test\n",
    "\n",
    "X_train = X_train.reshape(-1, 30, 30, 3).astype('float32') / 255\n",
    "X_test = X_test.reshape(-1, 30, 30, 3).astype('float32') / 255\n",
    "y_train = to_categorical(y_train, 43)\n",
    "y_test = to_categorical(y_test, 43)\n",
    "print(X_train.shape, y_train.shape, X_test.shape, y_test.shape)\n",
    "\n",
    "classes = ('0', '1', '2', '3',\n",
    "           '4', '5', '6', '7', '8', '9')\n",
    "img_shape = (30, 30, 3)\n",
    "\n",
    "def show(Xs):\n",
    "    for X in Xs:\n",
    "        plt.imshow(np.squeeze(X))\n",
    "        plt.axis('off')\n",
    "        plt.show()\n",
    "\n",
    "    \n",
    "meta_folder=\"./traffic_data/meta/\"   \n",
    "def show_prediction(idxs):\n",
    "    for idx in idxs.tolist():\n",
    "        class_image=cv2.imread(meta_folder+\"{}.png\".format(idx))\n",
    "        image = Image.fromarray(class_image, 'RGB')\n",
    "        image = np.array(image)\n",
    "        show([image])\n",
    "    \n",
    "def predict(X):\n",
    "    formData = {\n",
    "    'instances': X.tolist()\n",
    "    }\n",
    "    headers = {}\n",
    "    headers[\"Host\"] = SERVICE_HOSTNAME_SIGNS\n",
    "    res = requests.post('http://'+CLUSTER_IP+'/v1/models/signs:predict', json=formData, headers=headers)\n",
    "    if res.status_code == 200:\n",
    "        show_prediction(np.array(res.json()[\"predictions\"]))\n",
    "    else:\n",
    "        print(\"Failed with \",res.status_code)\n",
    "        \n",
    "    \n",
    "def detect(X):\n",
    "    formData = {\n",
    "    'instances': X.tolist()\n",
    "    }\n",
    "    headers = {\"alibi-detect-return-instance-score\":\"true\"}\n",
    "    headers[\"Host\"] = SERVICE_HOSTNAME_SIGNSAD\n",
    "    res = requests.post('http://'+CLUSTER_IP+'/', json=formData, headers=headers)\n",
    "    if res.status_code == 200:\n",
    "        ad = res.json()\n",
    "        ad[\"data\"][\"instance_score\"] = np.array(ad[\"data\"][\"instance_score\"])\n",
    "        return ad\n",
    "    else:\n",
    "        print(\"Failed with \",res.status_code)\n",
    "        return []"
   ]
  },
  {
   "cell_type": "markdown",
   "metadata": {},
   "source": [
    "## Normal Prediction"
   ]
  },
  {
   "cell_type": "code",
   "execution_count": null,
   "metadata": {},
   "outputs": [],
   "source": [
    "idx = 2\n",
    "X = X_train[idx:idx+1]\n",
    "show(X)\n",
    "predict(X)"
   ]
  },
  {
   "cell_type": "markdown",
   "metadata": {},
   "source": [
    "Show logs from message-dumper. The last cloud event should show a line like:\n",
    "\n",
    "```JSON\n",
    "\"{\\\"data\\\": {\\\"feature_score\\\": null, \\\"instance_score\\\": null, \\\"is_adversarial\\\": [0]}, \\\"meta\\\": {\\\"name\\\": \\\"AdversarialVAE\\\", \\\"detector_type\\\": \\\"offline\\\", \\\"data_type\\\": null}}\"\n",
    "```\n",
    "\n",
    "This shows the last event was not an adversarial attack."
   ]
  },
  {
   "cell_type": "code",
   "execution_count": null,
   "metadata": {
    "scrolled": true
   },
   "outputs": [],
   "source": [
    "!kubectl logs $(kubectl get pod -l serving.knative.dev/configuration=message-dumper -o jsonpath='{.items[0].metadata.name}') user-container"
   ]
  },
  {
   "cell_type": "markdown",
   "metadata": {},
   "source": [
    "## Generate adversarial instances\n",
    "\n",
    "The `cleverhans` adversarial attack methods assume that the model outputs logits, so we will create a modified model by simply removing the softmax output layer:"
   ]
  },
  {
   "cell_type": "code",
   "execution_count": null,
   "metadata": {},
   "outputs": [],
   "source": [
    "from alibi_detect.utils.saving import  load_tf_model\n",
    "filepath = './model_signs/'\n",
    "model = load_tf_model(filepath)"
   ]
  },
  {
   "cell_type": "code",
   "execution_count": null,
   "metadata": {},
   "outputs": [],
   "source": [
    "model_logits = Model(inputs=model.inputs, outputs=model.layers[-2].output)"
   ]
  },
  {
   "cell_type": "markdown",
   "metadata": {},
   "source": [
    "Select observations for which we will create adversarial instances:"
   ]
  },
  {
   "cell_type": "code",
   "execution_count": null,
   "metadata": {},
   "outputs": [],
   "source": [
    "ids = np.arange(2,7)\n",
    "X_to_adv = X_test[ids]\n",
    "print(X_to_adv.shape)"
   ]
  },
  {
   "cell_type": "markdown",
   "metadata": {},
   "source": [
    "Launch adversarial attack. Follow the [Basic Iterative Method (Kurakin et al. 2016)](https://arxiv.org/pdf/1607.02533.pdf) when `rand_init` is set to 0 or the [Madry et al. (2017)](https://arxiv.org/pdf/1706.06083.pdf) method when `rand_minmax` is larger than 0:"
   ]
  },
  {
   "cell_type": "code",
   "execution_count": null,
   "metadata": {},
   "outputs": [],
   "source": [
    "# Adversarial attack method. The latest release of the `cleverhans` package does\n",
    "# not support TensrFlow 2 yet, so we need to install from the master branch:\n",
    "# pip install git+https://github.com/tensorflow/cleverhans.git#egg=cleverhans\n",
    "from cleverhans.future.tf2.attacks import projected_gradient_descent\n",
    "X_adv = projected_gradient_descent(model_logits,\n",
    "                                   X_to_adv,\n",
    "                                   eps=2.,\n",
    "                                   eps_iter=1.,\n",
    "                                   nb_iter=10,\n",
    "                                   norm=2,\n",
    "                                   clip_min=X_train.min(),\n",
    "                                   clip_max=X_train.max(),\n",
    "                                   rand_init=None,\n",
    "                                   rand_minmax=.3,\n",
    "                                   targeted=False,\n",
    "                                   sanity_checks=False\n",
    "                                  ).numpy()"
   ]
  },
  {
   "cell_type": "code",
   "execution_count": null,
   "metadata": {},
   "outputs": [],
   "source": [
    "y_pred = predict(X_to_adv)\n",
    "y_pred_adv = predict(X_adv)"
   ]
  },
  {
   "cell_type": "markdown",
   "metadata": {},
   "source": [
    "We can look at the logs of the message dumper and see the last 2 cloud events which should show the results of outr batch prediction of ordinary examples and our modifed adversarial attacks:\n",
    "\n",
    "```JSON\n",
    "\"{\\\"data\\\": {\\\"feature_score\\\": null, \\\"instance_score\\\": null, \\\"is_adversarial\\\": [0, 0, 0, 0, 0]}, \\\"meta\\\": {\\\"name\\\": \\\"AdversarialVAE\\\", \\\"detector_type\\\": \\\"offline\\\", \\\"data_type\\\": null}}\"\n",
    "```\n",
    "\n",
    "and \n",
    "\n",
    "```JSON\n",
    "\"{\\\"data\\\": {\\\"feature_score\\\": null, \\\"instance_score\\\": null, \\\"is_adversarial\\\": [1, 1, 1, 1, 1]}, \\\"meta\\\": {\\\"name\\\": \\\"AdversarialVAE\\\", \\\"detector_type\\\": \\\"offline\\\", \\\"data_type\\\": null}}\"\n",
    "```\n",
    "\n",
    "This shows the first batch of 5 were not adversarial but the second 5 were:\n",
    "\n",
    "  * `is_adversarial: [0, 0, 0, 0, 0]`\n",
    "  * `is_adversarial: [1, 1, 1, 1, 1]`"
   ]
  },
  {
   "cell_type": "code",
   "execution_count": null,
   "metadata": {},
   "outputs": [],
   "source": [
    "!kubectl logs $(kubectl get pod -l serving.knative.dev/configuration=message-dumper -o jsonpath='{.items[0].metadata.name}') user-container"
   ]
  },
  {
   "cell_type": "code",
   "execution_count": null,
   "metadata": {},
   "outputs": [],
   "source": [
    "y_pred = np.argmax(model(X_to_adv).numpy(), axis=-1)\n",
    "y_pred_adv = np.argmax(model(X_adv).numpy(), axis=-1)\n",
    "\n",
    "n_rows = 5\n",
    "n_cols = 4\n",
    "figsize = (15, 20)\n",
    "img_shape = (30, 30, 3)\n",
    "\n",
    "fig5 = plt.figure(constrained_layout=False, figsize=figsize)\n",
    "widths = [5, 1, 5, 1]\n",
    "heights = [5, 5, 5, 5, 5]\n",
    "spec5 = fig5.add_gridspec(ncols=4, nrows=5, width_ratios=widths,\n",
    "                          height_ratios=heights)\n",
    "\n",
    "for row in range(n_rows):\n",
    "    ax_0 = fig5.add_subplot(spec5[row, 0])    \n",
    "    ax_0.imshow(X_to_adv[row].reshape(img_shape))\n",
    "    if row == 0:\n",
    "        ax_0.title.set_text('Original')\n",
    "    ax_0.axis('off')\n",
    "    \n",
    "    ax_1 = fig5.add_subplot(spec5[row, 1])\n",
    "    class_image=cv2.imread(meta_folder+\"{}.png\".format(y_pred[row]))\n",
    "    image = Image.fromarray(class_image, 'RGB')\n",
    "    image = np.array(image)\n",
    "    ax_1.imshow(image)\n",
    "    ax_1.title.set_text('Pred original: {}'.format(y_pred[row]))\n",
    "    ax_1.axis('off')\n",
    "    \n",
    "    ax_2 = fig5.add_subplot(spec5[row, 2])\n",
    "    ax_2.imshow(X_adv[row].reshape(img_shape))\n",
    "    if row == 0:\n",
    "        ax_2.title.set_text('Adversarial')\n",
    "    ax_2.axis('off')\n",
    "    \n",
    "    ax_3 = fig5.add_subplot(spec5[row, 3])\n",
    "    class_image_adv=cv2.imread(meta_folder+\"{}.png\".format(y_pred_adv[row]))\n",
    "    image_adv = Image.fromarray(class_image_adv, 'RGB')\n",
    "    image_adv = np.array(image_adv)   \n",
    "    ax_3.imshow(image_adv)\n",
    "    ax_3.title.set_text('Pred adversarial: {}'.format(y_pred_adv[row]))\n",
    "    ax_3.axis('off')"
   ]
  },
  {
   "cell_type": "markdown",
   "metadata": {},
   "source": [
    "## Get Adversarial Scores\n",
    "\n",
    "We call the adversarial detector directly to get instance scores.\n"
   ]
  },
  {
   "cell_type": "code",
   "execution_count": null,
   "metadata": {},
   "outputs": [],
   "source": [
    "from alibi_detect.utils.visualize import plot_instance_score\n",
    "X = np.concatenate([X_to_adv, X_adv], axis=0)\n",
    "ad_preds = detect(X)\n",
    "labels = ['Normal', 'Adversarial']\n",
    "target = np.array([0 if i < X_to_adv.shape[0] else 1 for i in range(X.shape[0])])\n",
    "plot_instance_score(ad_preds, target, labels, 0.5)"
   ]
  },
  {
   "cell_type": "code",
   "execution_count": null,
   "metadata": {},
   "outputs": [],
   "source": []
  }
 ],
 "metadata": {
  "kernelspec": {
   "display_name": "Python 3",
   "language": "python",
   "name": "python3"
  },
  "language_info": {
   "codemirror_mode": {
    "name": "ipython",
    "version": 3
   },
   "file_extension": ".py",
   "mimetype": "text/x-python",
   "name": "python",
   "nbconvert_exporter": "python",
   "pygments_lexer": "ipython3",
   "version": "3.7.4"
  }
 },
 "nbformat": 4,
 "nbformat_minor": 2
}
