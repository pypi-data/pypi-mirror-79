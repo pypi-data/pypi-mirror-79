{
 "cells": [
  {
   "cell_type": "code",
   "execution_count": 1,
   "metadata": {},
   "outputs": [],
   "source": [
    "import jupyxml"
   ]
  },
  {
   "cell_type": "code",
   "execution_count": 2,
   "metadata": {},
   "outputs": [],
   "source": [
    "from jupyxml import JupyXML"
   ]
  },
  {
   "cell_type": "code",
   "execution_count": 3,
   "metadata": {},
   "outputs": [
    {
     "data": {
      "text/plain": [
       "'0.2.1'"
      ]
     },
     "execution_count": 3,
     "metadata": {},
     "output_type": "execute_result"
    }
   ],
   "source": [
    "jupyxml.__version__"
   ]
  },
  {
   "cell_type": "code",
   "execution_count": 5,
   "metadata": {},
   "outputs": [
    {
     "name": "stdout",
     "output_type": "stream",
     "text": [
      "v0002 False\n"
     ]
    },
    {
     "data": {
      "text/html": [
       "\n",
       "            <div class=\"jupyxml\">\n",
       "                <style scoped>\n",
       "                    .card {\n",
       "    border: 1px solid #ccc;\n",
       "    padding: 8pt;\n",
       "    margin: 4pt 4pt 4pt 8pt\n",
       "}\n",
       "\n",
       ".level_even {\n",
       "    background-color: #f6f6f6;\n",
       "}\n",
       "\n",
       "\n",
       ".level_odd {\n",
       "    background-color: #ffffff;\n",
       "}\n",
       "\n",
       ".card-header {\n",
       "    font-size: 1.3em;\n",
       "}\n",
       "\n",
       ".card-body {\n",
       "    padding-left: 8pt;\n",
       "}\n",
       "\n",
       ".leaf_node {\n",
       "    border: 1px solid #ccc;\n",
       "    padding: 8pt;\n",
       "    margin-top: 4pt;\n",
       "}\n",
       "\n",
       "button.btn{\n",
       "    border: 1px solid #ccc;\n",
       "    background-color: white;\n",
       "}\n",
       "\n",
       ".card h3.jupyxml {\n",
       "    margin: 1pt;\n",
       "}\n",
       "                </style>\n",
       "                \n",
       "<div class=\"card level_even\">\n",
       "    <div class=\"card-header\" id=\"heading_1600394625489106\">\n",
       "        <button class=\"btn btn-link\" data-toggle=\"collapse\" data-target=\"#collapse_1600394625489106\" \n",
       "            aria-expanded=\"true\" aria-controls=\"collapse_1600394625489106\">\n",
       "          <h3 class=\"jupyxml\">\n",
       "              Item: b\n",
       "          </h3>\n",
       "        </button>\n",
       "    </div>\n",
       "    \n",
       "    <div id=\"collapse_1600394625489106\" class=\"collapse False\" aria-labelledby=\"heading_1600394625489106\" >\n",
       "      <div class=\"card-body\">\n",
       "        Text: Hello world, \n",
       "<div class=\"leaf_node level_odd\">\n",
       "    <h3 class=\"jupyxml\">Item: i</h3>\n",
       "    Text: I'm here to render your XML\n",
       "</div>\n",
       "\n",
       "      </div>\n",
       "    </div>\n",
       "</div>\n",
       "\n",
       "            </div>\n",
       "        "
      ],
      "text/plain": [
       "<jupyxml.visualiser.JupyXML at 0x7f30db6b2290>"
      ]
     },
     "execution_count": 5,
     "metadata": {},
     "output_type": "execute_result"
    }
   ],
   "source": [
    "JupyXML(\"<b>Hello world, <i>I'm here to render your XML</i></b>\")"
   ]
  }
 ],
 "metadata": {
  "kernelspec": {
   "display_name": "Python 3",
   "language": "python",
   "name": "python3"
  },
  "language_info": {
   "codemirror_mode": {
    "name": "ipython",
    "version": 3
   },
   "file_extension": ".py",
   "mimetype": "text/x-python",
   "name": "python",
   "nbconvert_exporter": "python",
   "pygments_lexer": "ipython3",
   "version": "3.7.6"
  }
 },
 "nbformat": 4,
 "nbformat_minor": 4
}
