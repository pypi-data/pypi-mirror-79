{
  "cells": [
    {
      "cell_type": "markdown",
      "source": "# Global minimization: Skewed Mexican hat\n\nIn this example we will demonstrate the ease of performing global minimization using ``symfit``. In order to do this we will have a look at a simple skewed mexican hat potential, which has a local minimum and a global minimum. We will then use ``DifferentialEvolution`` to find the global minimum. ",
      "metadata": {
        "pycharm": {
          "metadata": false,
          "name": "#%% md\n"
        }
      }
    },
    {
      "cell_type": "code",
      "execution_count": 1,
      "metadata": {
        "pycharm": {
          "is_executing": false
        }
      },
      "outputs": [],
      "source": "from symfit import Parameter, Variable, Model, Fit, solve, diff, N, re\nfrom symfit.core.minimizers import DifferentialEvolution, BFGS\nimport numpy as np\nimport matplotlib.pyplot as plt\n"
    },
    {
      "cell_type": "markdown",
      "metadata": {
        "pycharm": {
          "metadata": false,
          "name": "#%% md\n"
        }
      },
      "source": "First we define a model for the skewed mexican hat.\n"
    },
    {
      "cell_type": "code",
      "execution_count": 2,
      "metadata": {
        "pycharm": {
          "is_executing": false,
          "metadata": false,
          "name": "#%%\n"
        }
      },
      "outputs": [
        {
          "name": "stdout",
          "text": [
            "[y(; x) \u003d x**4 - 10*x**2 + 5*x]\n"
          ],
          "output_type": "stream"
        }
      ],
      "source": "x \u003d Parameter(\u0027x\u0027)\nx.min, x.max \u003d -100, 100\ny \u003d Variable(\u0027y\u0027)\nmodel \u003d Model({y: x**4 - 10 * x**2 + 5 * x})  # Skewed Mexican hat\nprint(model)\n"
    },
    {
      "cell_type": "markdown",
      "source": "Let us visualize what this potential looks like.\n",
      "metadata": {
        "pycharm": {
          "metadata": false
        }
      }
    },
    {
      "cell_type": "code",
      "execution_count": 16,
      "metadata": {
        "pycharm": {
          "is_executing": false,
          "metadata": false,
          "name": "#%%\n"
        }
      },
      "outputs": [
        {
          "data": {
            "text/plain": "\u003cmatplotlib.legend.Legend at 0x225cf47ab00\u003e"
          },
          "metadata": {},
          "output_type": "execute_result",
          "execution_count": 16
        },
        {
          "data": {
            "text/plain": "\u003cFigure size 432x288 with 1 Axes\u003e",
            "image/png": "[encoded data removed]"
          },
          "metadata": {
            "needs_background": "light"
          },
          "output_type": "display_data"
        }
      ],
      "source": "xdata \u003d np.linspace(-4, 4, 201)\nydata \u003d model(x\u003dxdata).y\n\nplt.axhline(0, color\u003d\u0027black\u0027)\nplt.axvline(0, color\u003d\u0027black\u0027)\nplt.plot(xdata, ydata, label\u003dr\u0027$f(x)$\u0027)\nplt.xlabel(\u0027x\u0027)\nplt.ylabel(\u0027f(x)\u0027)\nplt.ylim(1.1 * ydata.min(), 1.1 * ydata.max())\nplt.legend()\n"
    },
    {
      "cell_type": "markdown",
      "metadata": {
        "pycharm": {
          "metadata": false
        }
      },
      "source": "Using ``sympy``, it is easy to solve the solution analytically, by finding the places where the gradient is zero. \n"
    },
    {
      "cell_type": "code",
      "execution_count": 17,
      "metadata": {
        "pycharm": {
          "is_executing": false,
          "metadata": false,
          "name": "#%%\n"
        }
      },
      "outputs": [
        {
          "data": {
            "text/plain": "[0.253248404857807, 2.09866205647752, -2.35191046133532]"
          },
          "metadata": {},
          "output_type": "execute_result",
          "execution_count": 17
        }
      ],
      "source": "sol \u003d solve(diff(model[y], x), x)\n# Give numerical value\nsol \u003d [re(N(s)) for s in sol]\nsol"
    },
    {
      "cell_type": "markdown",
      "source": "Without providing any initial guesses, ``symfit`` finds the local minimum. This is because the initial guess is set to ``1`` by default.",
      "metadata": {
        "pycharm": {
          "metadata": false,
          "name": "#%% md\n"
        }
      }
    },
    {
      "cell_type": "code",
      "execution_count": 18,
      "metadata": {
        "pycharm": {
          "is_executing": false,
          "metadata": false,
          "name": "#%%\n"
        }
      },
      "outputs": [
        {
          "name": "stdout",
          "text": [
            "exact value 2.09866205647752\nnum  value  2.09866205722533\n"
          ],
          "output_type": "stream"
        }
      ],
      "source": "fit \u003d Fit(model)\nfit_result \u003d fit.execute()\nprint(\u0027exact value\u0027, sol[1])\nprint(\u0027num  value \u0027, fit_result.value(x))\n  "
    },
    {
      "cell_type": "markdown",
      "source": "Let\u0027s use ``DifferentialEvolution`` instead.\n",
      "metadata": {
        "pycharm": {
          "metadata": false,
          "name": "#%% md\n"
        }
      }
    },
    {
      "cell_type": "code",
      "execution_count": 19,
      "metadata": {
        "pycharm": {
          "is_executing": false,
          "metadata": false,
          "name": "#%%\n"
        }
      },
      "outputs": [
        {
          "name": "stdout",
          "text": [
            "exact value -2.35191046133532\nnum  value  -2.3500650028722148\n"
          ],
          "output_type": "stream"
        }
      ],
      "source": "fit \u003d Fit(model, minimizer\u003dDifferentialEvolution)\nfit_result \u003d fit.execute()\nprint(\u0027exact value\u0027, sol[2])\nprint(\u0027num  value \u0027, fit_result.value(x))\n"
    },
    {
      "cell_type": "markdown",
      "source": "Using ``DifferentialEvolution``, we find the correct global minimum. However, it is not exactly the same as the analytical solution. This is because ``DifferentialEvolution`` is expensive to perform, and therefore does not solve to high precision by default. We could demand a higher precission from ``DifferentialEvolution``, but this isn\u0027t worth the high computational cost. Instead, we will just tell ``symfit`` to perform ``DifferentialEvolution``, followed by ``BFGS``.\n",
      "metadata": {
        "pycharm": {
          "metadata": false
        }
      }
    },
    {
      "cell_type": "code",
      "execution_count": 20,
      "metadata": {
        "pycharm": {
          "is_executing": false,
          "metadata": false,
          "name": "#%%\n"
        }
      },
      "outputs": [
        {
          "name": "stdout",
          "text": [
            "exact value -2.35191046133532\nnum  value  -2.351910461335324\n"
          ],
          "output_type": "stream"
        }
      ],
      "source": "fit \u003d Fit(model, minimizer\u003d[DifferentialEvolution, BFGS])\nfit_result \u003d fit.execute()\nprint(\u0027exact value\u0027, sol[2])\nprint(\u0027num  value \u0027, fit_result.value(x))"
    },
    {
      "cell_type": "markdown",
      "metadata": {
        "pycharm": {
          "metadata": false,
          "name": "#%% md\n"
        }
      },
      "source": "We see that now the proper solution has been found to much higher precision.\n"
    }
  ],
  "metadata": {
    "kernelspec": {
      "display_name": "Python 3",
      "language": "python",
      "name": "python3"
    },
    "language_info": {
      "codemirror_mode": {
        "name": "ipython",
        "version": 3
      },
      "file_extension": ".py",
      "mimetype": "text/x-python",
      "name": "python",
      "nbconvert_exporter": "python",
      "pygments_lexer": "ipython3",
      "version": "3.7.1"
    },
    "stem_cell": {
      "cell_type": "raw",
      "source": "",
      "metadata": {
        "pycharm": {
          "metadata": false
        }
      }
    }
  },
  "nbformat": 4,
  "nbformat_minor": 1
}