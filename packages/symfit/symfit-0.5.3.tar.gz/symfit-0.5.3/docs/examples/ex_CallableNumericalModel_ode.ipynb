{
 "cells": [
  {
   "cell_type": "markdown",
   "metadata": {},
   "source": [
    "# Example: ODEModels as subproblems using CallableNumericalModel\n",
    "\n",
    "Imagine that you want to use ODE fitting, but your data aren't\n",
    "directly linked to an ODE variable. In this case, you can use the\n",
    "class :class:`symfit.core.models.CallableNumericalModel`.\n",
    "\n",
    "Given are the variables ``x``, ``y`` and ``z``. ``x`` and ``y`` and the parameter ``a`` form an ODE model, where the derivative contains (due to the e-function) ``y``. ``z`` is the result of a function with ``y`` and the additional parameter ``b``. \n",
    "\n",
    "``a`` and ``b`` must be optimized, as shown below. The class uses the given model dictionary and the information about the variable and the parameters to fit the data. "
   ]
  },
  {
   "cell_type": "code",
   "execution_count": 12,
   "metadata": {},
   "outputs": [],
   "source": [
    "from symfit import variables, Parameter, Fit, D, ODEModel, CallableNumericalModel\n",
    "import numpy as np\n",
    "import matplotlib.pyplot as plt\n",
    "\n",
    "# Create data\n",
    "x_data = np.linspace(0.0, 10.0, 1000)\n",
    "a_expected = 0.6\n",
    "b_expected = 10.0\n",
    "z_data = 2 * np.exp(a_expected * x_data) + b_expected\n",
    "\n",
    "# Initialise variables and parameters\n",
    "x, y, z = variables('x, y, z')\n",
    "a = Parameter('a', 0.0)\n",
    "b = Parameter('b', 0.0)\n",
    "\n",
    "# Define model\n",
    "ode_model = ODEModel({D(y, x): a * y}, initial={x: 0.0, y: 1.0})\n",
    "model_dict = {\n",
    "    z: 2 * y + b,\n",
    "    y: lambda x, a: ode_model(x=x, a=a).y,\n",
    "}\n",
    "model = CallableNumericalModel(model_dict, connectivity_mapping={z: {y, b}, y: {x, a}})\n",
    "\n",
    "# Apply model\n",
    "fit = Fit(model, x=x_data, z=z_data)\n",
    "fit_result = fit.execute()"
   ]
  },
  {
   "cell_type": "code",
   "execution_count": 13,
   "metadata": {},
   "outputs": [
    {
     "name": "stdout",
     "output_type": "stream",
     "text": [
      "a = 0.5999999793326405\n"
     ]
    }
   ],
   "source": [
    "print('a =', fit_result.value(a))"
   ]
  },
  {
   "cell_type": "code",
   "execution_count": 14,
   "metadata": {},
   "outputs": [
    {
     "name": "stdout",
     "output_type": "stream",
     "text": [
      "b = 10.000011616374367\n"
     ]
    }
   ],
   "source": [
    "print('b =', fit_result.value(b))"
   ]
  }
 ],
 "metadata": {
  "kernelspec": {
   "display_name": "Python 3",
   "language": "python",
   "name": "python3"
  },
  "language_info": {
   "codemirror_mode": {
    "name": "ipython",
    "version": 3
   },
   "file_extension": ".py",
   "mimetype": "text/x-python",
   "name": "python",
   "nbconvert_exporter": "python",
   "pygments_lexer": "ipython3",
   "version": "3.7.3"
  }
 },
 "nbformat": 4,
 "nbformat_minor": 2
}
