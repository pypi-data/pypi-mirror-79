{
 "cells": [
  {
   "cell_type": "code",
   "execution_count": null,
   "metadata": {
    "collapsed": true
   },
   "outputs": [],
   "source": [
    "from smqtk.utils.plugin import Pluggable, OS_ENV_PATH_SEP\n",
    "from smqtk.web.classifier_service import SmqtkClassifierService\n",
    "\n",
    "import json\n",
    "import os\n",
    "\n",
    "from six.moves import cPickle as pickle\n",
    "\n",
    "# Make available to SMQTK the local dummy implementations.\n",
    "os.environ.update({\n",
    "    Pluggable.PLUGIN_ENV_VAR:\n",
    "        OS_ENV_PATH_SEP.join([\"dummy_classifier\",\n",
    "                              \"dummy_descriptor_generator\"])\n",
    "})"
   ]
  },
  {
   "cell_type": "code",
   "execution_count": null,
   "metadata": {
    "collapsed": false
   },
   "outputs": [],
   "source": [
    "# Craft the configuration for the service.\n",
    "default_config = SmqtkClassifierService.get_default_config()\n",
    "def_conf_json = json.dumps(default_config, sort_keys=True, indent=2)\n",
    "# print(def_conf_json)\n",
    "config = json.loads(def_conf_json)\n",
    "\n",
    "config['classification_factory']['type'] = 'MemoryClassificationElement'\n",
    "del config['classification_factory']['FileClassificationElement']\n",
    "del config['classifier_collection']['__example_label__']\n",
    "config['classifier_collection']['dummy'] = dict(DummyClassifier={}, type='DummyClassifier')\n",
    "config['immutable_labels'] = ['dummy']\n",
    "config['descriptor_factory']['type'] = 'DescriptorMemoryElement'\n",
    "config['descriptor_generator'] = dict(DummyDescriptorGenerator={}, type='DummyDescriptorGenerator')\n",
    "del config['descriptor_factory']['DescriptorFileElement']\n",
    "config['iqr_state_classifier_config']['type'] = 'LibSvmClassifier'\n",
    "\n",
    "config['enable_classifier_removal'] = True\n",
    "\n",
    "print(json.dumps(config, sort_keys=True, indent=2))"
   ]
  },
  {
   "cell_type": "code",
   "execution_count": null,
   "metadata": {
    "collapsed": false
   },
   "outputs": [],
   "source": [
    "# Run the server.  This is a blocking call.\n",
    "SmqtkClassifierService(json_config=config).run()\n",
    "# The ``test_classifier_service_curl.sh`` script may be called now."
   ]
  }
 ],
 "metadata": {
  "anaconda-cloud": {},
  "kernelspec": {
   "display_name": "Python [default]",
   "language": "python",
   "name": "python2"
  },
  "language_info": {
   "codemirror_mode": {
    "name": "ipython",
    "version": 2
   },
   "file_extension": ".py",
   "mimetype": "text/x-python",
   "name": "python",
   "nbconvert_exporter": "python",
   "pygments_lexer": "ipython2",
   "version": "2.7.12"
  },
  "pycharm": {
   "stem_cell": {
    "cell_type": "raw",
    "source": [],
    "metadata": {
     "collapsed": false
    }
   }
  }
 },
 "nbformat": 4,
 "nbformat_minor": 1
}
