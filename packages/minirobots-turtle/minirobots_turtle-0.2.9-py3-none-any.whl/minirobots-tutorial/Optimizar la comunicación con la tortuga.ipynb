{
 "cells": [
  {
   "cell_type": "markdown",
   "metadata": {},
   "source": [
    "# Optimizar la comunicación con la tortuga\n",
    "\n",
    "### *Aprenderemos a enviar a la tortuga todo el programa de una vez*\n",
    "\n",
    "Por defecto, el robot recibe uno a uno los comandos a ejecutar. Es decir, cada vez que llamamos a alguna función del objeto Tortuga, se envía la instrucción correspondiente a la tortuga. Esto se hace usando la red, es decir, se hace una llamada HTTP por cada función, por ejemplo, el siguiente código hace dos llamadas HTTP:"
   ]
  },
  {
   "cell_type": "code",
   "execution_count": null,
   "metadata": {},
   "outputs": [],
   "source": [
    "from minirobots import Turtle\n",
    "\n",
    "turtle = Turtle(\"15354b\")\n",
    "\n",
    "turtle.forward(10) # Primer envío de datos\n",
    "turtle.right(90)   # Segundo envío"
   ]
  },
  {
   "cell_type": "markdown",
   "metadata": {},
   "source": [
    "Este es el comportamiento por defecto y es útil cuando se usa la consola interactiva, ya que permite ver inmediatamente el resultado de cada línea que escribas. Pero existe una forma de mandarle todas las instrucciones en una sola llamada HTTP. La idea es procesar todas las instrucciones y finalmente enviarlas todas juntas a la tortuga.\n",
    "\n",
    "Esto se logra usando los métodos:\n",
    "- `auto_send()`\n",
    "- `send()`\n",
    "\n",
    "El método `auto_send` sin parámetros devuelve el estado actual, es decir, si está activado o no. Veamos que el valor por defecto es `True`:"
   ]
  },
  {
   "cell_type": "code",
   "execution_count": null,
   "metadata": {},
   "outputs": [],
   "source": [
    "turtle.auto_send()"
   ]
  },
  {
   "cell_type": "markdown",
   "metadata": {},
   "source": [
    "También podemos usar este método para cambiar el estado actual:"
   ]
  },
  {
   "cell_type": "code",
   "execution_count": null,
   "metadata": {},
   "outputs": [],
   "source": [
    "turtle.auto_send(False)"
   ]
  },
  {
   "cell_type": "markdown",
   "metadata": {},
   "source": [
    "## Ejemplo completo\n",
    "Veamos el ejemplo anterior haciendo un único envío para los dos comandos:"
   ]
  },
  {
   "cell_type": "code",
   "execution_count": null,
   "metadata": {},
   "outputs": [],
   "source": [
    "turtle.auto_send(False)\n",
    "turtle.forward(10)\n",
    "turtle.right(90)\n",
    "turtle.send()"
   ]
  },
  {
   "cell_type": "markdown",
   "metadata": {},
   "source": [
    "Listo! ahora sólo enviaremos a la tortuga un único mensaje conteniendo todas las instrucciones."
   ]
  },
  {
   "cell_type": "markdown",
   "metadata": {},
   "source": [
    "## Un ejemplo más real\n",
    "\n",
    "El caso anterior realmente no optimiza mucho, en lugar de dos, estamos haciendo un único envío de datos a la tortuga. Veamos cómo optimizar el ejemplo visto anteriormente en [Múltiples tortugas](Múltiples%20tortugas.ipynb)"
   ]
  },
  {
   "cell_type": "code",
   "execution_count": null,
   "metadata": {},
   "outputs": [],
   "source": [
    "from minirobots import Turtle\n",
    "\n",
    "turtles = [Turtle(\"15354b\"), Turtle(\"152d80\")]"
   ]
  },
  {
   "cell_type": "code",
   "execution_count": null,
   "metadata": {},
   "outputs": [],
   "source": [
    "from random import randint\n",
    "\n",
    "def dance(tortuga):\n",
    "    turtle.forward(randint(5, 15))\n",
    "    turtle.right(randint(5, 15))\n",
    "    turtle.backward(randint(5, 15))\n",
    "    turtle.left(randint(5, 15))"
   ]
  },
  {
   "cell_type": "code",
   "execution_count": null,
   "metadata": {},
   "outputs": [],
   "source": [
    "for turtle in turtles:\n",
    "    turtle.auto_send(False)\n",
    "    \n",
    "    # Aquí generamos todas las instrucciones necesarias\n",
    "    for _ in range(20):\n",
    "        turtle.play_random_note()\n",
    "        turtle.random_leds()\n",
    "        dance(turtle)\n",
    "        \n",
    "    # Finalmente se las enviamos a la tortuga\n",
    "    turtle.send()"
   ]
  },
  {
   "cell_type": "markdown",
   "metadata": {},
   "source": [
    "## Avancemos!\n",
    "\n",
    "Próximo capítulo: [Extender la clase Turtle](Extender%20la%20clase%20Turtle.ipynb)"
   ]
  }
 ],
 "metadata": {
  "kernelspec": {
   "display_name": "Python 3.7.4 64-bit ('env': venv)",
   "language": "python",
   "name": "python37464bitenvvenv87dbb8ee0cea43de8d92d60a4e873277"
  },
  "language_info": {
   "codemirror_mode": {
    "name": "ipython",
    "version": 3
   },
   "file_extension": ".py",
   "mimetype": "text/x-python",
   "name": "python",
   "nbconvert_exporter": "python",
   "pygments_lexer": "ipython3",
   "version": "3.7.6"
  }
 },
 "nbformat": 4,
 "nbformat_minor": 4
}
