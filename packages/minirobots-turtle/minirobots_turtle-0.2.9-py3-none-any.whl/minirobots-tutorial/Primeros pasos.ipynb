{
 "cells": [
  {
   "cell_type": "markdown",
   "metadata": {},
   "source": [
    "# Primeros pasos\n",
    "\n",
    "### *Aprenderemos a configurar el robot para comenzar a programarlo*\n",
    "\n",
    "## La clase `Turtle`\n",
    "\n",
    "Para comunicarnos con el robot tortuga tendremos que crear un objeto de tipo `Turtle`. Es a través de él, y más precisamente de sus métodos, que crearemos y enviemos el programa al robot.\n",
    "\n",
    "Para comenzar a utilizar la clase tenemos que primero importarla, la forma en Python es:"
   ]
  },
  {
   "cell_type": "code",
   "execution_count": null,
   "metadata": {},
   "outputs": [],
   "source": [
    "from minirobots import Turtle"
   ]
  },
  {
   "cell_type": "markdown",
   "metadata": {},
   "source": [
    "Esto se puede traducir como: <i>\"desde el módulo minirobots importar la clase Turtle\"</i>.\n",
    "\n",
    "Una vez importada la clase podemos ver su documentación mediante la función `help()`, que es parte del lenguaje Python. Para obtener la documentación completa de la clase `Turtle` hacemos:"
   ]
  },
  {
   "cell_type": "code",
   "execution_count": null,
   "metadata": {
    "scrolled": true
   },
   "outputs": [],
   "source": [
    "help(Turtle)"
   ]
  },
  {
   "cell_type": "markdown",
   "metadata": {},
   "source": [
    "Además de la documentación completa podemos acceder a la documentación específica de alguno de sus métodos:"
   ]
  },
  {
   "cell_type": "code",
   "execution_count": null,
   "metadata": {},
   "outputs": [],
   "source": [
    "help(Turtle.forward)"
   ]
  },
  {
   "cell_type": "markdown",
   "metadata": {},
   "source": [
    "La documentación del módulo `Turtle` estará disponible durante todo el tutorial, así que vale la pena tener presente el comando `help()` para cuando lo necesitemos. La ayuda en línea es una de las grandes virtudes de Python :)"
   ]
  },
  {
   "cell_type": "markdown",
   "metadata": {},
   "source": [
    "### Crear el objeto tortuga\n",
    "\n",
    "La clase `Turtle` nos permite crear el objeto que finalmente usaremos para programar el robot. Veamos cómo crearlo, para ello invocamos a la clase pasándole como único argumento el código del robot. El código del robot se encuentra bajo él, al lado de la rueda loca, y se trata de un número hexadecimal de 6 dígitos. En este tutorial supondremos que es `15354b`, pero deberías cambiar este valor por el código del robot que estés usando."
   ]
  },
  {
   "cell_type": "code",
   "execution_count": null,
   "metadata": {
    "scrolled": true
   },
   "outputs": [],
   "source": [
    "turtle = Turtle(\"15354b\")"
   ]
  },
  {
   "cell_type": "markdown",
   "metadata": {},
   "source": [
    "El código sirve para identificar al robot y así saber cuál es su IP. Esto lo sabemos porque cada vez que el robot se enciende, se registra en https://api.minirobots.com.ar enviando su IP privada. Saber su IP es necesario para comunicarnos con él y enviarle el programa.\n",
    "\n",
    "Una propiedad de los objetos de la clase `Turtle` es su `ip`, la cual podemos conocer haciendo:"
   ]
  },
  {
   "cell_type": "code",
   "execution_count": null,
   "metadata": {
    "scrolled": false
   },
   "outputs": [],
   "source": [
    "turtle.ip"
   ]
  },
  {
   "cell_type": "raw",
   "metadata": {},
   "source": [
    "También podemos ver cuándo fue la última vez que el robot registró su IP, es decir, qué tan antiguo es este registro. Si es de unos pocos minutos muy probablemente sea la IP correcta y podamos comunicarnos con él."
   ]
  },
  {
   "cell_type": "code",
   "execution_count": null,
   "metadata": {},
   "outputs": [],
   "source": [
    "turtle.ip_age"
   ]
  },
  {
   "cell_type": "markdown",
   "metadata": {},
   "source": [
    "El momento en que se hizo el último registro es importante porque puede servir para detectar problemas.\n",
    "\n",
    "\n",
    "Para comprobar que podemos comunicarnos con él podemos usar algunos de sus métodos `info()` y `status()`, que consultan al robot y devuelven información sobre él."
   ]
  },
  {
   "cell_type": "code",
   "execution_count": null,
   "metadata": {},
   "outputs": [],
   "source": [
    "turtle.info()"
   ]
  },
  {
   "cell_type": "code",
   "execution_count": null,
   "metadata": {},
   "outputs": [],
   "source": [
    "turtle.status()"
   ]
  },
  {
   "cell_type": "markdown",
   "metadata": {},
   "source": [
    "Cualquiera de estos mensajes comprueba que podemos comunicarnos exitosamente con el robot. Más adelante veremos qué significan los mismos, por ahora lo que nos interesa es que tenemos todo listo para empezar a programar la tortuga :)"
   ]
  },
  {
   "cell_type": "markdown",
   "metadata": {},
   "source": [
    "## A practicar!\n",
    "\n",
    "¿Cómo obtenemos la ayuda correspondiente para los métodos `info` y `status`?"
   ]
  },
  {
   "cell_type": "code",
   "execution_count": null,
   "metadata": {},
   "outputs": [],
   "source": []
  },
  {
   "cell_type": "markdown",
   "metadata": {},
   "source": [
    "## Avancemos!\n",
    "\n",
    "Próximo capítulo: [Desplazamiento de la tortuga](Desplazamiento%20de%20la%20tortuga.ipynb)"
   ]
  }
 ],
 "metadata": {
  "kernelspec": {
   "display_name": "Python 3.7.4 64-bit ('env': venv)",
   "language": "python",
   "name": "python37464bitenvvenv87dbb8ee0cea43de8d92d60a4e873277"
  },
  "language_info": {
   "codemirror_mode": {
    "name": "ipython",
    "version": 3
   },
   "file_extension": ".py",
   "mimetype": "text/x-python",
   "name": "python",
   "nbconvert_exporter": "python",
   "pygments_lexer": "ipython3",
   "version": "3.7.6"
  }
 },
 "nbformat": 4,
 "nbformat_minor": 2
}
