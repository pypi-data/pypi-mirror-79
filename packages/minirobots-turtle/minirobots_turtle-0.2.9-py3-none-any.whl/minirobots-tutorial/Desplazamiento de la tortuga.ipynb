{
 "cells": [
  {
   "cell_type": "markdown",
   "metadata": {},
   "source": [
    "# Desplazamiento de la tortuga\n",
    "\n",
    "### *Aprenderemos los comandos básicos para hacer mover al robot*\n",
    "\n",
    "El robot tortuga puede hacer lo siguiente:\n",
    "\n",
    "- **Moverse hacia adelante o hacia atrás**\n",
    "- **Girar a la derecha o a la izquierda**\n",
    "- Subir o bajar el lápiz\n",
    "- Encender o apagar los leds\n",
    "- Reproducir sonidos\n",
    "\n",
    "En este capítulo aprenderemos los 4 comandos necesarios para hacer que la tortuga se desplace, y ellos son:\n",
    "\n",
    "- `forward`\n",
    "- `backward`\n",
    "- `right`\n",
    "- `left`\n",
    "\n",
    "Cualquiera de estas acciones las podemos realizar mediante el objeto tortuga creado anteriormente. Vamos a repasar nuevamente el código mínimo para crearlo:"
   ]
  },
  {
   "cell_type": "code",
   "execution_count": null,
   "metadata": {},
   "outputs": [],
   "source": [
    "from minirobots import Turtle\n",
    "\n",
    "turtle = Turtle(\"15354b\")"
   ]
  },
  {
   "cell_type": "markdown",
   "metadata": {},
   "source": [
    "Estas son las dos líneas de código necesarias para crear el objeto tortuga. Recordemos que tenemos que reemplazar el código del robot por el que estemos usando."
   ]
  },
  {
   "cell_type": "markdown",
   "metadata": {},
   "source": [
    "## Adelante y atrás\n",
    "\n",
    "Empecemos entonces por los comandos para hacer mover el robot hacia adelante y hacia atrás."
   ]
  },
  {
   "cell_type": "code",
   "execution_count": null,
   "metadata": {
    "scrolled": true
   },
   "outputs": [],
   "source": [
    "turtle.forward(100)\n",
    "turtle.backward(50)"
   ]
  },
  {
   "cell_type": "markdown",
   "metadata": {},
   "source": [
    "![](canvas_inicio.png) ![](canvas_adelante_atras.png)\n",
    "<p class=\"epigrafe\">Imagen de la izquierda: Tortuga en posición inicial. A la derecha: Tortuga luego de adelante-atras</p>\n",
    "\n",
    "Ambos comandos reciben la distancia en milímetros que se tiene que desplazar el robot. Así que lo que hicimos fue mover la tortuga `10cm` hacia adelante e inmediatamente, `5cm` hacia atrás."
   ]
  },
  {
   "cell_type": "markdown",
   "metadata": {},
   "source": [
    "## Derecha e izquierda\n",
    "\n",
    "Los comandos para hacer girar al robot son:"
   ]
  },
  {
   "cell_type": "code",
   "execution_count": null,
   "metadata": {
    "scrolled": true
   },
   "outputs": [],
   "source": [
    "turtle.right(90)\n",
    "turtle.left(45)"
   ]
  },
  {
   "cell_type": "markdown",
   "metadata": {},
   "source": [
    "Estos dos comandos, o más precisamente métodos del objeto tortuga, reciben el ángulo en grados. Así que lo que hicimos fue girar al robot `90°` hacia la derecha y luego `45°` hacia la izquierda.\n",
    "\n",
    "## Dibujando polígonos\n",
    "\n",
    "Con estos 4 comandos estamos en condiciones de hacer dibujos!\n",
    "\n",
    "### Triángulo equilátero\n",
    "\n",
    "Arranquemos por un [triángulo equilátero](https://es.wikipedia.org/wiki/Tri%C3%A1ngulo_equil%C3%A1tero) que tiene todos sus lados iguales:"
   ]
  },
  {
   "cell_type": "code",
   "execution_count": null,
   "metadata": {
    "scrolled": false
   },
   "outputs": [],
   "source": [
    "turtle.forward(100)\n",
    "turtle.right(120)\n",
    "turtle.forward(100)\n",
    "turtle.right(120)\n",
    "turtle.forward(100)\n",
    "turtle.right(120)"
   ]
  },
  {
   "cell_type": "markdown",
   "metadata": {},
   "source": [
    "![](canvas_triangulo.png)\n",
    "\n",
    "Felicitaciones! hemos dibujado nuestra primera figura geométrica!"
   ]
  },
  {
   "cell_type": "markdown",
   "metadata": {},
   "source": [
    "### Cuadrado\n",
    "\n",
    "Cómo haríamos un cuadrado?"
   ]
  },
  {
   "cell_type": "code",
   "execution_count": null,
   "metadata": {},
   "outputs": [],
   "source": [
    "turtle.forward(100)\n",
    "turtle.right(90)\n",
    "turtle.forward(100)\n",
    "turtle.right(90)\n",
    "turtle.forward(100)\n",
    "turtle.right(90)\n",
    "turtle.forward(100)\n",
    "turtle.right(90)"
   ]
  },
  {
   "cell_type": "markdown",
   "metadata": {},
   "source": [
    "![](canvas_cuadrado.png)\n",
    "\n",
    "Bien! esto funciona, pero notemos que necesitamos 6 líneas para dibujar un triángulo y 8 para un cuadrado... si necesitamos dos líneas por lado, para dibujar, por ejemplo, un [octógono](https://es.wikipedia.org/wiki/Oct%C3%B3gono) (8 lados) necesitaríamos 16 líneas, y para un [isodecágono](https://es.wikipedia.org/wiki/Isodec%C3%A1gono) (20 lados) necesitaríamos 40 líneas!\n",
    "\n",
    "Tiene que haber un modo más corto. Y lo hay!"
   ]
  },
  {
   "cell_type": "markdown",
   "metadata": {},
   "source": [
    "## Bucles\n",
    "\n",
    "Podemos hacer uso de un bucle, que en programación es una estructura que permite repetir un bloque de código. La forma de hacer repetir un bloque de código en Python es mediante la sentencia `for`. Veamos el siguiente ejemplo donde imprimimos los números del 0 al 9:"
   ]
  },
  {
   "cell_type": "code",
   "execution_count": null,
   "metadata": {},
   "outputs": [],
   "source": [
    "for i in range(10):\n",
    "    print(i)"
   ]
  },
  {
   "cell_type": "markdown",
   "metadata": {},
   "source": [
    "Varias cosas para ver aquí:\n",
    "\n",
    "`range(n)` es una función de Python que genera rangos numéricos, entre `0` y `n-1` (aunque puede generar otros rangos también, pero esta es la forma más usada). Veamos unos ejemplos:\n",
    "\n",
    "```python\n",
    "range(100) # genera números del 0 al 99\n",
    "range(50)  # 0 al 49\n",
    "range(9)   # 0 al 8\n",
    "range(4)   # 0 al 3\n",
    "```\n",
    "\n",
    "Lo importante de esto es que el \"`n`\" en `range(n)`, indica la cantidad de veces que queremos que algo se repita.\n",
    "\n",
    "Si leemos nuevamente el `for`, podemos ver que en cada repetición guardamos en `i` el siguiente número generado por `range()`.\n",
    "\n",
    "Si no nos interesa usar el valor devuelto por `range()`, es decir, no vamos a hacer nada con `i`, sino que simplemente queremos repetir algo una cierta cantidad de veces, usamos `_` como nombre de variable:"
   ]
  },
  {
   "cell_type": "code",
   "execution_count": null,
   "metadata": {},
   "outputs": [],
   "source": [
    "for _ in range(4):\n",
    "    print(\"Hola\")"
   ]
  },
  {
   "cell_type": "markdown",
   "metadata": {},
   "source": [
    "Se considera una buena práctica usar `_` cuando no necesitamos el valor devuelto por `range()`.\n",
    "\n",
    "Sabiendo esto estamos en condiciones de dibujar un cuadrado:"
   ]
  },
  {
   "cell_type": "code",
   "execution_count": null,
   "metadata": {},
   "outputs": [],
   "source": [
    "for _ in range(4):\n",
    "    turtle.forward(100)\n",
    "    turtle.right(90)"
   ]
  },
  {
   "cell_type": "markdown",
   "metadata": {},
   "source": [
    "Este es todo el código que necesitamos para realizar cualquier polígono regular. Simplemente debemos cambiar la cantidad de repeticiones de acuerdo a la cantidad de lados, y el ángulo de giro, también de acuerdo a la cantidad de lados. Por ejemplo, un octógono sería así:"
   ]
  },
  {
   "cell_type": "code",
   "execution_count": null,
   "metadata": {},
   "outputs": [],
   "source": [
    "for _ in range(8):\n",
    "    turtle.forward(50)\n",
    "    turtle.right(45)"
   ]
  },
  {
   "cell_type": "markdown",
   "metadata": {},
   "source": [
    "![](canvas_octogono.png)"
   ]
  },
  {
   "cell_type": "markdown",
   "metadata": {},
   "source": [
    "## Funciones\n",
    "\n",
    "Podemos hacer un bloque de código más genérico que el bucle anterior, podemos crear una función `polygon`, que dibuje cualquier polígono regular que se nos ocurra:"
   ]
  },
  {
   "cell_type": "code",
   "execution_count": null,
   "metadata": {},
   "outputs": [],
   "source": [
    "def polygon(sides, side_length):\n",
    "    for _ in range(sides):\n",
    "        turtle.forward(side_length)\n",
    "        turtle.right(360 / sides)"
   ]
  },
  {
   "cell_type": "markdown",
   "metadata": {},
   "source": [
    "Esto nos brinda la flexibilidad necesaria para dibujar cualquier polígono regular:"
   ]
  },
  {
   "cell_type": "code",
   "execution_count": null,
   "metadata": {},
   "outputs": [],
   "source": [
    "polygon(8, 50) # un pentágono"
   ]
  },
  {
   "cell_type": "markdown",
   "metadata": {},
   "source": [
    "![](canvas_pentagono.png)\n",
    "\n",
    "Esta función es reutilizable, podemos volver a usarla todas las veces que la necesitemos. Hagamos ahora un hexágono: "
   ]
  },
  {
   "cell_type": "code",
   "execution_count": null,
   "metadata": {},
   "outputs": [],
   "source": [
    "polygon(sides=6, side_length=50)"
   ]
  },
  {
   "cell_type": "markdown",
   "metadata": {},
   "source": [
    "![](canvas_hexagono.png)"
   ]
  },
  {
   "cell_type": "markdown",
   "metadata": {},
   "source": [
    "## A practicar!\n",
    "\n",
    "¿Y qué hay de los círculos? Podemos verlos como polígonos de muchos lados :) Practicá abajo usando la función `polygon` y dibujá un círculo:"
   ]
  },
  {
   "cell_type": "code",
   "execution_count": null,
   "metadata": {},
   "outputs": [],
   "source": []
  },
  {
   "cell_type": "markdown",
   "metadata": {},
   "source": [
    "## Avancemos!\n",
    "\n",
    "Próximo capítulo: [Subir y bajar el lápiz](Subir%20y%20bajar%20el%20lápiz.ipynb)"
   ]
  }
 ],
 "metadata": {
  "kernelspec": {
   "display_name": "Python 3.7.4 64-bit ('env': venv)",
   "language": "python",
   "name": "python37464bitenvvenv87dbb8ee0cea43de8d92d60a4e873277"
  },
  "language_info": {
   "codemirror_mode": {
    "name": "ipython",
    "version": 3
   },
   "file_extension": ".py",
   "mimetype": "text/x-python",
   "name": "python",
   "nbconvert_exporter": "python",
   "pygments_lexer": "ipython3",
   "version": "3.7.6"
  }
 },
 "nbformat": 4,
 "nbformat_minor": 2
}
