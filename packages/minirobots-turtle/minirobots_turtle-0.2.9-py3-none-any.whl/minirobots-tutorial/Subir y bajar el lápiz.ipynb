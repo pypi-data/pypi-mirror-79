{
 "cells": [
  {
   "cell_type": "markdown",
   "metadata": {},
   "source": [
    "# Subir y bajar el lápiz\n",
    "\n",
    "### *Aprenderemos a desplazarnos sin dibujar y hacer dibujos más complejos*\n",
    "\n",
    "El robot tortuga puede hacer lo siguiente:\n",
    "\n",
    "- Moverse hacia adelante o hacia atrás\n",
    "- Girar a la derecha o a la izquierda\n",
    "- **Subir o bajar el lápiz**\n",
    "- Encender o apagar los leds\n",
    "- Reproducir sonidos\n",
    "\n",
    "En este capítulo aprenderemos las dos funciones necesarias para controlar el lápiz de la tortuga:\n",
    "\n",
    "- `pen_up`\n",
    "- `pen_down`\n",
    "\n",
    "Cualquiera de estas acciones las podemos realizar mediante el objeto tortuga. Creemos uno:"
   ]
  },
  {
   "cell_type": "code",
   "execution_count": null,
   "metadata": {},
   "outputs": [],
   "source": [
    "from minirobots import Turtle\n",
    "\n",
    "turtle = Turtle(\"15354b\")"
   ]
  },
  {
   "cell_type": "markdown",
   "metadata": {},
   "source": [
    "Recordemos reemplazar el código del robot por el que estemos usando :)"
   ]
  },
  {
   "cell_type": "markdown",
   "metadata": {},
   "source": [
    "## Dibujar o no dibujar\n",
    "\n",
    "Al encender el robot, el lápiz se encuentra en posición para dibujar, es decir **abajo**. Esto nos permite colocar el marcador correctamente sabiendo que hace contacto con la superficie sobre la que dibujaremos. Para subir el lápiz y evitar que el marcador \"dibuje\" hacemos:"
   ]
  },
  {
   "cell_type": "code",
   "execution_count": null,
   "metadata": {},
   "outputs": [],
   "source": [
    "turtle.pen_up()"
   ]
  },
  {
   "cell_type": "markdown",
   "metadata": {},
   "source": [
    "Ahora podemos desplazarnos sin dibujar"
   ]
  },
  {
   "cell_type": "code",
   "execution_count": null,
   "metadata": {},
   "outputs": [],
   "source": [
    "turtle.forward(100)"
   ]
  },
  {
   "cell_type": "markdown",
   "metadata": {},
   "source": [
    "Finalmente, si queremos hacer un dibujo basta con bajar el lápiz nuevamente"
   ]
  },
  {
   "cell_type": "code",
   "execution_count": null,
   "metadata": {},
   "outputs": [],
   "source": [
    "turtle.pen_down()"
   ]
  },
  {
   "cell_type": "markdown",
   "metadata": {},
   "source": [
    "## Líneas punteadas\n",
    "\n",
    "Ahora que sabemos desplazarnos sin dibujar podríamos dibujar una línea punteada!\n",
    "Veamos un ejemplo sencillo"
   ]
  },
  {
   "cell_type": "code",
   "execution_count": null,
   "metadata": {},
   "outputs": [],
   "source": [
    "for _ in range(5):\n",
    "    turtle.forward(15)\n",
    "    turtle.pen_up()\n",
    "    turtle.forward(15)\n",
    "    turtle.pen_down()"
   ]
  },
  {
   "cell_type": "markdown",
   "metadata": {},
   "source": [
    "![](canvas_linea_punteada.png)\n",
    "\n",
    "Perfecto! Qué tal si ponemos este código en una función y la usamos para dibujar un polígono?"
   ]
  },
  {
   "cell_type": "code",
   "execution_count": null,
   "metadata": {},
   "outputs": [],
   "source": [
    "def dotted_line():\n",
    "    for _ in range(5):\n",
    "        turtle.forward(15)\n",
    "        turtle.pen_up()\n",
    "        turtle.forward(15)\n",
    "        turtle.pen_down()\n",
    "        \n",
    "def polygon(sides):\n",
    "    for _ in range(sides):\n",
    "        dotted_line()\n",
    "        turtle.right(360 / sides)\n",
    "\n",
    "polygon(3)"
   ]
  },
  {
   "cell_type": "markdown",
   "metadata": {},
   "source": [
    "![](canvas_triangulo_lineas_punteadas.png)\n",
    "\n",
    "Genial!"
   ]
  },
  {
   "cell_type": "markdown",
   "metadata": {},
   "source": [
    "## A practicar!\n",
    "\n",
    "Cómo cambiarías el código anterior para permitir definir el largo de cada lado?"
   ]
  },
  {
   "cell_type": "code",
   "execution_count": null,
   "metadata": {},
   "outputs": [],
   "source": []
  },
  {
   "cell_type": "markdown",
   "metadata": {},
   "source": [
    "## Puntos al azar\n",
    "\n",
    "Vamos a dibujar un cielo estrellado? El procedimiento básico sería:\n",
    "1. Movernos aleatoriamente sin dibujar.\n",
    "2. Bajar el lápiz para marcar un punto que representará nuestra estrella.\n",
    "\n",
    "Luego repetiremos este procedimiento varias veces para generar el efecto de un cielo con estrellas!\n",
    "\n",
    "Pero definamos primero qué es moverse aleatoriamente:\n",
    "- Girar al azar\n",
    "- Desplazarnos al azar\n",
    "\n",
    "Tanto para girar como para desplazarnos tenemos dos funciones:\n",
    "- `right` y `left` para girar\n",
    "- `forward` y `backward` para desplazarnos\n",
    "\n",
    "Para hacerlo fácil elegiremos una de cada, por ejemplo `right` para girar y `forward` para desplazarnos.\n",
    "\n",
    "Bien, sólo nos falta saber cómo generar al azar los valores que le pasaremos a cada función. Python tiene una función para ello!\n"
   ]
  },
  {
   "cell_type": "code",
   "execution_count": null,
   "metadata": {},
   "outputs": [],
   "source": [
    "from random import randint\n",
    "\n",
    "for _ in range(5):\n",
    "    print(randint(0, 10))"
   ]
  },
  {
   "cell_type": "markdown",
   "metadata": {},
   "source": [
    "La función `randint` genera enteros al azar entre `n` y `m`, en este caso entre `0` y `10`. Así que con esto podemos ya crear nuestra función `random_move`:"
   ]
  },
  {
   "cell_type": "code",
   "execution_count": null,
   "metadata": {},
   "outputs": [],
   "source": [
    "from random import randint\n",
    "\n",
    "def random_move():\n",
    "    turtle.right(randint(0, 359))\n",
    "    turtle.forward(randint(5, 50))"
   ]
  },
  {
   "cell_type": "markdown",
   "metadata": {},
   "source": [
    "Bien! ahora sólo nos queda crear la función `stars` (o como quieras llamarla)"
   ]
  },
  {
   "cell_type": "code",
   "execution_count": null,
   "metadata": {},
   "outputs": [],
   "source": [
    "def stars(n=20):\n",
    "    for _ in range(n):\n",
    "        turtle.pen_up()\n",
    "        random_move()\n",
    "        turtle.pen_down()"
   ]
  },
  {
   "cell_type": "markdown",
   "metadata": {},
   "source": [
    "Finalmente ejecutamos nuestra función, que por defecto dibujará 20 estrellas, pero podemos decirle que dibuje las que querramos!"
   ]
  },
  {
   "cell_type": "code",
   "execution_count": null,
   "metadata": {},
   "outputs": [],
   "source": [
    "stars(30)"
   ]
  },
  {
   "cell_type": "markdown",
   "metadata": {},
   "source": [
    "![](canvas_estrellas_al_azar.png)\n",
    "\n",
    "<p class=\"epigrafe\">Posible dibujo hecho por la tortuga</p>"
   ]
  },
  {
   "cell_type": "markdown",
   "metadata": {},
   "source": [
    "## A practicar!\n",
    "\n",
    "¿Cómo harías para dibujar una cantidad al azar de estrellas?"
   ]
  },
  {
   "cell_type": "code",
   "execution_count": null,
   "metadata": {},
   "outputs": [],
   "source": []
  },
  {
   "cell_type": "markdown",
   "metadata": {},
   "source": [
    "## Avancemos!\n",
    "\n",
    "Próximo capítulo: [Jugar con los leds](Jugar%20con%20los%20leds.ipynb)"
   ]
  }
 ],
 "metadata": {
  "kernelspec": {
   "display_name": "Python 3.7.4 64-bit ('env': venv)",
   "language": "python",
   "name": "python37464bitenvvenv87dbb8ee0cea43de8d92d60a4e873277"
  },
  "language_info": {
   "codemirror_mode": {
    "name": "ipython",
    "version": 3
   },
   "file_extension": ".py",
   "mimetype": "text/x-python",
   "name": "python",
   "nbconvert_exporter": "python",
   "pygments_lexer": "ipython3",
   "version": "3.7.6"
  }
 },
 "nbformat": 4,
 "nbformat_minor": 4
}
