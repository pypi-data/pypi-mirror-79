{
 "cells": [
  {
   "cell_type": "markdown",
   "metadata": {},
   "source": [
    "# Bienvenido al tutorial interactivo de Minirobots\n",
    "\n",
    "### Desde aquí aprenderemos a programar el robot tortuga en tiempo real usando Python\n",
    "\n",
    "Indice\n",
    "\n",
    "1. [Primeros pasos](Primeros%20pasos.ipynb)\n",
    "2. [Desplazamiento de la tortuga](Desplazamiento%20de%20la%20tortuga.ipynb)\n",
    "3. [Subir y bajar el lápiz](Subir%20y%20bajar%20el%20lápiz.ipynb)\n",
    "4. [Jugar con los leds](Jugar%20con%20los%20leds.ipynb)\n",
    "5. [Tocar notas y hacer melodías](Tocar%20notas%20y%20hacer%20melodías.ipynb)\n",
    "6. [Múltiples tortugas](Múltiples%20tortugas.ipynb)\n",
    "7. [Optimizar la comunicación con la tortuga](Optimizar%20la%20comunicación%20con%20la%20tortuga.ipynb)\n",
    "8. [Extender la clase Turtle](Extender%20la%20clase%20Turtle.ipynb)\n",
    "9. [Detener la tortuga](Detener%20la%20tortuga.ipynb)\n",
    "\n",
    "<!--\n",
    "7. [Ejemplos](Ejemplos.ipynb)\n",
    "    1. [Ejemplo 1](Ejemplo%201.ipynb)\n",
    "-->"
   ]
  }
 ],
 "metadata": {
  "kernelspec": {
   "display_name": "Python 3",
   "language": "python",
   "name": "python3"
  },
  "language_info": {
   "codemirror_mode": {
    "name": "ipython",
    "version": 3
   },
   "file_extension": ".py",
   "mimetype": "text/x-python",
   "name": "python",
   "nbconvert_exporter": "python",
   "pygments_lexer": "ipython3",
   "version": "3.7.6"
  }
 },
 "nbformat": 4,
 "nbformat_minor": 4
}
