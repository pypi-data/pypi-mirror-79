{
 "cells": [
  {
   "cell_type": "markdown",
   "metadata": {},
   "source": [
    "# Jugar con los leds\n",
    "\n",
    "### *Aprenderemos a encender y apagar los leds de la tortuga*\n",
    "\n",
    "El robot tortuga puede hacer lo siguiente:\n",
    "\n",
    "- Moverse hacia adelante o hacia atrás\n",
    "- Girar a la derecha o a la izquierda\n",
    "- Subir o bajar el lápiz\n",
    "- **Encender o apagar los leds**\n",
    "- Reproducir sonidos\n",
    "\n",
    "En este capítulo aprenderemos a usar varias funciones que nos ayudarán a controlar los leds de la tortuga:\n",
    "\n",
    "- `leds`\n",
    "- `random_leds`\n",
    "- `random_led_right`\n",
    "- `random_led_left`\n",
    "- `turn_off_leds`\n",
    "\n",
    "Cualquiera de estas acciones las podemos realizar mediante el objeto tortuga. Creemos uno:"
   ]
  },
  {
   "cell_type": "code",
   "execution_count": null,
   "metadata": {},
   "outputs": [],
   "source": [
    "from minirobots import Turtle\n",
    "\n",
    "turtle = Turtle(\"15354b\")"
   ]
  },
  {
   "cell_type": "markdown",
   "metadata": {},
   "source": [
    "La tortuga posee dos leds [RGB](https://es.wikipedia.org/wiki/RGB), es decir, que pueden generar muchísimos colores diferentes.\n",
    "\n",
    "La función más sencilla para usarlos es `random_leds`. Como podrás imaginar, enciende ambos leds en un color al azar:"
   ]
  },
  {
   "cell_type": "code",
   "execution_count": null,
   "metadata": {},
   "outputs": [],
   "source": [
    "turtle.random_leds()"
   ]
  },
  {
   "cell_type": "markdown",
   "metadata": {},
   "source": [
    "Como habrás observado, esta función también devuelve los valores RGB aleatoriamente generados.\n",
    "\n",
    "Probá ejecutando varias veces la función de arriba para ver distintos colores!"
   ]
  },
  {
   "cell_type": "markdown",
   "metadata": {},
   "source": [
    "## Bucle de colores!\n",
    "\n",
    "Podemos usar el poder de Python para mostrar un color al azar cada, digamos, un segundo?\n",
    "\n",
    "Claro que podemos!\n",
    "\n",
    "Podemos usar un bucle `for` como los que venimos usando, sólamente necesitamos alguna forma de \"esperar\" entre color y color.\n",
    "\n",
    "Python posee una función para eso:"
   ]
  },
  {
   "cell_type": "code",
   "execution_count": null,
   "metadata": {},
   "outputs": [],
   "source": [
    "from time import sleep"
   ]
  },
  {
   "cell_type": "markdown",
   "metadata": {},
   "source": [
    "`sleep` es una función que detiene la ejecución del programa tantos segundos como le indiquemos. Veamos el código final:"
   ]
  },
  {
   "cell_type": "code",
   "execution_count": null,
   "metadata": {},
   "outputs": [],
   "source": [
    "from time import sleep\n",
    "\n",
    "for _ in range(20):\n",
    "    turtle.random_leds()\n",
    "    sleep(1)"
   ]
  },
  {
   "cell_type": "markdown",
   "metadata": {},
   "source": [
    "## Apagar los leds\n",
    "\n",
    "Por supuesto también podemos apagarlos por completo!"
   ]
  },
  {
   "cell_type": "code",
   "execution_count": null,
   "metadata": {},
   "outputs": [],
   "source": [
    "turtle.turn_off_leds()"
   ]
  },
  {
   "cell_type": "markdown",
   "metadata": {},
   "source": [
    "## Leds independientes\n",
    "\n",
    "Podemos manejar cada led por separado, no es necesario que ambos estén encendidos ni que ambos estén mostrando el mismo color!\n",
    "\n",
    "Reutilicemos el bucle de arriba y encendamos cada led por separado cada 1 segundo:"
   ]
  },
  {
   "cell_type": "code",
   "execution_count": null,
   "metadata": {},
   "outputs": [],
   "source": [
    "from time import sleep\n",
    "\n",
    "for _ in range(20):\n",
    "    turtle.random_led_right()\n",
    "    turtle.random_led_left()\n",
    "    sleep(1)"
   ]
  },
  {
   "cell_type": "markdown",
   "metadata": {},
   "source": [
    "## Control avanzado\n",
    "\n",
    "Hasta aquí utilizamos funciones que generan el color en forma aleatoria, pero existe una función que te permite definir exactamente el color utilizando los valores de RGB (rojo, verde y azul). Esa función es `led`. Veamos cómo usarla aprovechando la función `help` de Python:"
   ]
  },
  {
   "cell_type": "code",
   "execution_count": null,
   "metadata": {},
   "outputs": [],
   "source": [
    "help(Turtle.leds)"
   ]
  },
  {
   "cell_type": "markdown",
   "metadata": {},
   "source": [
    "Como ves, la función recibe 4 argumentos.\n",
    "\n",
    "Los tres primeros (`red`, `green` y `blue`) son respectivamente los valores para los colores `rojo`, `verde` y `azul`.\n",
    "\n",
    "Finalmente el cuarto parámetro (`led`) es opcional y lo podemos usar para seleccionar el led a utilizar (`0:left, 1:right, 2:both`). Por defecto la función actúa sobre ambos leds.\n",
    "\n",
    "Los valores válidos para `red`, `green` y `blue` están en el rango de `0 - 255`, siendo `0` el valor que indica *apagado* y `255` el valor máximo de intensidad.\n",
    "\n",
    "Probemos cada uno por separado:"
   ]
  },
  {
   "cell_type": "code",
   "execution_count": null,
   "metadata": {},
   "outputs": [],
   "source": [
    "# Prendemos ambos leds en rojo\n",
    "turtle.leds(255, 0, 0)"
   ]
  },
  {
   "cell_type": "code",
   "execution_count": null,
   "metadata": {},
   "outputs": [],
   "source": [
    "# Ambos leds en verde\n",
    "turtle.leds(0, 255, 0)"
   ]
  },
  {
   "cell_type": "code",
   "execution_count": null,
   "metadata": {},
   "outputs": [],
   "source": [
    "# Ambos leds en azul\n",
    "turtle.leds(0, 0, 255)"
   ]
  },
  {
   "cell_type": "markdown",
   "metadata": {},
   "source": [
    "Jugá un rato probando distintos valores para cada uno de los componentes RGB!\n",
    "\n",
    "Algo interesante es que podemos apagar los leds usando también esta función, ya que el valor de apagado para los leds es `0, 0, 0`:"
   ]
  },
  {
   "cell_type": "code",
   "execution_count": null,
   "metadata": {},
   "outputs": [],
   "source": [
    "# Apagar ambos leds\n",
    "turtle.leds(0, 0, 0)"
   ]
  },
  {
   "cell_type": "markdown",
   "metadata": {},
   "source": [
    "Por otro lado, si ponemos todos los componentes en su máximo valor obtenemos el color blanco:"
   ]
  },
  {
   "cell_type": "code",
   "execution_count": null,
   "metadata": {},
   "outputs": [],
   "source": [
    "# Color blanco\n",
    "turtle.leds(255, 255, 255)"
   ]
  },
  {
   "cell_type": "markdown",
   "metadata": {},
   "source": [
    "La combinación de los distintos valores de RGB permiten generar más de 16 millones de colores!"
   ]
  },
  {
   "cell_type": "markdown",
   "metadata": {},
   "source": [
    "## Dimmer de colores\n",
    "\n",
    "Vamos a hacer un sencillo [dimmer](https://es.wikipedia.org/wiki/Atenuador_de_luz) con cada uno de los colores RGB, para ello vamos a generar valores entre 0 y 255 para cada uno usando la función `range` de Python, veamos cómo funciona:"
   ]
  },
  {
   "cell_type": "code",
   "execution_count": null,
   "metadata": {},
   "outputs": [],
   "source": [
    "for i in range(0, 255, 10):\n",
    "    print(i, end=\" \")"
   ]
  },
  {
   "cell_type": "markdown",
   "metadata": {},
   "source": [
    "`range` puede recibir tres parámetros: inicio, fin y paso. Lo que devuelve es un generador de números, en este caso, desde el 0 al 255, saltando de 10 en 10.\n",
    "\n",
    "En la función `print` usamos el parámetro opcional `end` para decirle que no imprima un salto de línea en cada llamada, sino un espacio.\n",
    "\n",
    "Ahora que sabemos esto podemos programar nuestro dimmer:"
   ]
  },
  {
   "cell_type": "code",
   "execution_count": null,
   "metadata": {},
   "outputs": [],
   "source": [
    "# Dimmer para el rojo\n",
    "for i in range(0, 255, 10):\n",
    "    turtle.leds(i, 0, 0)\n",
    "    sleep(0.1)\n",
    "\n",
    "# Dimmer para el verde\n",
    "for i in range(0, 255, 10):\n",
    "    turtle.leds(0, i, 0)\n",
    "    sleep(0.1)\n",
    "\n",
    "# Dimmer para el azul\n",
    "for i in range(0, 255, 10):\n",
    "    turtle.leds(0, 0, i)\n",
    "    sleep(0.1)"
   ]
  },
  {
   "cell_type": "markdown",
   "metadata": {},
   "source": [
    "## A practicar!\n",
    "\n",
    "¿Cómo programarías el dimmer para el blanco?"
   ]
  },
  {
   "cell_type": "code",
   "execution_count": null,
   "metadata": {},
   "outputs": [],
   "source": []
  },
  {
   "cell_type": "markdown",
   "metadata": {},
   "source": [
    "## Avancemos!\n",
    "\n",
    "Próximo capítulo: [Tocar notas y hacer melodías](Tocar%20notas%20y%20hacer%20melodías.ipynb)"
   ]
  }
 ],
 "metadata": {
  "kernelspec": {
   "display_name": "Python 3.7.4 64-bit ('env': venv)",
   "language": "python",
   "name": "python37464bitenvvenv87dbb8ee0cea43de8d92d60a4e873277"
  },
  "language_info": {
   "codemirror_mode": {
    "name": "ipython",
    "version": 3
   },
   "file_extension": ".py",
   "mimetype": "text/x-python",
   "name": "python",
   "nbconvert_exporter": "python",
   "pygments_lexer": "ipython3",
   "version": "3.7.6"
  }
 },
 "nbformat": 4,
 "nbformat_minor": 4
}
