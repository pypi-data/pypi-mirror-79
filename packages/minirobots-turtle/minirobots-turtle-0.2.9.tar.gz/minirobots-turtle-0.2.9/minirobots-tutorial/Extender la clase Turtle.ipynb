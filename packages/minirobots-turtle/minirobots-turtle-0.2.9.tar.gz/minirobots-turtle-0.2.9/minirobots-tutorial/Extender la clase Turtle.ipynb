{
 "cells": [
  {
   "cell_type": "markdown",
   "metadata": {},
   "source": [
    "# Extender la clase Turtle\n",
    "\n",
    "### *Aprenderemos a agregar funciones a nuestros objetos tortuga*\n",
    "\n",
    "Hasta ahora hemos usado los objetos tortuga en funciones externas, como en el siguiente ejemplo, donde la función `dance` recibe el objeto `Turtle` sobre el que tiene que operar:"
   ]
  },
  {
   "cell_type": "code",
   "execution_count": null,
   "metadata": {},
   "outputs": [],
   "source": [
    "from random import randint\n",
    "from minirobots import Turtle\n",
    "\n",
    "turtles = [Turtle(\"15354b\"), Turtle(\"152d80\")]\n",
    "\n",
    "def dance(turtle):\n",
    "    turtle.forward(randint(5, 15))\n",
    "    turtle.right(randint(5, 15))\n",
    "    turtle.backward(randint(5, 15))\n",
    "    turtle.left(randint(5, 15))"
   ]
  },
  {
   "cell_type": "markdown",
   "metadata": {},
   "source": [
    "Pero existe otra forma, y es haciendo que las funciones sean parte del objeto. Esto se logra creando una clase derivada de `Turtle` y definiendo en ella los nuevos métodos. La nueva clase, que no puede llamarse también Tortuga, heredará todos los métodos de la clase base y la \"extenderá\" con nuevos métodos:"
   ]
  },
  {
   "cell_type": "code",
   "execution_count": null,
   "metadata": {},
   "outputs": [],
   "source": [
    "from random import randint\n",
    "from minirobots import Turtle\n",
    "\n",
    "class MyTurtle(Turtle):\n",
    "    \n",
    "    def __init__(self, *args, **kwargs):\n",
    "        super().__init__(*args, **kwargs)\n",
    "        self.auto_send(False)\n",
    "\n",
    "    def dance_step(self):\n",
    "        self.forward(randint(5, 15))\n",
    "        self.right(randint(5, 15))\n",
    "        self.backward(randint(5, 15))\n",
    "        self.left(randint(5, 15))\n",
    "        \n",
    "    def dance(self, steps=20):\n",
    "        for _ in range(steps):\n",
    "            self.play_random_note()\n",
    "            self.random_leds()\n",
    "            self.dance_step()\n",
    "        self.send()"
   ]
  },
  {
   "cell_type": "markdown",
   "metadata": {},
   "source": [
    "Como podemos observar, la forma de extender una clase en Python es mediante la sintaxis:\n",
    "\n",
    "```Python\n",
    "class MyExtendedClass(ClassBase):\n",
    "```\n",
    "\n",
    "Tambien podemos observar que es posible definir cierto comportamiento por defecto, como el de no enviar automáticamente cada comando al robot. Esto se hace dentro del constructor de la clase:\n",
    "\n",
    "```Python\n",
    "def __init__(self, *args, **kwargs):\n",
    "    super().__init__(*args, **kwargs)\n",
    "    self.auto_send(False)\n",
    "```\n",
    "\n",
    "Dentro de la clase nos referiremos a los métodos de la misma usando la palabra `self`.\n",
    "\n",
    "Finalmente definimos los nuevos métodos:\n",
    "\n",
    "```Python\n",
    "def dance_step(self):\n",
    "    self.forward(randint(5, 15))\n",
    "    self.right(randint(5, 15))\n",
    "    ...\n",
    "```"
   ]
  },
  {
   "cell_type": "markdown",
   "metadata": {},
   "source": [
    "### Usando la clase MyTurtle\n",
    "\n",
    "Ahora creamos dos objetos tortuga utilizando la nueva clase `MyTurtle`"
   ]
  },
  {
   "cell_type": "code",
   "execution_count": null,
   "metadata": {},
   "outputs": [],
   "source": [
    "turtles = [MyTurtle(\"15354b\"), MyTurtle(\"152d80\")]\n",
    "\n",
    "for turtle in turtles:\n",
    "    turtle.dance()"
   ]
  },
  {
   "cell_type": "markdown",
   "metadata": {},
   "source": [
    "## Avancemos!\n",
    "\n",
    "Próximo capítulo: [Detener la tortuga](Detener%20la%20tortuga.ipynb)"
   ]
  }
 ],
 "metadata": {
  "kernelspec": {
   "display_name": "Python 3.7.4 64-bit ('env': venv)",
   "language": "python",
   "name": "python37464bitenvvenv87dbb8ee0cea43de8d92d60a4e873277"
  },
  "language_info": {
   "codemirror_mode": {
    "name": "ipython",
    "version": 3
   },
   "file_extension": ".py",
   "mimetype": "text/x-python",
   "name": "python",
   "nbconvert_exporter": "python",
   "pygments_lexer": "ipython3",
   "version": "3.7.6"
  }
 },
 "nbformat": 4,
 "nbformat_minor": 4
}
