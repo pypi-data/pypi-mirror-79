{
 "cells": [
  {
   "cell_type": "markdown",
   "metadata": {},
   "source": [
    "# Múltiples tortugas\n",
    "\n",
    "### *Aprenderemos a manejar dos o más robots al mismo tiempo*\n",
    "\n",
    "Podemos controlar más de un robot creando un objeto Tortuga por cada robot que tengamos. Veamos un ejemplo con dos robots"
   ]
  },
  {
   "cell_type": "code",
   "execution_count": null,
   "metadata": {},
   "outputs": [],
   "source": [
    "from minirobots import Turtle\n",
    "\n",
    "turtle_1 = Turtle(\"15354b\")\n",
    "turtle_2 = Turtle(\"152d80\")"
   ]
  },
  {
   "cell_type": "markdown",
   "metadata": {},
   "source": [
    "Ahora podemos enviarle instrucciones a cada tortuga simplemente invocando su nombre. Hagamos que una de ellas encienda sus leds al azar, y la otra toque una nota al también al azar:"
   ]
  },
  {
   "cell_type": "code",
   "execution_count": null,
   "metadata": {},
   "outputs": [],
   "source": [
    "color = turtle_1.random_leds()\n",
    "note = turtle_2.play_random_note()\n",
    "print(color, note)"
   ]
  },
  {
   "cell_type": "markdown",
   "metadata": {},
   "source": [
    "Supongamos que ahora queremos que ambas hagan lo mismo varias veces, es decir, que ambas toque una nota al azar y enciendas sus leds al azar. Hagamos que repitan esto 5 veces con intervalos de 1 segundo:"
   ]
  },
  {
   "cell_type": "code",
   "execution_count": null,
   "metadata": {},
   "outputs": [],
   "source": [
    "from time import sleep\n",
    "\n",
    "for _ in range(5):\n",
    "    # Turtle 1\n",
    "    turtle_1.random_leds()\n",
    "    turtle_1.play_random_note()\n",
    "\n",
    "    # Turtle 2\n",
    "    turtle_2.random_leds()\n",
    "    turtle_2.play_random_note()\n",
    "\n",
    "    # Interval\n",
    "    sleep(1)"
   ]
  },
  {
   "cell_type": "markdown",
   "metadata": {},
   "source": [
    "Bien! esto funciona, pero notemos que tuvimos que repetir el mismo código para la tortuga 1 y 2. Si tuviéramos más instrucciones o incluso más tortugas tendríamos que repetir más líneas todavía. Existe un método mejor para esto!"
   ]
  },
  {
   "cell_type": "markdown",
   "metadata": {},
   "source": [
    "## Lista de tortugas\n",
    "\n",
    "Manejemos nuestras tortugas con una lista:"
   ]
  },
  {
   "cell_type": "code",
   "execution_count": null,
   "metadata": {},
   "outputs": [],
   "source": [
    "from minirobots import Turtle\n",
    "\n",
    "turtles = [Turtle(\"15354b\"), Turtle(\"152d80\"), Turtle(\"15335b\")]"
   ]
  },
  {
   "cell_type": "markdown",
   "metadata": {},
   "source": [
    "En nuestra lista de tortugas la tortuga 1 ahora es `turtle[0]` y la 2 ahora es `turtle[1]`. Pero normalmente no necesitamos referenciarlas así sino que podemos iterar la lista de tortugas para ir operando sobre cada una de ellas. Veamos nuevamente el ejemplo anterior usando esta nueva técnica:"
   ]
  },
  {
   "cell_type": "code",
   "execution_count": null,
   "metadata": {},
   "outputs": [],
   "source": [
    "from time import sleep\n",
    "\n",
    "for _ in range(5):\n",
    "    for turtle in turtles:\n",
    "        turtle.random_leds()\n",
    "        turtle.play_random_note()\n",
    "    sleep(1)"
   ]
  },
  {
   "cell_type": "markdown",
   "metadata": {},
   "source": [
    "Bien, eso está mejor, ahora el mismo código nos sirve para 2, 5 o más tortugas!"
   ]
  },
  {
   "cell_type": "markdown",
   "metadata": {},
   "source": [
    "## Baile de tortugas\n",
    "\n",
    "Hagamos que se muevan un poco!\n",
    "\n",
    "Creemos una función `bailar` que haga mover aleatoriamente a una tortuga. Esta función debe recibir el objeto tortuga sobre el cual operar:"
   ]
  },
  {
   "cell_type": "code",
   "execution_count": null,
   "metadata": {},
   "outputs": [],
   "source": [
    "from random import randint\n",
    "\n",
    "def dance(turtle):\n",
    "    turtle.forward(randint(5, 15))\n",
    "    turtle.right(randint(5, 15))\n",
    "    turtle.backward(randint(5, 15))\n",
    "    turtle.left(randint(5, 15))"
   ]
  },
  {
   "cell_type": "markdown",
   "metadata": {},
   "source": [
    "Excelente!\n",
    "\n",
    "Ahora podemos iterar nuestra lista de tortugas para hacerlas bailar!"
   ]
  },
  {
   "cell_type": "raw",
   "metadata": {},
   "source": [
    "for _ in range(20):\n",
    "    for turtle in turtles:\n",
    "        turtle.random_leds()\n",
    "        dance(turtle)"
   ]
  },
  {
   "cell_type": "markdown",
   "metadata": {},
   "source": [
    "## A practicar!\n",
    "\n",
    "Sabiendo que `Turtle.get_random_note()` devuelve una nota al azar:\n",
    "\n",
    "1. ¿Cómo harías para que ambas toquen la misma nota al azar en cada baile?\n",
    "2. Imprimí la nota a tocar en cada baile."
   ]
  },
  {
   "cell_type": "code",
   "execution_count": null,
   "metadata": {},
   "outputs": [],
   "source": []
  },
  {
   "cell_type": "markdown",
   "metadata": {},
   "source": [
    "## Avancemos!\n",
    "\n",
    "Próximo capítulo: [Optimizar la comunicación con la tortuga](Optimizar%20la%20comunicación%20con%20la%20tortuga.ipynb)"
   ]
  }
 ],
 "metadata": {
  "kernelspec": {
   "display_name": "Python 3.7.4 64-bit ('env': venv)",
   "language": "python",
   "name": "python37464bitenvvenv87dbb8ee0cea43de8d92d60a4e873277"
  },
  "language_info": {
   "codemirror_mode": {
    "name": "ipython",
    "version": 3
   },
   "file_extension": ".py",
   "mimetype": "text/x-python",
   "name": "python",
   "nbconvert_exporter": "python",
   "pygments_lexer": "ipython3",
   "version": "3.7.6"
  }
 },
 "nbformat": 4,
 "nbformat_minor": 4
}
