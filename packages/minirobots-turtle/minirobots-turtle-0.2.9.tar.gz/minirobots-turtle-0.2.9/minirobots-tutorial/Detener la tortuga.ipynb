{
 "cells": [
  {
   "cell_type": "markdown",
   "metadata": {},
   "source": [
    "# Detener la tortuga\n",
    "\n",
    "### *Aprenderemos a detener la ejecución de un programa*\n",
    "\n",
    "Suele pasar que durante la ejecución de un programa ves que la tortuga no hace lo que tenías en mente, sino lo que programaste :)\n",
    "\n",
    "Para esos casos existe la función `stop`, que te permitirá interrumpir la ejecución del programa inmediatamente después de la instrucción actual.\n",
    "\n",
    "Veamos un ejemplo:"
   ]
  },
  {
   "cell_type": "code",
   "execution_count": null,
   "metadata": {},
   "outputs": [],
   "source": [
    "from minirobots import Turtle\n",
    "\n",
    "turtle = Turtle(\"15354b\")\n",
    "\n",
    "turtle.auto_send(False)\n",
    "\n",
    "for i in range(18):\n",
    "    turtle.forward(100)\n",
    "    turtle.right(100)\n",
    "    \n",
    "turtle.send()"
   ]
  },
  {
   "cell_type": "markdown",
   "metadata": {},
   "source": [
    "A la tortuga le tomará un par de minutos completar este programa.\n",
    "\n",
    "Para detenerlo basta con la siguiente instrucción:"
   ]
  },
  {
   "cell_type": "code",
   "execution_count": null,
   "metadata": {},
   "outputs": [],
   "source": [
    "turtle.stop()"
   ]
  },
  {
   "cell_type": "markdown",
   "metadata": {},
   "source": [
    "## Felicitaciones!\n",
    "\n",
    "Finalizaste el tutorial. Ya sabés cómo programar la tortuga usando Python :)"
   ]
  }
 ],
 "metadata": {
  "kernelspec": {
   "display_name": "Python 3",
   "language": "python",
   "name": "python3"
  },
  "language_info": {
   "codemirror_mode": {
    "name": "ipython",
    "version": 3
   },
   "file_extension": ".py",
   "mimetype": "text/x-python",
   "name": "python",
   "nbconvert_exporter": "python",
   "pygments_lexer": "ipython3",
   "version": "3.7.6"
  }
 },
 "nbformat": 4,
 "nbformat_minor": 4
}
