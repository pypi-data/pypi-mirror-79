{
 "cells": [
  {
   "cell_type": "markdown",
   "metadata": {},
   "source": [
    "## pyDGSA tutorial (detailed version)\n",
    "\n",
    "This analytic example consists of 200 model simulations, each of which has 4 parameters and 2 responses. The model parameters are latin hypercube sampled values between 0 and 1:\n",
    "\n",
    "| v | w | x | y | z |\n",
    "|------|------|------|------|------|\n",
    "|0.7975|0.5725|0.5475|0.0675|0.6225|\n",
    "|0.8175|0.5125|0.3325|0.1325|0.6175|\n",
    "|0.2075|0.5925|0.7475|0.3625|0.4625|\n",
    "| .... | .... | .... | .... | .... |\n",
    "\n",
    "The responses are calculated as:\n",
    "\n",
    "| Resp. 1 | Resp. 2 |\n",
    "|---|---|\n",
    "| z | abs(x * (y - 1)) |\n",
    "\n",
    "Clearly, `z` should be the most sensitive parameter, followed by `x` and `y`. This is a modified version of the problem presented in <a href=\"https:doi.org/10.1007/s11004-014-9530-5\">Fenwick et al. (2014)</a>, with two extra parameters (`v` and `w`) that should have no influence on the model response."
   ]
  },
  {
   "cell_type": "code",
   "execution_count": 1,
   "metadata": {},
   "outputs": [],
   "source": [
    "import numpy as np\n",
    "\n",
    "# Load model parameters \n",
    "parameters = np.load('sample_data/analytic_params.npy')\n",
    "responses = np.empty((parameters.shape[0], 2), dtype='float64')\n",
    "\n",
    "# Construct model responses\n",
    "responses[:, 0] = parameters[:, 4]\n",
    "responses[:, 1] = np.abs(parameters[:, 2] * parameters[:, 3]-1)"
   ]
  },
  {
   "cell_type": "code",
   "execution_count": 2,
   "metadata": {},
   "outputs": [],
   "source": [
    "# Now, calculate the euclidean distances between model responses\n",
    "from scipy.spatial.distance import pdist, squareform\n",
    "\n",
    "distances = pdist(responses, metric='euclidean')\n",
    "distances = squareform(distances)"
   ]
  },
  {
   "cell_type": "code",
   "execution_count": 3,
   "metadata": {},
   "outputs": [],
   "source": [
    "# Cluster the responses using KMedoids\n",
    "from pyDGSA.cluster import KMedoids\n",
    "\n",
    "n_clusters = 3\n",
    "clusterer = KMedoids(n_clusters=n_clusters, max_iter=3000, tol=1e-4)\n",
    "labels = clusterer.fit_predict(distances)"
   ]
  },
  {
   "cell_type": "markdown",
   "metadata": {},
   "source": [
    "It's also easy to use a different clustering method, e.g.:\n",
    "```python\n",
    "from sklearn.cluster import KMeans\n",
    "\n",
    "n_clusters = 3\n",
    "clusterer = KMedoids(n_clusters=n_clusters, max_iter=3000, tol=1e-4)\n",
    "labels = clusterer.fit_predict(distances)\n",
    "```"
   ]
  },
  {
   "cell_type": "markdown",
   "metadata": {},
   "source": [
    "## Examples using `pyDGSA.dgsa`\n",
    "\n",
    "Next, let's calculate the mean standardized  sensitivity using a specific alpha quantile (0.99 instead of 0.95) and a larger number of boots (5000 instead of 3000). Recall that the sensitivity is defined as $\\frac{d}{d_{0.95}}$, so we are instead calculating $\\frac{d}{d_{0.99}}$."
   ]
  },
  {
   "cell_type": "code",
   "execution_count": 4,
   "metadata": {},
   "outputs": [
    {
     "data": {
      "application/vnd.jupyter.widget-view+json": {
       "model_id": "92cd37267c0b4871b48742329bc7a7c1",
       "version_major": 2,
       "version_minor": 0
      },
      "text/plain": [
       "HBox(children=(FloatProgress(value=0.0, max=5000.0), HTML(value='')))"
      ]
     },
     "metadata": {},
     "output_type": "display_data"
    },
    {
     "name": "stdout",
     "output_type": "stream",
     "text": [
      "\n",
      "   sensitivity\n",
      "v     0.587100\n",
      "w     0.273039\n",
      "x     1.843337\n",
      "y     1.504456\n",
      "z     2.861443\n"
     ]
    }
   ],
   "source": [
    "from pyDGSA.dgsa import dgsa\n",
    "\n",
    "parameter_names=['v', 'w', 'x', 'y', 'z']\n",
    "mean_sensitivity = dgsa(parameters, labels, parameter_names=parameter_names, quantile=0.99, \n",
    "            n_boots=5000)\n",
    "print(mean_sensitivity)"
   ]
  },
  {
   "cell_type": "markdown",
   "metadata": {},
   "source": [
    "Instead of showing the mean sensitivity averaged across all clusters, it's also possible to return the standardized sensitivity for each individual cluster. The example below provides names for each cluster, assuming you know the unique characteristics that define each cluster."
   ]
  },
  {
   "cell_type": "code",
   "execution_count": 5,
   "metadata": {},
   "outputs": [
    {
     "data": {
      "application/vnd.jupyter.widget-view+json": {
       "model_id": "58a8142e00f741c88119659f34021a52",
       "version_major": 2,
       "version_minor": 0
      },
      "text/plain": [
       "HBox(children=(FloatProgress(value=0.0, max=3000.0), HTML(value='')))"
      ]
     },
     "metadata": {},
     "output_type": "display_data"
    },
    {
     "name": "stdout",
     "output_type": "stream",
     "text": [
      "\n",
      "   Low cluster  Medium cluster  High cluster\n",
      "v     0.331557        1.135015      0.806510\n",
      "w     0.370312        0.287493      0.397152\n",
      "x     3.614254        1.439723      1.977828\n",
      "y     3.064226        1.337412      1.553329\n",
      "z     1.154575        4.946892      4.893795\n"
     ]
    }
   ],
   "source": [
    "cluster_names = ['Low cluster', 'Medium cluster', 'High cluster']\n",
    "\n",
    "cluster_sensitivity = dgsa(parameters, labels, parameter_names=parameter_names, \n",
    "                           output='cluster_avg', cluster_names=cluster_names)\n",
    "print(cluster_sensitivity)"
   ]
  },
  {
   "cell_type": "markdown",
   "metadata": {},
   "source": [
    "## Examples using `pyDGSA.dgsa_interactions`\n",
    "\n",
    "The pyDGSA package includes functionality for calcuating two-way parameter interactions. The fastest way to do so is to use all the default options."
   ]
  },
  {
   "cell_type": "code",
   "execution_count": 6,
   "metadata": {},
   "outputs": [
    {
     "data": {
      "application/vnd.jupyter.widget-view+json": {
       "model_id": "71b4e93bbf724b09983e2d96ec5b9369",
       "version_major": 2,
       "version_minor": 0
      },
      "text/plain": [
       "HBox(children=(FloatProgress(value=0.0, description='Performing DGSA', max=5.0, style=ProgressStyle(descriptio…"
      ]
     },
     "metadata": {},
     "output_type": "display_data"
    },
    {
     "data": {
      "application/vnd.jupyter.widget-view+json": {
       "model_id": "",
       "version_major": 2,
       "version_minor": 0
      },
      "text/plain": [
       "HBox(children=(FloatProgress(value=0.0, description='Resampling parameter 0', max=3.0, style=ProgressStyle(des…"
      ]
     },
     "metadata": {},
     "output_type": "display_data"
    },
    {
     "data": {
      "application/vnd.jupyter.widget-view+json": {
       "model_id": "",
       "version_major": 2,
       "version_minor": 0
      },
      "text/plain": [
       "HBox(children=(FloatProgress(value=0.0, description='Resampling parameter 1', max=3.0, style=ProgressStyle(des…"
      ]
     },
     "metadata": {},
     "output_type": "display_data"
    },
    {
     "data": {
      "application/vnd.jupyter.widget-view+json": {
       "model_id": "",
       "version_major": 2,
       "version_minor": 0
      },
      "text/plain": [
       "HBox(children=(FloatProgress(value=0.0, description='Resampling parameter 2', max=3.0, style=ProgressStyle(des…"
      ]
     },
     "metadata": {},
     "output_type": "display_data"
    },
    {
     "data": {
      "application/vnd.jupyter.widget-view+json": {
       "model_id": "",
       "version_major": 2,
       "version_minor": 0
      },
      "text/plain": [
       "HBox(children=(FloatProgress(value=0.0, description='Resampling parameter 3', max=3.0, style=ProgressStyle(des…"
      ]
     },
     "metadata": {},
     "output_type": "display_data"
    },
    {
     "data": {
      "application/vnd.jupyter.widget-view+json": {
       "model_id": "",
       "version_major": 2,
       "version_minor": 0
      },
      "text/plain": [
       "HBox(children=(FloatProgress(value=0.0, description='Resampling parameter 4', max=3.0, style=ProgressStyle(des…"
      ]
     },
     "metadata": {},
     "output_type": "display_data"
    },
    {
     "name": "stdout",
     "output_type": "stream",
     "text": [
      "\n",
      "      sensitivity\n",
      "x | y    0.782624\n",
      "v | y    0.725025\n",
      "y | x    0.723783\n",
      "z | x    0.720027\n",
      "y | z    0.716184\n",
      "w | v    0.694883\n",
      "x | v    0.650007\n",
      "v | x    0.630077\n",
      "z | w    0.627701\n",
      "z | y    0.603176\n",
      "v | w    0.589284\n",
      "y | v    0.572215\n",
      "z | v     0.54291\n",
      "x | w    0.487513\n",
      "w | y    0.466152\n",
      "x | z    0.433941\n",
      "v | z     0.41624\n",
      "w | z    0.406882\n",
      "y | w    0.405708\n",
      "w | x    0.317204\n"
     ]
    }
   ],
   "source": [
    "from pyDGSA.dgsa import dgsa_interactions\n",
    "\n",
    "mean_interact_sensitivity = dgsa_interactions(parameters, labels, \n",
    "                                              parameter_names=parameter_names)\n",
    "print(mean_interact_sensitivity)"
   ]
  },
  {
   "cell_type": "markdown",
   "metadata": {},
   "source": [
    "Or, it's possible to specify interactions between only a few conditional parameters. For example, to calculate sensitivity when `x` and `y` are conditioned to one of 5 bins:"
   ]
  },
  {
   "cell_type": "code",
   "execution_count": 7,
   "metadata": {},
   "outputs": [
    {
     "data": {
      "application/vnd.jupyter.widget-view+json": {
       "model_id": "35b1c9279aa54dd0a9ef66f580a5fe48",
       "version_major": 2,
       "version_minor": 0
      },
      "text/plain": [
       "HBox(children=(FloatProgress(value=0.0, description='Performing DGSA', max=2.0, style=ProgressStyle(descriptio…"
      ]
     },
     "metadata": {},
     "output_type": "display_data"
    },
    {
     "data": {
      "application/vnd.jupyter.widget-view+json": {
       "model_id": "",
       "version_major": 2,
       "version_minor": 0
      },
      "text/plain": [
       "HBox(children=(FloatProgress(value=0.0, description='Resampling parameter 2', max=3.0, style=ProgressStyle(des…"
      ]
     },
     "metadata": {},
     "output_type": "display_data"
    },
    {
     "data": {
      "application/vnd.jupyter.widget-view+json": {
       "model_id": "",
       "version_major": 2,
       "version_minor": 0
      },
      "text/plain": [
       "HBox(children=(FloatProgress(value=0.0, description='Resampling parameter 3', max=3.0, style=ProgressStyle(des…"
      ]
     },
     "metadata": {},
     "output_type": "display_data"
    },
    {
     "name": "stdout",
     "output_type": "stream",
     "text": [
      "\n",
      "      sensitivity\n",
      "x | y    0.714607\n",
      "y | x    0.699221\n",
      "z | x    0.675568\n",
      "v | x    0.624341\n",
      "w | y    0.567271\n",
      "z | y    0.546784\n",
      "v | y    0.516475\n",
      "w | x     0.44811\n"
     ]
    }
   ],
   "source": [
    "sens = dgsa_interactions(parameters, labels, \n",
    "                         cond_parameters=['x', 'y'], \n",
    "                         parameter_names=parameter_names, \n",
    "                         n_bins=5)\n",
    "print(sens)"
   ]
  },
  {
   "cell_type": "markdown",
   "metadata": {},
   "source": [
    "The sensitivity values reported above are averaged over each cluster and bin. To get the standardized sensitivity on individual cluster/bin levels, specify the output format (`output='cluster_avg'` or `output='bin_avg'`). "
   ]
  },
  {
   "cell_type": "code",
   "execution_count": 8,
   "metadata": {},
   "outputs": [
    {
     "data": {
      "application/vnd.jupyter.widget-view+json": {
       "model_id": "50d7fc3d358e4c7da92066557ecbaf47",
       "version_major": 2,
       "version_minor": 0
      },
      "text/plain": [
       "HBox(children=(FloatProgress(value=0.0, description='Performing DGSA', max=5.0, style=ProgressStyle(descriptio…"
      ]
     },
     "metadata": {},
     "output_type": "display_data"
    },
    {
     "data": {
      "application/vnd.jupyter.widget-view+json": {
       "model_id": "",
       "version_major": 2,
       "version_minor": 0
      },
      "text/plain": [
       "HBox(children=(FloatProgress(value=0.0, description='Resampling parameter 0', max=3.0, style=ProgressStyle(des…"
      ]
     },
     "metadata": {},
     "output_type": "display_data"
    },
    {
     "data": {
      "application/vnd.jupyter.widget-view+json": {
       "model_id": "",
       "version_major": 2,
       "version_minor": 0
      },
      "text/plain": [
       "HBox(children=(FloatProgress(value=0.0, description='Resampling parameter 1', max=3.0, style=ProgressStyle(des…"
      ]
     },
     "metadata": {},
     "output_type": "display_data"
    },
    {
     "data": {
      "application/vnd.jupyter.widget-view+json": {
       "model_id": "",
       "version_major": 2,
       "version_minor": 0
      },
      "text/plain": [
       "HBox(children=(FloatProgress(value=0.0, description='Resampling parameter 2', max=3.0, style=ProgressStyle(des…"
      ]
     },
     "metadata": {},
     "output_type": "display_data"
    },
    {
     "data": {
      "application/vnd.jupyter.widget-view+json": {
       "model_id": "",
       "version_major": 2,
       "version_minor": 0
      },
      "text/plain": [
       "HBox(children=(FloatProgress(value=0.0, description='Resampling parameter 3', max=3.0, style=ProgressStyle(des…"
      ]
     },
     "metadata": {},
     "output_type": "display_data"
    },
    {
     "data": {
      "application/vnd.jupyter.widget-view+json": {
       "model_id": "",
       "version_major": 2,
       "version_minor": 0
      },
      "text/plain": [
       "HBox(children=(FloatProgress(value=0.0, description='Resampling parameter 4', max=3.0, style=ProgressStyle(des…"
      ]
     },
     "metadata": {},
     "output_type": "display_data"
    },
    {
     "name": "stdout",
     "output_type": "stream",
     "text": [
      "\n",
      "      Low cluster Medium cluster High cluster\n",
      "w | v    0.840965        0.60779     0.628944\n",
      "x | v     0.73186       0.462159     0.754205\n",
      "y | v    0.787249       0.470328     0.465353\n",
      "z | v    0.762647       0.471821     0.386131\n",
      "v | w    0.782615       0.627161     0.350012\n",
      "x | w    0.439939       0.334031     0.683163\n",
      "y | w    0.410406       0.415615      0.38586\n",
      "z | w    0.592238       0.697645     0.600343\n",
      "v | x    0.700479       0.311718     0.849164\n",
      "w | x    0.234373       0.223823      0.50843\n",
      "y | x    0.663542       0.724102     0.776895\n",
      "z | x    0.843735        0.47756     0.822247\n",
      "v | y    0.912803         0.6252     0.621168\n",
      "w | y    0.465125       0.560287       0.3917\n",
      "x | y    0.644408       0.836987      0.84841\n",
      "z | y    0.780318       0.541339     0.466625\n",
      "v | z    0.837734       0.187207     0.209939\n",
      "w | z    0.329375       0.575774     0.330767\n",
      "x | z    0.609814       0.268334     0.433049\n",
      "y | z    0.738986        1.00598     0.442404\n"
     ]
    }
   ],
   "source": [
    "cluster_interact_sensitivity = dgsa_interactions(parameters, labels, \n",
    "                                                 parameter_names=parameter_names,\n",
    "                                                 cluster_names=cluster_names, \n",
    "                                                 output='cluster_avg')\n",
    "print(cluster_interact_sensitivity)"
   ]
  },
  {
   "cell_type": "markdown",
   "metadata": {},
   "source": [
    "To get the standardized sensitivity for each individual bin and cluster, specify `output='indiv'`:"
   ]
  },
  {
   "cell_type": "code",
   "execution_count": 9,
   "metadata": {},
   "outputs": [
    {
     "data": {
      "application/vnd.jupyter.widget-view+json": {
       "model_id": "4ac26c71149b41b69ecafbd933d65a6e",
       "version_major": 2,
       "version_minor": 0
      },
      "text/plain": [
       "HBox(children=(FloatProgress(value=0.0, description='Performing DGSA', max=5.0, style=ProgressStyle(descriptio…"
      ]
     },
     "metadata": {},
     "output_type": "display_data"
    },
    {
     "data": {
      "application/vnd.jupyter.widget-view+json": {
       "model_id": "",
       "version_major": 2,
       "version_minor": 0
      },
      "text/plain": [
       "HBox(children=(FloatProgress(value=0.0, description='Resampling parameter 0', max=3.0, style=ProgressStyle(des…"
      ]
     },
     "metadata": {},
     "output_type": "display_data"
    },
    {
     "data": {
      "application/vnd.jupyter.widget-view+json": {
       "model_id": "",
       "version_major": 2,
       "version_minor": 0
      },
      "text/plain": [
       "HBox(children=(FloatProgress(value=0.0, description='Resampling parameter 1', max=3.0, style=ProgressStyle(des…"
      ]
     },
     "metadata": {},
     "output_type": "display_data"
    },
    {
     "data": {
      "application/vnd.jupyter.widget-view+json": {
       "model_id": "",
       "version_major": 2,
       "version_minor": 0
      },
      "text/plain": [
       "HBox(children=(FloatProgress(value=0.0, description='Resampling parameter 2', max=3.0, style=ProgressStyle(des…"
      ]
     },
     "metadata": {},
     "output_type": "display_data"
    },
    {
     "data": {
      "application/vnd.jupyter.widget-view+json": {
       "model_id": "",
       "version_major": 2,
       "version_minor": 0
      },
      "text/plain": [
       "HBox(children=(FloatProgress(value=0.0, description='Resampling parameter 3', max=3.0, style=ProgressStyle(des…"
      ]
     },
     "metadata": {},
     "output_type": "display_data"
    },
    {
     "data": {
      "application/vnd.jupyter.widget-view+json": {
       "model_id": "",
       "version_major": 2,
       "version_minor": 0
      },
      "text/plain": [
       "HBox(children=(FloatProgress(value=0.0, description='Resampling parameter 4', max=3.0, style=ProgressStyle(des…"
      ]
     },
     "metadata": {},
     "output_type": "display_data"
    },
    {
     "name": "stdout",
     "output_type": "stream",
     "text": [
      "\n",
      "      Low cluster                     Medium cluster                      \\\n",
      "            Bin 0     Bin 1     Bin 2          Bin 0     Bin 1     Bin 2   \n",
      "w | v    0.545677  0.881947   1.07386       0.448242  0.560986  0.822026   \n",
      "x | v     1.01988  0.444124  0.797684       0.498475  0.536831  0.361047   \n",
      "y | v     1.13247  0.846589  0.379065       0.402399  0.605188   0.42903   \n",
      "z | v    0.984632  0.407056  0.896998       0.597764  0.346984  0.464669   \n",
      "v | w    0.622766  0.555965   1.18281       0.406768  0.656024  0.833447   \n",
      "x | w    0.380146  0.392521  0.537376       0.247899  0.392903  0.366644   \n",
      "y | w    0.326716  0.461924   0.47329       0.341695   0.32255  0.562066   \n",
      "z | w    0.690982  0.608705   0.46237       0.461792  0.943126  0.676915   \n",
      "v | x         NaN  0.660125  0.772907       0.385025  0.410726  0.156361   \n",
      "w | x         NaN  0.253131  0.204626       0.276428  0.194077  0.208153   \n",
      "y | x         NaN  0.673617  0.655781       0.402096  0.689789   1.11125   \n",
      "z | x         NaN  0.895566  0.792293       0.547798  0.334952  0.542983   \n",
      "v | y         NaN  0.894388   0.92664        0.46472  0.910975  0.513036   \n",
      "w | y         NaN  0.380749    0.5258        0.66715  0.684296  0.312395   \n",
      "x | y         NaN   0.50417  0.756397        1.09844  0.578008  0.815914   \n",
      "z | y         NaN  0.808541   0.77189       0.261892  0.603465  0.745251   \n",
      "v | z    0.747812  0.582797   1.18237            NaN   0.16275  0.216449   \n",
      "w | z    0.410911  0.250728  0.344635            NaN  0.584252  0.548024   \n",
      "x | z    0.906432  0.692226  0.206127            NaN  0.192036  0.345659   \n",
      "y | z     1.00118  0.634011  0.600667            NaN    0.9667   1.02718   \n",
      "\n",
      "      High cluster                      \n",
      "             Bin 0     Bin 1     Bin 2  \n",
      "w | v     0.442167  0.775134  0.662499  \n",
      "x | v     0.985714  0.538502  0.712221  \n",
      "y | v     0.437656  0.572303  0.408144  \n",
      "z | v     0.317013  0.337836  0.519069  \n",
      "v | w     0.194903  0.335421  0.544849  \n",
      "x | w     0.845736  0.863377  0.378913  \n",
      "y | w     0.506963  0.307121   0.34123  \n",
      "z | w     0.387801  0.750581  0.654373  \n",
      "v | x     0.894019  0.403088   1.24782  \n",
      "w | x     0.478976  0.494684  0.517817  \n",
      "y | x     0.833773  0.262613   1.24339  \n",
      "z | x     0.587684   1.09804  0.833382  \n",
      "v | y     0.526164  0.788009  0.587861  \n",
      "w | y     0.510831  0.224011  0.445876  \n",
      "x | y     0.958614  0.276965   1.34341  \n",
      "z | y     0.189475  0.594255  0.610107  \n",
      "v | z     0.219736  0.201854       NaN  \n",
      "w | z     0.325524  0.329158       NaN  \n",
      "x | z     0.399791  0.460931       NaN  \n",
      "y | z     0.406363  0.455586       NaN  \n"
     ]
    }
   ],
   "source": [
    "from pyDGSA.dgsa import dgsa_interactions\n",
    "raw_interact_sensitivity = dgsa_interactions(parameters, labels, \n",
    "                                             parameter_names=parameter_names,\n",
    "                                             cluster_names=cluster_names, \n",
    "                                             output='indiv')\n",
    "print(raw_interact_sensitivity)"
   ]
  },
  {
   "cell_type": "markdown",
   "metadata": {},
   "source": [
    "## Examples using `pyDGSA.plot`\n",
    "\n",
    "### Plotting `dgsa` results\n",
    "\n",
    "First, let's generate a pareto plot of the mean_sensitivity, but only show paraemters with \n",
    "sensitivty >= 1 (ie, when the hypothesis test is rejected), plus the next most sensitive parameter (`np_plot='+1'`)"
   ]
  },
  {
   "cell_type": "code",
   "execution_count": 10,
   "metadata": {},
   "outputs": [
    {
     "data": {
      "image/png": "[encoded data removed]",
      "text/plain": [
       "<Figure size 360x144 with 1 Axes>"
      ]
     },
     "metadata": {
      "needs_background": "light"
     },
     "output_type": "display_data"
    }
   ],
   "source": [
    "from pyDGSA.plot import vert_pareto_plot\n",
    "\n",
    "fig, ax = vert_pareto_plot(mean_sensitivity, np_plot='+1')"
   ]
  },
  {
   "cell_type": "markdown",
   "metadata": {},
   "source": [
    "It's also possible to create a pareto plot of cluster-specific sensitivities, using pre-defined colors for each cluster. Defining the colors is useful for keeping cluster colors consistent across multiple plots"
   ]
  },
  {
   "cell_type": "code",
   "execution_count": 11,
   "metadata": {},
   "outputs": [
    {
     "data": {
      "image/png": "[encoded data removed]",
      "text/plain": [
       "<Figure size 360x144 with 1 Axes>"
      ]
     },
     "metadata": {
      "needs_background": "light"
     },
     "output_type": "display_data"
    }
   ],
   "source": [
    "# Define the colors for each cluster\n",
    "cluster_colors = ['orange', 'green', 'yellow']\n",
    "\n",
    "# Only plot 3 parameters total to save space (np_plot=3)\n",
    "fig, ax = vert_pareto_plot(cluster_sensitivity, np_plot=3, fmt='cluster_avg', \n",
    "                           colors=cluster_colors)"
   ]
  },
  {
   "cell_type": "markdown",
   "metadata": {},
   "source": [
    "Next, plot the cdf for parameter `z`, using the same color scheme as the pareto plot above."
   ]
  },
  {
   "cell_type": "code",
   "execution_count": 12,
   "metadata": {},
   "outputs": [
    {
     "data": {
      "image/png": "[encoded data removed]",
      "text/plain": [
       "<Figure size 360x360 with 1 Axes>"
      ]
     },
     "metadata": {
      "needs_background": "light"
     },
     "output_type": "display_data"
    }
   ],
   "source": [
    "from pyDGSA.plot import plot_cdf\n",
    "\n",
    "fig, ax = plot_cdf(parameters, labels, 'z', parameter_names=parameter_names, \n",
    "                   cluster_names=cluster_names, colors=cluster_colors)"
   ]
  },
  {
   "cell_type": "markdown",
   "metadata": {},
   "source": [
    "### Plotting `dgsa_interactions` results\n",
    "\n",
    "To display pareto plots of two-way parameter interactions averaged across each cluster and each bin, the options are the same as when plotting `dgsa` results"
   ]
  },
  {
   "cell_type": "code",
   "execution_count": 13,
   "metadata": {},
   "outputs": [
    {
     "data": {
      "image/png": "[encoded data removed]",
      "text/plain": [
       "<Figure size 360x288 with 1 Axes>"
      ]
     },
     "metadata": {
      "needs_background": "light"
     },
     "output_type": "display_data"
    }
   ],
   "source": [
    "# Only show interactions with sensitivity >= 1 and the next 5 most \n",
    "# sensitive interactions (np_plot = '+8')\n",
    "fig, ax = vert_pareto_plot(mean_interact_sensitivity, np_plot='+8')"
   ]
  },
  {
   "cell_type": "markdown",
   "metadata": {},
   "source": [
    "Similarly, the options when cluster-specific `dgsa_interactions` results is the same as when plotting cluster-specific `dgsa` results."
   ]
  },
  {
   "cell_type": "code",
   "execution_count": 14,
   "metadata": {},
   "outputs": [
    {
     "data": {
      "image/png": "[encoded data removed]",
      "text/plain": [
       "<Figure size 360x288 with 1 Axes>"
      ]
     },
     "metadata": {
      "needs_background": "light"
     },
     "output_type": "display_data"
    }
   ],
   "source": [
    "# By default, np_plot = '+5'\n",
    "fig, ax = vert_pareto_plot(cluster_interact_sensitivity, \n",
    "                           fmt='cluster_avg',\n",
    "                           colors=cluster_colors)"
   ]
  },
  {
   "cell_type": "markdown",
   "metadata": {},
   "source": [
    "Plot the standardized sensitivity for each bin/cluster combination is also possible. Note that the bars with a bold outline represent those for which the sensitivity >= 1."
   ]
  },
  {
   "cell_type": "code",
   "execution_count": 12,
   "metadata": {},
   "outputs": [
    {
     "data": {
      "image/png": "[encoded data removed]",
      "text/plain": [
       "<Figure size 360x432 with 1 Axes>"
      ]
     },
     "metadata": {
      "needs_background": "light"
     },
     "output_type": "display_data"
    }
   ],
   "source": [
    "fig, ax = vert_pareto_plot(raw_interact_sensitivity, \n",
    "                           fmt='indiv',\n",
    "                           colors=cluster_colors,\n",
    "                           np_plot=8)"
   ]
  }
 ],
 "metadata": {
  "kernelspec": {
   "display_name": "Python 3",
   "language": "python",
   "name": "python3"
  },
  "language_info": {
   "codemirror_mode": {
    "name": "ipython",
    "version": 3
   },
   "file_extension": ".py",
   "mimetype": "text/x-python",
   "name": "python",
   "nbconvert_exporter": "python",
   "pygments_lexer": "ipython3",
   "version": "3.8.3"
  }
 },
 "nbformat": 4,
 "nbformat_minor": 4
}
