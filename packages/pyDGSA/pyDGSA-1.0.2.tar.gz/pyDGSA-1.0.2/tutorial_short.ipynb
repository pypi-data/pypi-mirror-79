{
 "cells": [
  {
   "cell_type": "markdown",
   "metadata": {},
   "source": [
    "## pyDGSA tutorial (short version)\n",
    "\n",
    "This analytic example consists of 200 model simulations, each of which has 4 parameters and 2 responses. The model parameters are latin hypercube sampled values between 0 and 1:\n",
    "\n",
    "| v | w | x | y | z |\n",
    "|------|------|------|------|------|\n",
    "|0.7975|0.5725|0.5475|0.0675|0.6225|\n",
    "|0.8175|0.5125|0.3325|0.1325|0.6175|\n",
    "|0.2075|0.5925|0.7475|0.3625|0.4625|\n",
    "| .... | .... | .... | .... | .... |\n",
    "\n",
    "The responses are calculated as:\n",
    "\n",
    "| Resp. 1 | Resp. 2 |\n",
    "|---|---|\n",
    "| z | abs(x * (y - 1)) |\n",
    "\n",
    "Clearly, `z` should be the most sensitive parameter, followed by `x` and `y`. This is a modified version of the problem presented in <a href=\"https:doi.org/10.1007/s11004-014-9530-5\">Fenwick et al. (2014)</a>, with two extra parameters (`v` and `w`) that should have no influence on the model response."
   ]
  },
  {
   "cell_type": "code",
   "execution_count": 1,
   "metadata": {},
   "outputs": [],
   "source": [
    "import numpy as np\n",
    "\n",
    "# Load model parameters \n",
    "parameters = np.load('sample_data/analytic_params.npy')\n",
    "responses = np.empty((parameters.shape[0], 2), dtype='float64')\n",
    "\n",
    "# Construct model responses\n",
    "responses[:, 0] = parameters[:, 4]\n",
    "responses[:, 1] = np.abs(parameters[:, 2] * parameters[:, 3]-1)"
   ]
  },
  {
   "cell_type": "code",
   "execution_count": 2,
   "metadata": {},
   "outputs": [],
   "source": [
    "# Now, calculate the euclidean distances between model responses\n",
    "from scipy.spatial.distance import pdist, squareform\n",
    "\n",
    "distances = pdist(responses, metric='euclidean')\n",
    "distances = squareform(distances)"
   ]
  },
  {
   "cell_type": "code",
   "execution_count": 3,
   "metadata": {},
   "outputs": [],
   "source": [
    "# Cluster the responses using KMedoids\n",
    "from pyDGSA.cluster import KMedoids\n",
    "\n",
    "n_clusters = 3\n",
    "clusterer = KMedoids(n_clusters=n_clusters, max_iter=3000, tol=1e-4)\n",
    "labels = clusterer.fit_predict(distances)"
   ]
  },
  {
   "cell_type": "code",
   "execution_count": 4,
   "metadata": {},
   "outputs": [
    {
     "data": {
      "application/vnd.jupyter.widget-view+json": {
       "model_id": "33485fd2491548d0ad57ed72867eb2a0",
       "version_major": 2,
       "version_minor": 0
      },
      "text/plain": [
       "HBox(children=(FloatProgress(value=0.0, max=3000.0), HTML(value='')))"
      ]
     },
     "metadata": {},
     "output_type": "display_data"
    },
    {
     "name": "stdout",
     "output_type": "stream",
     "text": [
      "\n",
      "   sensitivity\n",
      "v     0.894977\n",
      "w     0.481852\n",
      "x     2.131929\n",
      "y     2.240401\n",
      "z     3.760630\n"
     ]
    }
   ],
   "source": [
    "# Calculate mean sensitivity across clusters\n",
    "from pyDGSA.dgsa import dgsa\n",
    "\n",
    "sens = dgsa(parameters, labels, parameter_names=['v', 'w', 'x', 'y', 'z'])\n",
    "print(sens)"
   ]
  },
  {
   "cell_type": "code",
   "execution_count": 5,
   "metadata": {},
   "outputs": [
    {
     "data": {
      "image/png": "[encoded data removed]",
      "text/plain": [
       "<Figure size 360x144 with 1 Axes>"
      ]
     },
     "metadata": {
      "needs_background": "light"
     },
     "output_type": "display_data"
    }
   ],
   "source": [
    "# Generate a pareto plot of the results\n",
    "from pyDGSA.plot import vert_pareto_plot\n",
    "\n",
    "fig, ax = vert_pareto_plot(sens)"
   ]
  }
 ],
 "metadata": {
  "kernelspec": {
   "display_name": "Python 3",
   "language": "python",
   "name": "python3"
  },
  "language_info": {
   "codemirror_mode": {
    "name": "ipython",
    "version": 3
   },
   "file_extension": ".py",
   "mimetype": "text/x-python",
   "name": "python",
   "nbconvert_exporter": "python",
   "pygments_lexer": "ipython3",
   "version": "3.8.3"
  }
 },
 "nbformat": 4,
 "nbformat_minor": 4
}
